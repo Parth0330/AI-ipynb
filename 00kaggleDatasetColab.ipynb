{
  "cells": [
    {
      "cell_type": "markdown",
      "metadata": {
        "id": "view-in-github",
        "colab_type": "text"
      },
      "source": [
        "<a href=\"https://colab.research.google.com/github/vkjadon/AI-ipynb/blob/master/00kaggleDatasetColab.ipynb\" target=\"_parent\"><img src=\"https://colab.research.google.com/assets/colab-badge.svg\" alt=\"Open In Colab\"/></a>"
      ]
    },
    {
      "cell_type": "markdown",
      "metadata": {
        "id": "VbedTufhxyFq"
      },
      "source": [
        "## Kaggle Side\n",
        "1.   Open kaggle.com\n",
        "2.   Click on the kaggle icon (upper right corner) adjacent to search input.\n",
        "3. Click on the `Account`.\n",
        "4. Scroll down to locale `API'.\n",
        "5. Click on the \"Create New API Tocken\" button.\n",
        "6. A file with name \"kaggle.json\" is downloaded\n",
        "\n",
        "## Colab Side\n",
        "\n",
        "1. Open Colab\n",
        "2. pip install the kaggle `!pip install -q kaggle`\n",
        "3. Click on the \"Folder\" icon (last item in the first left column of the icons).\n",
        "4. Upload the Downloaded File using the upload icon. The first of the three icons appearing at top of the content tree.\n",
        "5. Create directory `!mkdir ~/.kaggle`\n",
        "6. Copy the uploaded file into the folder created in the previous step using `!cp kaggle.json ~/.kaggle/`.\n",
        "\n"
      ]
    },
    {
      "cell_type": "code",
      "execution_count": null,
      "metadata": {
        "id": "bNeHR7Bi5RDe"
      },
      "outputs": [],
      "source": [
        "!pip install -q kaggle"
      ]
    },
    {
      "cell_type": "code",
      "execution_count": 3,
      "metadata": {
        "id": "JLu_9W2iTwl7"
      },
      "outputs": [],
      "source": [
        "!mkdir ~/.kaggle "
      ]
    },
    {
      "cell_type": "code",
      "execution_count": 4,
      "metadata": {
        "id": "Wynp15BrUWTA"
      },
      "outputs": [],
      "source": [
        "!cp kaggle.json ~/.kaggle/"
      ]
    },
    {
      "cell_type": "markdown",
      "source": [
        "To check the permission configuration of a file, use the command ls -l"
      ],
      "metadata": {
        "id": "hZCbZ1vRLMCk"
      }
    },
    {
      "cell_type": "code",
      "source": [
        "!ls -l kaggle.json"
      ],
      "metadata": {
        "colab": {
          "base_uri": "https://localhost:8080/"
        },
        "id": "LlUxNlq9LPO6",
        "outputId": "0d13713b-af24-4d9a-9e50-0b43c71bee66"
      },
      "execution_count": 5,
      "outputs": [
        {
          "output_type": "stream",
          "name": "stdout",
          "text": [
            "-rw-r--r-- 1 root root 67 Jul 19 01:52 kaggle.json\n"
          ]
        }
      ]
    },
    {
      "cell_type": "markdown",
      "source": [
        "The first '-' represents File Type. It can either be a regular file (–), a directory (d) or a link (i).\n",
        "The next 09 letters are divided in three groups with each group having three letters. Each letter can be 'r', 'w', 'x' or '-'.\n",
        "\n",
        "r : read\n",
        "w : write\n",
        "x : execute\n",
        "- : No permission\n",
        "\n",
        "- The first group of three letters belongs to owner.\n",
        "- The second group belongs to a group of users\n",
        "- The third group of three letters belongs to any user.\n",
        "\n"
      ],
      "metadata": {
        "id": "xdK6-H8lLtNN"
      }
    },
    {
      "cell_type": "code",
      "execution_count": null,
      "metadata": {
        "id": "es3UsD_CUeGq"
      },
      "outputs": [],
      "source": [
        "!chmod 600 ~/.kaggle/kaggle.json"
      ]
    },
    {
      "cell_type": "code",
      "source": [
        ""
      ],
      "metadata": {
        "id": "U0OoI-hQKZPi"
      },
      "execution_count": null,
      "outputs": []
    },
    {
      "cell_type": "code",
      "execution_count": null,
      "metadata": {
        "colab": {
          "base_uri": "https://localhost:8080/"
        },
        "id": "xiwBJlF051sE",
        "outputId": "f1326276-00da-4bdf-a850-a8c15197e755"
      },
      "outputs": [
        {
          "output_type": "stream",
          "name": "stdout",
          "text": [
            "Warning: Looks like you're using an outdated API Version, please consider updating (server 1.5.12 / client 1.5.4)\n",
            "ref                                                         title                                               size  lastUpdated          downloadCount  \n",
            "----------------------------------------------------------  -------------------------------------------------  -----  -------------------  -------------  \n",
            "yamqwe/omicron-covid19-variant-daily-cases                  Omicron daily cases by country (COVID-19 variant)  432KB  2022-01-22 13:14:13           6710  \n",
            "nkitgupta/jigsaw-regression-based-data                      Jigsaw Regression Based Data                         3GB  2022-01-10 06:29:59            415  \n",
            "prasertk/netflix-subscription-price-in-different-countries  Netflix subscription fee in different countries      3KB  2022-01-15 07:06:09            589  \n",
            "yasserh/song-popularity-dataset                             Song Popularity Dataset                            805KB  2022-01-07 13:18:43            983  \n",
            "vishalmane10/anime-dataset-2022                             Anime DataSet 2022                                   5MB  2022-01-16 13:56:16            318  \n",
            "yasserh/wine-quality-dataset                                Wine Quality Dataset                                21KB  2022-01-15 19:15:11            475  \n",
            "carlmcbrideellis/gdp-20152019-finland-norway-and-sweden     GDP 2015-2019: Finland, Norway, and Sweden          365B  2022-01-05 07:48:49            362  \n",
            "yasserh/uber-fares-dataset                                  Uber Fares Dataset                                   7MB  2022-01-01 15:54:14            828  \n",
            "dansbecker/melbourne-housing-snapshot                       Melbourne Housing Snapshot                         451KB  2018-06-05 12:52:24          79112  \n",
            "augustlinnman/cholera-outbreak-stockholm-1853               Cholera Outbreak, Stockholm, 1853                    2KB  2022-01-21 18:55:10            118  \n",
            "iamsouravbanerjee/analytics-industry-salaries-2022-india    Data Professionals Salary - 2022                    56KB  2022-01-20 13:24:41            571  \n",
            "fedesoriano/stellar-classification-dataset-sdss17           Stellar Classification Dataset - SDSS17              7MB  2022-01-15 17:11:30            159  \n",
            "datasnaek/youtube-new                                       Trending YouTube Video Statistics                  201MB  2019-06-03 00:56:47         163989  \n",
            "zynicide/wine-reviews                                       Wine Reviews                                        51MB  2017-11-27 17:08:04         152950  \n",
            "residentmario/ramen-ratings                                 Ramen Ratings                                       40KB  2018-01-11 16:04:39          32102  \n",
            "datasnaek/chess                                             Chess Game Dataset (Lichess)                         3MB  2017-09-04 03:09:09          27158  \n",
            "jpmiller/publicassistance                                   US Public Food Assistance                          703KB  2020-08-21 16:51:18          15366  \n",
            "rtatman/188-million-us-wildfires                            1.88 Million US Wildfires                          168MB  2020-05-12 21:03:49          18633  \n",
            "nasa/kepler-exoplanet-search-results                        Kepler Exoplanet Search Results                      1MB  2017-10-10 18:26:59           9774  \n",
            "residentmario/things-on-reddit                              Things on Reddit                                    16MB  2017-10-26 14:10:15           8017  \n"
          ]
        }
      ],
      "source": [
        "!kaggle datasets list"
      ]
    },
    {
      "cell_type": "markdown",
      "source": [
        "## Accessing Google Drive"
      ],
      "metadata": {
        "id": "38baNIjuCVzu"
      }
    },
    {
      "cell_type": "markdown",
      "source": [
        "\n",
        "\n",
        "\n",
        "1. Click on the Drive button in the Files top menu(the last of three icons).\n",
        "2. This will add two lines of code to mount the drive.  \n",
        "3. Execute the code to mount.\n",
        "4. Copy and Paste the code below if you are unable to locate the button.  \n",
        "`from google.colab import drive`   \n",
        "`drive.mount('/content/drive')`\n",
        "5. A new directory(folder) with the name `drive` will appear.\n"
      ],
      "metadata": {
        "id": "hDV5bb4mCk_E"
      }
    },
    {
      "cell_type": "code",
      "source": [
        "from google.colab import drive\n",
        "drive.mount('/content/drive')"
      ],
      "metadata": {
        "colab": {
          "base_uri": "https://localhost:8080/"
        },
        "id": "QbfjKmjTC_r9",
        "outputId": "939da741-6750-42a2-a686-63a9035f6880"
      },
      "execution_count": null,
      "outputs": [
        {
          "output_type": "stream",
          "name": "stdout",
          "text": [
            "Mounted at /content/drive\n"
          ]
        }
      ]
    },
    {
      "cell_type": "markdown",
      "source": [
        "Use `!pwd` to verify the present working directory."
      ],
      "metadata": {
        "id": "ITUKYBxRFdRv"
      }
    },
    {
      "cell_type": "code",
      "source": [
        "!pwd"
      ],
      "metadata": {
        "colab": {
          "base_uri": "https://localhost:8080/"
        },
        "id": "5Y8aC0I8FlBK",
        "outputId": "0c79c373-243c-4435-aa88-b4fca1dee12f"
      },
      "execution_count": null,
      "outputs": [
        {
          "output_type": "stream",
          "name": "stdout",
          "text": [
            "/content\n"
          ]
        }
      ]
    },
    {
      "cell_type": "markdown",
      "source": [
        "Use `!ls` to show the content of the present working directory.*italicised text*"
      ],
      "metadata": {
        "id": "RfXZWJhQFHbM"
      }
    },
    {
      "cell_type": "code",
      "source": [
        "  !ls"
      ],
      "metadata": {
        "colab": {
          "base_uri": "https://localhost:8080/"
        },
        "id": "iyEoYzNIFUFa",
        "outputId": "297029a5-078d-4115-c024-ee0829314f91"
      },
      "execution_count": null,
      "outputs": [
        {
          "output_type": "stream",
          "name": "stdout",
          "text": [
            "drive  sample_data\n"
          ]
        }
      ]
    },
    {
      "cell_type": "markdown",
      "source": [
        "1. Use `%cd drive/path` to change the current working directory.\n",
        "2. You can click on the `drive` folder to see the content of your google drive."
      ],
      "metadata": {
        "id": "zQM1kHKHGmQR"
      }
    },
    {
      "cell_type": "code",
      "source": [
        "% cd drive/MyDrive/Colab Notebooks/"
      ],
      "metadata": {
        "colab": {
          "base_uri": "https://localhost:8080/"
        },
        "id": "f5ye7h4AFVms",
        "outputId": "3a0d61dd-f5d5-4af2-8b8a-8c8d3f8141df"
      },
      "execution_count": null,
      "outputs": [
        {
          "output_type": "stream",
          "name": "stdout",
          "text": [
            "/content/drive/MyDrive/Colab Notebooks\n"
          ]
        }
      ]
    },
    {
      "cell_type": "code",
      "source": [
        "!pwd"
      ],
      "metadata": {
        "colab": {
          "base_uri": "https://localhost:8080/"
        },
        "id": "FyOy1c3fHJqO",
        "outputId": "75284a1a-06af-472e-d060-dae979a9f043"
      },
      "execution_count": null,
      "outputs": [
        {
          "output_type": "stream",
          "name": "stdout",
          "text": [
            "/content/drive/MyDrive/Colab Notebooks\n"
          ]
        }
      ]
    },
    {
      "cell_type": "code",
      "source": [
        "!ls"
      ],
      "metadata": {
        "colab": {
          "base_uri": "https://localhost:8080/"
        },
        "id": "odK1KilAHL05",
        "outputId": "d6178486-d47d-4e7d-e101-30c60c002316"
      },
      "execution_count": null,
      "outputs": [
        {
          "output_type": "stream",
          "name": "stdout",
          "text": [
            "AI-ipynb\n"
          ]
        }
      ]
    },
    {
      "cell_type": "code",
      "source": [
        "%cd AI-ipynb"
      ],
      "metadata": {
        "colab": {
          "base_uri": "https://localhost:8080/"
        },
        "id": "4T9TjVDLHNoj",
        "outputId": "8acdb391-1898-4279-dd46-43c6bca78e1a"
      },
      "execution_count": null,
      "outputs": [
        {
          "output_type": "stream",
          "name": "stdout",
          "text": [
            "/content/drive/MyDrive/Colab Notebooks/AI-ipynb\n"
          ]
        }
      ]
    },
    {
      "cell_type": "markdown",
      "source": [
        "Download datset from kaggle using API of the dataset."
      ],
      "metadata": {
        "id": "o2diXuScPwpN"
      }
    },
    {
      "cell_type": "code",
      "source": [
        "!kaggle datasets download -d ruchi798/housing-prices-in-metropolitan-areas-of-india"
      ],
      "metadata": {
        "colab": {
          "base_uri": "https://localhost:8080/"
        },
        "id": "rtOwjVNwPzhT",
        "outputId": "da76eaf9-89cb-4bce-9f17-9a452d77953f"
      },
      "execution_count": null,
      "outputs": [
        {
          "output_type": "stream",
          "name": "stdout",
          "text": [
            "Downloading housing-prices-in-metropolitan-areas-of-india.zip to /content/drive/MyDrive/Colab Notebooks/AI-ipynb\n",
            "\r  0% 0.00/269k [00:00<?, ?B/s]\n",
            "\r100% 269k/269k [00:00<00:00, 8.70MB/s]\n"
          ]
        }
      ]
    },
    {
      "cell_type": "code",
      "source": [
        "!pwd"
      ],
      "metadata": {
        "colab": {
          "base_uri": "https://localhost:8080/"
        },
        "id": "XuRMW1CcQiBV",
        "outputId": "5765370f-86c1-4c26-d385-e7b47b4cf7fd"
      },
      "execution_count": null,
      "outputs": [
        {
          "output_type": "stream",
          "name": "stdout",
          "text": [
            "/content/drive/MyDrive/Colab Notebooks/AI-ipynb\n"
          ]
        }
      ]
    },
    {
      "cell_type": "code",
      "source": [
        ""
      ],
      "metadata": {
        "id": "R5OQrOotQ9Ty"
      },
      "execution_count": null,
      "outputs": []
    }
  ],
  "metadata": {
    "colab": {
      "name": "00kaggleDatasetColab.ipynb",
      "provenance": [],
      "collapsed_sections": [],
      "include_colab_link": true
    },
    "kernelspec": {
      "display_name": "Python 3",
      "name": "python3"
    },
    "language_info": {
      "name": "python"
    }
  },
  "nbformat": 4,
  "nbformat_minor": 0
}
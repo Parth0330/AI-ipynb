{
  "nbformat": 4,
  "nbformat_minor": 0,
  "metadata": {
    "colab": {
      "name": "00kaggleDatasetColab.ipynb",
      "provenance": [],
      "authorship_tag": "ABX9TyNfpomMgW8J2QlMAYcMu1OB",
      "include_colab_link": true
    },
    "kernelspec": {
      "name": "python3",
      "display_name": "Python 3"
    },
    "language_info": {
      "name": "python"
    }
  },
  "cells": [
    {
      "cell_type": "markdown",
      "metadata": {
        "id": "view-in-github",
        "colab_type": "text"
      },
      "source": [
        "<a href=\"https://colab.research.google.com/github/vkjadon/AI-ipynb/blob/master/00kaggleDatasetColab.ipynb\" target=\"_parent\"><img src=\"https://colab.research.google.com/assets/colab-badge.svg\" alt=\"Open In Colab\"/></a>"
      ]
    },
    {
      "cell_type": "markdown",
      "source": [
        "Open kaggle.com\n",
        "\n",
        "1.   Open kaggle.com\n",
        "2.   Click on the kaggle icon (upper right corner) adjacent to search input.\n",
        "3. Click on the `Account`.\n",
        "4. Scroll down to locale `API'.\n",
        "5. Click on the \"Create New API Tocken\" button.\n",
        "6. A file with name \"kaggle.json\" is downloaded\n",
        "\n"
      ],
      "metadata": {
        "id": "VbedTufhxyFq"
      }
    }
  ]
}
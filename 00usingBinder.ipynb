{
 "cells": [
  {
   "cell_type": "markdown",
   "metadata": {},
   "source": [
    "### Binder and Notebook\n",
    "\n",
    "- <font color='blue'>Run your cells using SHIFT+ENTER (or \"Run cell\")</font>.  \n",
    "- <font color='blue'>You can use the code to improvise, change and run to understand the underlying concept</font>.  \n",
    "- <font color='blue'>Please download the code on any suitable drive for further use</font>.  \n",
    "- <font color='blue'>The downloaded codes must be submitted as and when asked</font>.  "
   ]
  },
  {
   "cell_type": "markdown",
   "metadata": {},
   "source": [
    "### Download Dataset from Kaggle"
   ]
  },
  {
   "cell_type": "markdown",
   "metadata": {},
   "source": []
  }
 ],
 "metadata": {
  "language_info": {
   "name": "python"
  },
  "orig_nbformat": 4
 },
 "nbformat": 4,
 "nbformat_minor": 2
}

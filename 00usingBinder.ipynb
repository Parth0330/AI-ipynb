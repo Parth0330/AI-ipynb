{
 "cells": [
  {
   "cell_type": "markdown",
   "metadata": {},
   "source": [
    "### Binder and Notebook\n",
    "\n",
    "- <font color='blue'>Run your cells using SHIFT+ENTER (or \"Run cell\")</font>.  \n",
    "- <font color='blue'>You can use the code to improvise, change and run to understand the underlying concept</font>.  \n",
    "- <font color='blue'>Please download the code on any suitable drive for further use</font>.  \n",
    "- <font color='blue'>The downloaded codes must be submitted as and when asked</font>.  "
   ]
  },
  {
   "cell_type": "markdown",
   "metadata": {},
   "source": [
    "### Download Dataset from Kaggle\n",
    "\n",
    "- <a href=\"https://www.kaggle.com/ruchi798/housing-prices-in-metropolitan-areas-of-india\" target=\"_blank\"> Housing Price in Indian Metro Dataset </a>   \n",
    "- <a href=\"https://www.kaggle.com/c/titanic/data\" target=\"_blank\"> Titanic Dataset</a>  \n",
    "- <a href=\"https://www.kaggle.com/muhammeddalkran/catvnoncat\" target=\"_blank\"> Cat Classifier Dataset </a>"
   ]
  },
  {
   "cell_type": "markdown",
   "metadata": {},
   "source": [
    "### Writting Symbols/Equations in Markdown  \n",
    "\n",
    "<a href=\"https://katex.org/docs/supported.html\">Search on Web</a>\n",
    "\n",
    "$\\hat{Y} = \\hat{\\beta}_{0} + \\sum \\limits _{j=1} ^{p} X_{j}^3\\hat{\\beta}_{j} z^6_9 A^e $\n",
    "\n",
    "$J(w,b)=\\frac{1}{2m}[(100w+b-20)^2+(150w+b-28)^2+....+(5000w+b-40)^2]$  \n"
   ]
  },
  {
   "cell_type": "markdown",
   "metadata": {},
   "source": [
    "$$\\mathbf{X} \\in \\Reals ^{nx \\times m}$$"
   ]
  },
  {
   "cell_type": "markdown",
   "metadata": {},
   "source": [
    "| Syntax      | Description | Test Text     |\n",
    "| :---        |    :----:   |          ---: |\n",
    "| Header      | Title       | Here's this   |\n",
    "| Paragraph   | Text        | And more      |  \n"
   ]
  },
  {
   "cell_type": "markdown",
   "metadata": {},
   "source": [
    "$A_{m,n} =\\begin{pmatrix}\n",
    "  a_{1,1} & a_{1,2} & \\cdots & a_{1,n} \\\\\n",
    "  a_{2,1} & a_{2,2} & \\cdots & a_{2,n} \\\\\n",
    "  \\vdots  & \\vdots  & \\ddots & \\vdots  \\\\\n",
    "  a_{m,1} & a_{m,2} & \\cdots & a_{m,n}\n",
    " \\end{pmatrix}$"
   ]
  },
  {
   "cell_type": "markdown",
   "metadata": {},
   "source": [
    "$v_{m}=\\begin{pmatrix}\n",
    "  v_{1}\\\\\n",
    "  v_{2} \\\\\n",
    "  \\vdots \\\\\n",
    "  v_{m}\n",
    " \\end{pmatrix}$"
   ]
  },
  {
   "cell_type": "markdown",
   "metadata": {},
   "source": [
    "$ \\mathbf{X} = \\begin{pmatrix}\n",
    "x^{(1)} & x^{(2)} & \\cdots & x^{(5)}\n",
    "\\end{pmatrix}$ "
   ]
  },
  {
   "cell_type": "markdown",
   "metadata": {},
   "source": []
  }
 ],
 "metadata": {
  "interpreter": {
   "hash": "aee8b7b246df8f9039afb4144a1f6fd8d2ca17a180786b69acc140d282b71a49"
  },
  "kernelspec": {
   "display_name": "Python 3.7.9 64-bit",
   "language": "python",
   "name": "python3"
  },
  "language_info": {
   "name": "python",
   "version": "3.7.9"
  },
  "orig_nbformat": 4
 },
 "nbformat": 4,
 "nbformat_minor": 2
}

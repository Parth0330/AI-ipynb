{
 "cells": [
  {
   "cell_type": "markdown",
   "metadata": {},
   "source": [
    "### Binder and Notebook\n",
    "\n",
    "- <font color='blue'>Run your cells using SHIFT+ENTER (or \"Run cell\")</font>.  \n",
    "- <font color='blue'>You can use the code to improvise, change and run to understand the underlying concept</font>.  \n",
    "- <font color='blue'>Please download the code on any suitable drive for further use</font>.  \n",
    "- <font color='blue'>The downloaded codes must be submitted as and when asked</font>.  "
   ]
  },
  {
   "cell_type": "markdown",
   "metadata": {},
   "source": [
    "### Download Dataset from Kaggle"
   ]
  },
  {
   "cell_type": "markdown",
   "metadata": {},
   "source": [
    "# Writting Symbols/Equations in MArkdown  \n",
    "\n",
    "$\\hat{Y} = \\hat{\\beta}_{0} + \\sum \\limits _{j=1} ^{p} X_{j}\\hat{\\beta}_{j} $\n",
    "\n",
    "$J(w,b)=\\frac{1}{2m}[(100w+b-20)^2+(150w+b-28)^2+....+(5000w+b-40)^2]$  \n"
   ]
  },
  {
   "cell_type": "markdown",
   "metadata": {},
   "source": []
  }
 ],
 "metadata": {
  "interpreter": {
   "hash": "aee8b7b246df8f9039afb4144a1f6fd8d2ca17a180786b69acc140d282b71a49"
  },
  "kernelspec": {
   "display_name": "Python 3.7.9 64-bit",
   "language": "python",
   "name": "python3"
  },
  "language_info": {
   "name": "python",
   "version": "3.7.9"
  },
  "orig_nbformat": 4
 },
 "nbformat": 4,
 "nbformat_minor": 2
}

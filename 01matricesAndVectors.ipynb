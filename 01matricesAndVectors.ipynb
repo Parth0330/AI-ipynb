{
  "cells": [
    {
      "cell_type": "markdown",
      "metadata": {
        "id": "-gIZNBHfshgy"
      },
      "source": [
        "# NumPy Library\n",
        "\n",
        "<font color=\"blue\">NumPy stand for “Numerical Python”.</font>  \n",
        "\n",
        "It is a tool suited for array oriented computing efficiently.\n",
        "\n",
        "The “numpy array” uses less memory than python list and also the execution time is faster.   \n",
        "\n",
        "The internal type of numpy array is “ndarray”. \n",
        "\n",
        "$A_{m,n} =\\begin{pmatrix}\n",
        "  a_{1,1} & a_{1,2} & \\cdots & a_{1,n} \\\\\n",
        "  a_{2,1} & a_{2,2} & \\cdots & a_{2,n} \\\\\n",
        "  \\vdots  & \\vdots  & \\ddots & \\vdots  \\\\\n",
        "  a_{m,1} & a_{m,2} & \\cdots & a_{m,n}\n",
        " \\end{pmatrix}$"
      ]
    },
    {
      "cell_type": "code",
      "execution_count": 25,
      "metadata": {},
      "outputs": [],
      "source": [
        "import numpy as np"
      ]
    },
    {
      "cell_type": "code",
      "execution_count": 26,
      "metadata": {},
      "outputs": [
        {
          "name": "stdout",
          "output_type": "stream",
          "text": [
            "[[1 2 3]\n",
            " [4 5 6]\n",
            " [7 2 3]\n",
            " [4 5 6]]\n",
            "Shape of Matrix (4, 3)\n",
            "Dimension of Matrix 2\n"
          ]
        }
      ],
      "source": [
        "# Matrix of 4 Rows and 3 Columns :\n",
        "#In NumPy, this 2D matrix has Two axes\n",
        "#First axis length is 4 and Second axis length is 3 (4L,3L) \n",
        "\n",
        "matrixA = np.array([(1,2,3),(4,5,6),(7,2,3),(4,5,6)])\n",
        "print(matrixA)\n",
        "print('Shape of Matrix', matrixA.shape)\n",
        "print('Dimension of Matrix', matrixA.ndim)"
      ]
    },
    {
      "cell_type": "code",
      "execution_count": 27,
      "metadata": {},
      "outputs": [
        {
          "name": "stdout",
          "output_type": "stream",
          "text": [
            "matrixA =  [[1 2 3]\n",
            " [4 5 6]\n",
            " [7 2 3]\n",
            " [4 5 6]]\n",
            "Type of aVector  <class 'numpy.ndarray'>\n"
          ]
        }
      ],
      "source": [
        "matrixA=np.array(matrixA, np.int8)\n",
        "print(\"matrixA = \", matrixA)\n",
        "print(\"Type of aVector \", type(matrixA))"
      ]
    },
    {
      "cell_type": "markdown",
      "metadata": {
        "id": "vqp29_-5tPgd"
      },
      "source": [
        "\n",
        "$v_{m}=\\begin{pmatrix}\n",
        "  v_{1}\\\\\n",
        "  v_{2} \\\\\n",
        "  \\vdots \\\\\n",
        "  v_{m}\n",
        " \\end{pmatrix}$"
      ]
    },
    {
      "cell_type": "code",
      "execution_count": 28,
      "metadata": {
        "id": "TuXUCncgimMh"
      },
      "outputs": [
        {
          "data": {
            "text/plain": [
              "array([1, 2, 3])"
            ]
          },
          "execution_count": 28,
          "metadata": {},
          "output_type": "execute_result"
        }
      ],
      "source": [
        "v = np.array([1,2,3])\n",
        "v\n",
        "# v.shape\n",
        "# v.T\n",
        "#reshape(3,1) "
      ]
    },
    {
      "cell_type": "code",
      "execution_count": 29,
      "metadata": {
        "colab": {
          "base_uri": "https://localhost:8080/"
        },
        "id": "1ZGMZDq8uF8E",
        "outputId": "748fdd9f-6d30-410a-e80e-133000913cba"
      },
      "outputs": [
        {
          "data": {
            "text/plain": [
              "(4, 3)"
            ]
          },
          "execution_count": 29,
          "metadata": {},
          "output_type": "execute_result"
        }
      ],
      "source": [
        "B=np.array([[10, 4, 9], [2,4,8],[20,4,18],[23, 7, 5]])\n",
        "B.shape"
      ]
    },
    {
      "cell_type": "markdown",
      "metadata": {},
      "source": [
        "### Creating a NumPy array – arange\n",
        "`arange([start,] stop[, step], [, dtype=None])`  \n",
        "\n",
        "**arange** returns evenly spaced values within a given interval starting from first optional parameter and within the `stop` value.  \n",
        "If only one parameter is given, it is assumed as `stop` and the `start` is automatically set to 0.  \n",
        "If the `step` is not given, it is set to `1` but if `step` is given, the `start` parameter cannot be optional, i.e. it has to be given as well.  \n",
        "The `step` sets the spacing between two adjacent values of the output array."
      ]
    },
    {
      "cell_type": "code",
      "execution_count": 30,
      "metadata": {},
      "outputs": [
        {
          "name": "stdout",
          "output_type": "stream",
          "text": [
            "[0 1 2 3 4 5]\n"
          ]
        }
      ],
      "source": [
        "dayTemperature=np.arange(6)\n",
        "#First Value is 0 and it gives output 5 with default interval of 1\n",
        "print(dayTemperature)"
      ]
    },
    {
      "cell_type": "code",
      "execution_count": 31,
      "metadata": {},
      "outputs": [
        {
          "name": "stdout",
          "output_type": "stream",
          "text": [
            "[ 6  7  8  9 10 11]\n"
          ]
        }
      ],
      "source": [
        "dayTemperature=np.arange(6,12, 1)\n",
        "#First Value is 22 and it stops at 30, So 30 is not included\n",
        "print(dayTemperature)"
      ]
    },
    {
      "cell_type": "code",
      "execution_count": 32,
      "metadata": {},
      "outputs": [
        {
          "name": "stdout",
          "output_type": "stream",
          "text": [
            "[0. 1. 2. 3. 4. 5.]\n"
          ]
        }
      ],
      "source": [
        "dayTemperature=np.arange(5.3)\n",
        "#First Value is 0 and it gives output 25 with default interval of 1\n",
        "print(dayTemperature)"
      ]
    },
    {
      "cell_type": "code",
      "execution_count": 33,
      "metadata": {},
      "outputs": [
        {
          "name": "stdout",
          "output_type": "stream",
          "text": [
            "[2.02 2.27 2.52 2.77 3.02 3.27 3.52 3.77 4.02 4.27 4.52 4.77 5.02 5.27]\n",
            "[2.02 2.27 2.52 2.77 3.02 3.27 3.52 3.77 4.02 4.27 4.52 4.77 5.02]\n"
          ]
        }
      ],
      "source": [
        "dayTemperature=np.arange(2.02, 5.3, 0.25)\n",
        "#First Value is 2.02 and it gives output 5.27 with default interval of 0.25\n",
        "print(dayTemperature)\n",
        "dayTemperature=np.arange(2.02, 5.27, 0.25)\n",
        "#First Value is 2.02 and it gives output 5.02 with default interval of 0.25\n",
        "print(dayTemperature)"
      ]
    },
    {
      "cell_type": "markdown",
      "metadata": {},
      "source": [
        "### Creating a NumPy array – linspace\n",
        "`linspace(start, stop, num=50, endpoint=True, retstep=False)`  \n",
        "\n",
        "<font color='blue'>create NumPy array using linspacebar</font>\n",
        "\n",
        "Array of linearly spaced values defined by `num` including `start` and `stop`  \n",
        "\n",
        "<font color='blue'>default value of num is 50</font>\n"
      ]
    },
    {
      "cell_type": "code",
      "execution_count": 34,
      "metadata": {},
      "outputs": [
        {
          "name": "stdout",
          "output_type": "stream",
          "text": [
            "[20. 21. 22. 23. 24. 25. 26. 27. 28. 29. 30.]\n"
          ]
        }
      ],
      "source": [
        "dayTemperature=np.linspace(20,30,11)\n",
        "print(dayTemperature)"
      ]
    },
    {
      "cell_type": "code",
      "execution_count": 35,
      "metadata": {},
      "outputs": [
        {
          "name": "stdout",
          "output_type": "stream",
          "text": [
            "[20. 21. 22. 23. 24. 25. 26. 27. 28. 29. 30.] 1.0\n"
          ]
        }
      ],
      "source": [
        "dayTemperature, spacing=np.linspace(20,30,11,  endpoint=True, retstep=True)\n",
        "print(dayTemperature, spacing)"
      ]
    },
    {
      "cell_type": "code",
      "execution_count": 36,
      "metadata": {
        "colab": {
          "base_uri": "https://localhost:8080/"
        },
        "id": "xGmCyXLauayl",
        "outputId": "4f149c5f-0004-4c41-f1be-41a20574666c"
      },
      "outputs": [
        {
          "data": {
            "text/plain": [
              "array([[ 0,  1,  2],\n",
              "       [ 3,  4,  5],\n",
              "       [ 6,  7,  8],\n",
              "       [ 9, 10, 11]])"
            ]
          },
          "execution_count": 36,
          "metadata": {},
          "output_type": "execute_result"
        }
      ],
      "source": [
        "A=np.arange(12).reshape(4,3)\n",
        "A"
      ]
    },
    {
      "cell_type": "markdown",
      "metadata": {
        "id": "lHKY9mTPviYV"
      },
      "source": [
        "Use `np.random.rand` to create an array of the given shape and populate it with random samples from a uniform distribution over [0, 1)."
      ]
    },
    {
      "cell_type": "code",
      "execution_count": 37,
      "metadata": {
        "colab": {
          "base_uri": "https://localhost:8080/"
        },
        "id": "2X1_y0JCutN6",
        "outputId": "d32bb1fd-8c93-4a40-c166-3ce97a3a6c6b"
      },
      "outputs": [
        {
          "data": {
            "text/plain": [
              "array([[87.92732003,  8.83068649, 52.34474277],\n",
              "       [29.26596368, 53.11197643, 85.25288063],\n",
              "       [19.86112156, 98.33498611,  1.10470877],\n",
              "       [59.26099797, 81.23241149, 56.70627215]])"
            ]
          },
          "execution_count": 37,
          "metadata": {},
          "output_type": "execute_result"
        }
      ],
      "source": [
        "A=np.random.rand(4,3)*100\n",
        "A"
      ]
    },
    {
      "cell_type": "markdown",
      "metadata": {
        "id": "LLO9MUV2wOpp"
      },
      "source": [
        "Use `np.random.randn` to generates an array of given shape, filled with random floats sampled from a univariate “normal” (Gaussian) distribution of mean 0 and variance 1."
      ]
    },
    {
      "cell_type": "code",
      "execution_count": 38,
      "metadata": {
        "colab": {
          "base_uri": "https://localhost:8080/"
        },
        "id": "HPud6a1MvG4y",
        "outputId": "033370e6-a6ba-489e-d385-03c5e473b4d1"
      },
      "outputs": [
        {
          "data": {
            "text/plain": [
              "array([[-0.63504458, -0.8179718 , -1.63396731],\n",
              "       [-0.67489551,  0.43604631,  0.0367842 ],\n",
              "       [ 0.57078953,  0.02535633,  1.17474196],\n",
              "       [-1.3532692 ,  0.61953775,  1.6774811 ]])"
            ]
          },
          "execution_count": 38,
          "metadata": {},
          "output_type": "execute_result"
        }
      ],
      "source": [
        "A=np.random.randn(12).reshape(4,3)\n",
        "A"
      ]
    },
    {
      "cell_type": "markdown",
      "metadata": {},
      "source": [
        "Solve a linear matrix equation, or system of linear scalar equations.\n",
        "\n",
        "Computes the “exact” solution, `x`, of the well-determined, i.e., full rank, linear matrix equation `ax = b`."
      ]
    },
    {
      "cell_type": "code",
      "execution_count": 40,
      "metadata": {
        "id": "O35sARtUxKCA"
      },
      "outputs": [
        {
          "name": "stdout",
          "output_type": "stream",
          "text": [
            "State of Strain  [[0.001]]\n"
          ]
        }
      ],
      "source": [
        "#This code explains the difference between array and matrix with example of 3D State of Stress\n",
        "\n",
        "stateofStress=np.array([200]).reshape(1,1)\n",
        "\n",
        "elasticityMatrix=np.array([200000]).reshape(1,1)\n",
        "\n",
        "stateofStrain=np.linalg.solve(elasticityMatrix, stateofStress)\n",
        "\n",
        "print(\"State of Strain \",stateofStrain)"
      ]
    }
  ],
  "metadata": {
    "colab": {
      "collapsed_sections": [],
      "name": "matricesAndVectors.ipynb",
      "provenance": []
    },
    "kernelspec": {
      "display_name": "Python 3",
      "name": "python3"
    },
    "language_info": {
      "codemirror_mode": {
        "name": "ipython",
        "version": 3
      },
      "file_extension": ".py",
      "mimetype": "text/x-python",
      "name": "python",
      "nbconvert_exporter": "python",
      "pygments_lexer": "ipython3",
      "version": "3.7.9"
    }
  },
  "nbformat": 4,
  "nbformat_minor": 0
}

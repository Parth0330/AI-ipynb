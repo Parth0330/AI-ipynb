{
 "cells": [
  {
   "cell_type": "code",
   "execution_count": null,
   "metadata": {},
   "outputs": [],
   "source": [
    "#This code explains the difference between array and matrix with example of 3D State of Stress\n",
    "\n",
    "stateofStress=np.array([200, 120, 81, 23, 12, 42])\n",
    "print(\"State of Stress \", stateofStress)\n",
    "print(\"Shape of Matrix \", stateofStress.shape)\n",
    "print(\"Product of Values\", np.prod(stateofStress))\n",
    "print(\"Product of Shape Values\", np.prod(stateofStress.shape))\n",
    "i=0\n",
    "for values in stateofStress:\n",
    "  print(\"Values of Array \", i, values)\n",
    "  i=i+1\n",
    "\n",
    "stateofStress=np.matrix([200, 120, 81, 23, 12, 42]).reshape(2,3)\n",
    "print(\"State of Stress \", stateofStress)\n",
    "print(\"Shape of Matrix \", stateofStress.shape)\n",
    "print(\"Product of Values\", np.prod(stateofStress))\n",
    "print(\"Product of Values\", np.prod(stateofStress.shape))\n",
    "i=0\n",
    "for values in stateofStress:\n",
    "  print(\"Values of Matrix \", i, values)\n",
    "  i=i+1"
   ]
  }
 ],
 "metadata": {
  "language_info": {
   "name": "python"
  },
  "orig_nbformat": 4
 },
 "nbformat": 4,
 "nbformat_minor": 2
}

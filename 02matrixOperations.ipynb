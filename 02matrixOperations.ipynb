{
 "cells": [
  {
   "cell_type": "code",
   "execution_count": 3,
   "metadata": {},
   "outputs": [],
   "source": [
    "import numpy as np"
   ]
  },
  {
   "cell_type": "code",
   "execution_count": 7,
   "metadata": {},
   "outputs": [
    {
     "name": "stdout",
     "output_type": "stream",
     "text": [
      "State of Stress  [200 120  81  23  12  42]\n",
      "Shape of Matrix  (6,)\n",
      "Product of Values 22534848000\n",
      "Product of Shape Values 6\n"
     ]
    }
   ],
   "source": [
    "#This code explains the difference between array and matrix with example of 3D State of Stress\n",
    "\n",
    "stateofStress=np.array([200, 120, 81, 23, 12, 42])\n",
    "print(\"State of Stress \", stateofStress)\n",
    "print(\"Shape of Matrix \", stateofStress.shape)\n",
    "print(\"Product of Values\", np.prod(stateofStress))\n",
    "print(\"Product of Shape Values\", np.prod(stateofStress.shape))"
   ]
  },
  {
   "cell_type": "code",
   "execution_count": 6,
   "metadata": {},
   "outputs": [
    {
     "name": "stdout",
     "output_type": "stream",
     "text": [
      "State of Stress  [[200 120  81]\n",
      " [ 23  12  42]]\n",
      "Shape of Matrix  (2, 3)\n",
      "Product of Values 22534848000\n",
      "Product of Values 6\n"
     ]
    }
   ],
   "source": [
    "stateofStress=np.array([200, 120, 81, 23, 12, 42]).reshape(2,3)\n",
    "print(\"State of Stress \", stateofStress)\n",
    "print(\"Shape of Matrix \", stateofStress.shape)\n",
    "print(\"Product of Values\", np.prod(stateofStress))\n",
    "print(\"Product of Values\", np.prod(stateofStress.shape))"
   ]
  },
  {
   "cell_type": "code",
   "execution_count": null,
   "metadata": {},
   "outputs": [],
   "source": []
  }
 ],
 "metadata": {
  "interpreter": {
   "hash": "aee8b7b246df8f9039afb4144a1f6fd8d2ca17a180786b69acc140d282b71a49"
  },
  "kernelspec": {
   "display_name": "Python 3.7.9 64-bit",
   "language": "python",
   "name": "python3"
  },
  "language_info": {
   "codemirror_mode": {
    "name": "ipython",
    "version": 3
   },
   "file_extension": ".py",
   "mimetype": "text/x-python",
   "name": "python",
   "nbconvert_exporter": "python",
   "pygments_lexer": "ipython3",
   "version": "3.7.9"
  },
  "orig_nbformat": 4
 },
 "nbformat": 4,
 "nbformat_minor": 2
}

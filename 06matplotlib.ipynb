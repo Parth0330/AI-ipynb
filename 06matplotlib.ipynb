{
 "cells": [
  {
   "cell_type": "markdown",
   "metadata": {},
   "source": [
    "There are many plotting libraries for Data Visualization. Matplotlib is one such library used in Machine Learning for analysis and visualisations.  \n",
    "\n",
    "Create a figure instance which provides an empty canvas using figure()\n",
    "\n",
    "`fig=plt.figure()`  \n",
    "\n",
    "Use `add_axes(list)` method to add axes to the fig.  \n",
    "\n",
    "There has to be 4 elements in the list corresponding to left, bottom, width and height of the figure.  \n",
    "\n",
    "The list element must be between 0 and 1. So, we can have list=[0,0,1,1].  \n",
    "\n",
    "This will not show the axes. Commonly used list is list=[0.1,0.1,0.8,0.8]  \n",
    "\n",
    "ax=fig.add_axes([0,0,1,1]) # axes not visible\n",
    "\n",
    "ax=fig.add_axes([0.1,0.1,0.8,0.8]) #commonly used\n",
    "\n",
    "Use `plot()` method of the axes object to create a plot.  \n",
    "\n",
    "`ax.plot([x], y, [fmt])` #Plot y versus x.  \n",
    "\n",
    "[fmt] decides the lines/markers type and colors.\n",
    "\n",
    "<a href=\"https://vijayonline.in/2020/09/28/matplotlib-fundamentals/\" target=\"_blank\">More about Matplotlib</a>"
   ]
  },
  {
   "cell_type": "markdown",
   "metadata": {},
   "source": [
    "A line plot is a type of chart or graph which displays information as a series of data points connected by straight line segments.  \n",
    "\n",
    "It can be plotted using matplotlib.pyplot.plot() function.  \n",
    "\n",
    "`plt.plot(x,y, scalex=True, scaley=True, data=None, color=None)`"
   ]
  },
  {
   "cell_type": "markdown",
   "metadata": {},
   "source": []
  }
 ],
 "metadata": {
  "language_info": {
   "name": "python"
  },
  "orig_nbformat": 4
 },
 "nbformat": 4,
 "nbformat_minor": 2
}

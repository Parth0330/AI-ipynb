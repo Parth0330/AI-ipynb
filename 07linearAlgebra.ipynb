{
 "cells": [
  {
   "cell_type": "code",
   "execution_count": 1,
   "metadata": {},
   "outputs": [],
   "source": [
    "import numpy as np"
   ]
  },
  {
   "cell_type": "markdown",
   "metadata": {},
   "source": [
    "Solve a linear matrix equation, or system of linear scalar equations.\n",
    "\n",
    "Computes the “exact” solution, `x`, of the well-determined, i.e., full rank, linear matrix equation `ax = b`."
   ]
  },
  {
   "cell_type": "code",
   "execution_count": 2,
   "metadata": {},
   "outputs": [
    {
     "name": "stdout",
     "output_type": "stream",
     "text": [
      "State of Strain  [[0.001]]\n"
     ]
    }
   ],
   "source": [
    "#This code explains the difference between array and matrix with example of 3D State of Stress\n",
    "\n",
    "stateofStress=np.array([200]).reshape(1,1)\n",
    "\n",
    "elasticityMatrix=np.array([200000]).reshape(1,1)\n",
    "\n",
    "stateofStrain=np.linalg.solve(elasticityMatrix, stateofStress)\n",
    "\n",
    "print(\"State of Strain \",stateofStrain)"
   ]
  }
 ],
 "metadata": {
  "interpreter": {
   "hash": "aee8b7b246df8f9039afb4144a1f6fd8d2ca17a180786b69acc140d282b71a49"
  },
  "kernelspec": {
   "display_name": "Python 3.7.9 64-bit",
   "language": "python",
   "name": "python3"
  },
  "language_info": {
   "codemirror_mode": {
    "name": "ipython",
    "version": 3
   },
   "file_extension": ".py",
   "mimetype": "text/x-python",
   "name": "python",
   "nbconvert_exporter": "python",
   "pygments_lexer": "ipython3",
   "version": "3.7.9"
  },
  "orig_nbformat": 4
 },
 "nbformat": 4,
 "nbformat_minor": 2
}

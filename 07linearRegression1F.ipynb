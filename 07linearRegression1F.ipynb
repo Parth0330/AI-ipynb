{
 "cells": [
  {
   "cell_type": "markdown",
   "metadata": {},
   "source": [
    "# Linear Regression (One Feature and m Training Examples)"
   ]
  },
  {
   "cell_type": "markdown",
   "metadata": {},
   "source": [
    "## Hypothesis\n",
    "We will use $\\mathbf{𝐱_𝐢}$  to denote the feature vector and  $\\mathbf{𝐲_𝐢}$  to denote output variable for $\\mathbf{i^{th}}$ training example.  \n",
    "\n",
    "$h(x)=wx^{(i)}+b$  \n",
    "\n",
    "Let us have $m$ training example then  $𝐢=1,2,3,...m$ and in the present case, we have $m=8$  \n",
    "\n",
    "Let us write $\\hat{y}$ for the prediction from the hypothesis.\n",
    "\n",
    "$\\hat{y}^{(i)} = wx^{(i)}+b $  "
   ]
  },
  {
   "cell_type": "code",
   "execution_count": 144,
   "metadata": {},
   "outputs": [
    {
     "name": "stdout",
     "output_type": "stream",
     "text": [
      "[ 20  28  39  51  75 130 210 400] [1 1 2 2 3 4 4 5] [ 100  150  200  250  500 1000 2500 5000]\n"
     ]
    }
   ],
   "source": [
    "import numpy as np\n",
    "price=np.array([20,28, 39, 51, 75, 130, 210,400])\n",
    "bedroom=np.array([1,1,2,2,3,4,4,5])\n",
    "size=np.array([100,150,200,250,500, 1000,2500,5000])\n",
    "print(price,bedroom,size)"
   ]
  },
  {
   "cell_type": "markdown",
   "metadata": {},
   "source": [
    "\n",
    "Let us substitute the data  \n",
    "\n",
    "\n",
    "$\\hat{y}^{(1)} = wx^{(1)}+b = w(100)+b $      `First Training Example`   \n",
    "$\\hat{y}^{(2)} = wx^{(2)}+b = w(150)+b $      `Second Training Example`  \n",
    ".   \n",
    ".  \n",
    "$\\hat{y}^{(8)} = wx^{(8)}+b = w(5000)+b $     `Eighth Training Example`\n"
   ]
  },
  {
   "cell_type": "markdown",
   "metadata": {},
   "source": [
    "## Cost Function  \n",
    "$J(w,b)=\\frac{1}{2m}\\sum \\limits _{i=1} ^{m} (\\hat{y}-y)^{2} $  \n",
    "$J(w,b)=\\frac{1}{2m}\\sum \\limits _{i=1} ^{m} ((wx^{(i)}+b)-y)^{2} $  \n",
    "\n",
    "Start with sum assumed value of $w$ and $b$ and evaluate $J(w,b)$  \n",
    "\n",
    "$J(w,b)=\\frac{1}{2m}[(100w+b-20)^2+(150w+b-28)^2+....+(5000w+b-40)^2]$  \n",
    "\n",
    "**Our aim is to minimize the cost function,** $J(w,b)$   \n",
    "\n",
    "Let us drop $b$ to simplify our expression to visulize the plot of cost function in 2D i.e. cost as a function of weight only."
   ]
  },
  {
   "cell_type": "code",
   "execution_count": 145,
   "metadata": {},
   "outputs": [],
   "source": [
    "def cost(x,y,w,b):\n",
    "  yhat=w*x+b\n",
    "  J=np.dot((yhat-y).T,(yhat-y))\n",
    "  return J/2*x.shape[0] # x.shape[0] is equal to m"
   ]
  },
  {
   "cell_type": "code",
   "execution_count": 146,
   "metadata": {},
   "outputs": [],
   "source": [
    "X=size\n",
    "y=price"
   ]
  },
  {
   "cell_type": "code",
   "execution_count": 147,
   "metadata": {},
   "outputs": [
    {
     "data": {
      "text/plain": [
       "[<matplotlib.lines.Line2D at 0x7f92d3775750>]"
      ]
     },
     "execution_count": 147,
     "metadata": {},
     "output_type": "execute_result"
    },
    {
     "data": {
      "image/png": "[encoded data removed]",
      "text/plain": [
       "<Figure size 432x288 with 1 Axes>"
      ]
     },
     "metadata": {
      "needs_background": "light"
     },
     "output_type": "display_data"
    }
   ],
   "source": [
    "import matplotlib.pyplot as plt\n",
    "#initialize array to store J for plotting\n",
    "plotJ=np.array([0,0])\n",
    "for i in range(167):\n",
    "  J=cost(X, y, i/1000,0)    # Call cost function to _ and the cost for assumed weight (i/1000)\n",
    "  plotJ=np.vstack((plotJ,[i/1000,J])) # Stack the value of the w and the cost in plotJ array\n",
    "  #print(i/100,y,J)\n",
    "plotJ\n",
    "plt.plot(plotJ[1:,0], plotJ[1:,1])"
   ]
  },
  {
   "cell_type": "code",
   "execution_count": 148,
   "metadata": {},
   "outputs": [
    {
     "name": "stdout",
     "output_type": "stream",
     "text": [
      "21432.059999999998 (array([83]),)\n"
     ]
    }
   ],
   "source": [
    "# Minimum Loss and its corresponding weight\n",
    "minLoss=np.min(plotJ[1:,1])\n",
    "print(minLoss, np.where(plotJ[1:,1] == minLoss))"
   ]
  },
  {
   "cell_type": "markdown",
   "metadata": {},
   "source": [
    "### Gradient Descent\n",
    "$ \\frac{\\partial J}{\\partial w} = \\frac{1}{m} \\sum \\limits _{i=1} ^m (\\hat {y}^{(i)}-y^{(i)})x$  \n",
    "\n",
    "$ \\frac{\\partial J}{\\partial b} = \\frac{1}{m} \\sum \\limits _{i=1} ^m (\\hat {y}^{(i)}-y^{(i)})$  \n",
    "\n",
    "**Substituting**   \n",
    "\n",
    "$ \\frac{\\partial J}{\\partial w} = \\frac{1}{m}[(100w+b-20) (100) +(150w+b-28) (150) +....+(5000w+b-40) (5000)]$  \n",
    "\n",
    "$ \\frac{\\partial J}{\\partial b} = \\frac{1}{m}[(100w+b-20) +(150w+b-28) +....+(5000w+b-40) ]$  \n",
    "\n",
    "**Updating Parameters**  \n",
    "\n",
    "$ w = w - \\alpha \\frac {\\partial J}{\\partial w}$  \n",
    "\n",
    "$ b = b - \\alpha \\frac {\\partial J}{\\partial b}$  \n",
    "\n",
    "Where,  \n",
    "        $ \\alpha$ : Learning Rate (0.0001, 0.001, 0.01...)"
   ]
  },
  {
   "cell_type": "code",
   "execution_count": 149,
   "metadata": {},
   "outputs": [],
   "source": [
    "X=X/np.max(X)"
   ]
  },
  {
   "cell_type": "code",
   "execution_count": 150,
   "metadata": {},
   "outputs": [
    {
     "name": "stdout",
     "output_type": "stream",
     "text": [
      "[0.02 0.03 0.04 0.05 0.1  0.2  0.5  1.  ]\n",
      "374.5703335529005 28.291694113421677\n"
     ]
    }
   ],
   "source": [
    "learning_rate=0.0001\n",
    "max_iteration=20000\n",
    "cost=np.zeros((max_iteration))\n",
    "print(X)\n",
    "w=0.0\n",
    "b=0.0\n",
    "for i in range(max_iteration):\n",
    "  yhat=w*X+b\n",
    "  cost[i]=np.dot((yhat-y).T,(yhat-y))/2*X.shape[0]\n",
    "  dw=np.dot((yhat-y).T,X)/X[0]\n",
    "  db=np.sum((yhat-y), axis=0)/X[0]\n",
    "  w=w-learning_rate*dw\n",
    "  b=b-learning_rate*db\n",
    "print(w, b)"
   ]
  },
  {
   "cell_type": "code",
   "execution_count": 151,
   "metadata": {},
   "outputs": [
    {
     "data": {
      "image/png": "[encoded data removed]",
      "text/plain": [
       "<Figure size 432x288 with 1 Axes>"
      ]
     },
     "metadata": {
      "needs_background": "light"
     },
     "output_type": "display_data"
    }
   ],
   "source": [
    "# Plot learning curve (with costs)\n",
    "plt.plot(cost)\n",
    "plt.ylabel('cost')\n",
    "plt.xlabel('iterations')\n",
    "plt.title(\"Learning rate\")\n",
    "plt.show()"
   ]
  },
  {
   "cell_type": "code",
   "execution_count": 152,
   "metadata": {},
   "outputs": [
    {
     "name": "stdout",
     "output_type": "stream",
     "text": [
      " \n",
      "374.6 x + 28.29\n"
     ]
    },
    {
     "data": {
      "image/png": "[encoded data removed]",
      "text/plain": [
       "<Figure size 432x288 with 1 Axes>"
      ]
     },
     "metadata": {
      "needs_background": "light"
     },
     "output_type": "display_data"
    }
   ],
   "source": [
    "# Using Matplotlib function for linear fiiting\n",
    "plt.scatter(X,y,color=\"red\")\n",
    "linear_model=np.polyfit(X,y,1)\n",
    "hypothesis =np.poly1d(linear_model)\n",
    "print(hypothesis)\n",
    "plt.plot(X,hypothesis(X))\n",
    "plt.show()"
   ]
  },
  {
   "cell_type": "code",
   "execution_count": 153,
   "metadata": {},
   "outputs": [],
   "source": [
    "\n",
    "from sklearn import linear_model\n",
    "X=np.array([[100],[150],[200],[250],[500], [1000],[2500],[5000]])\n",
    "# X=np.array([[1],[1],[2],[2],[3], [4],[4],[5]])\n",
    "y=np.array([20,28, 39, 51, 75, 130, 210, 400])\n"
   ]
  },
  {
   "cell_type": "code",
   "execution_count": 154,
   "metadata": {},
   "outputs": [
    {
     "name": "stdout",
     "output_type": "stream",
     "text": [
      "(8, 1) <class 'numpy.ndarray'> (8,) <class 'numpy.ndarray'>\n"
     ]
    }
   ],
   "source": [
    "print(X.shape, type(X), y.shape, type(y))\n",
    "# print(X, y)"
   ]
  },
  {
   "cell_type": "code",
   "execution_count": 155,
   "metadata": {},
   "outputs": [
    {
     "data": {
      "text/plain": [
       "LinearRegression()"
      ]
     },
     "execution_count": 155,
     "metadata": {},
     "output_type": "execute_result"
    }
   ],
   "source": [
    "# Create a Logistic Regression Object, perform Logistic Regression\n",
    "lr = linear_model.LinearRegression()\n",
    "lr.fit(X, y)"
   ]
  },
  {
   "cell_type": "code",
   "execution_count": 156,
   "metadata": {},
   "outputs": [
    {
     "name": "stdout",
     "output_type": "stream",
     "text": [
      "[0.07491407]\n",
      "28.291694113419965\n"
     ]
    }
   ],
   "source": [
    "print(lr.coef_)\n",
    "print(lr.intercept_)"
   ]
  },
  {
   "cell_type": "markdown",
   "metadata": {},
   "source": [
    "<font color=\"blue\">The difference in the slope(weight) is due the Normalization.</font>"
   ]
  }
 ],
 "metadata": {
  "interpreter": {
   "hash": "aee8b7b246df8f9039afb4144a1f6fd8d2ca17a180786b69acc140d282b71a49"
  },
  "kernelspec": {
   "display_name": "Python 3.7.9 64-bit",
   "language": "python",
   "name": "python3"
  },
  "language_info": {
   "codemirror_mode": {
    "name": "ipython",
    "version": 3
   },
   "file_extension": ".py",
   "mimetype": "text/x-python",
   "name": "python",
   "nbconvert_exporter": "python",
   "pygments_lexer": "ipython3",
   "version": "3.7.9"
  },
  "orig_nbformat": 4
 },
 "nbformat": 4,
 "nbformat_minor": 2
}

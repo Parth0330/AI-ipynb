{
  "cells": [
    {
      "cell_type": "markdown",
      "metadata": {
        "id": "OphbpX-6N1n-"
      },
      "source": [
        "# Linear Regression (One Feature and m Training Examples)"
      ]
    },
    {
      "cell_type": "markdown",
      "metadata": {
        "id": "t0gMtEClN1n_"
      },
      "source": [
        "## Hypothesis\n",
        "We will use $\\mathbf{𝐱_𝐢}$  to denote the feature vector and  $\\mathbf{𝐲_𝐢}$  to denote output variable for $\\mathbf{i^{th}}$ training example.  \n",
        "\n",
        "$h(x)=wx^{(i)}+b$  \n",
        "\n",
        "Let us have $m$ training example then  $𝐢=1,2,3,...m$ and in the present case, we have $m=8$  \n",
        "\n",
        "Let us write $\\hat{y}$ for the prediction from the hypothesis.\n",
        "\n",
        "$\\hat{y}^{(i)} = wx^{(i)}+b $  "
      ]
    },
    {
      "cell_type": "code",
      "execution_count": 1,
      "metadata": {
        "id": "VyTsrPqLN1oA",
        "outputId": "7d50dd09-619d-495f-b9f7-472771610bff",
        "colab": {
          "base_uri": "https://localhost:8080/"
        }
      },
      "outputs": [
        {
          "output_type": "stream",
          "name": "stdout",
          "text": [
            "[ 20  28  39  51  75 130 210 400] [1 1 2 2 3 4 4 5] [ 100  150  200  250  500 1000 2500 5000]\n"
          ]
        }
      ],
      "source": [
        "import numpy as np\n",
        "from matplotlib import pyplot as plt\n",
        "plt.rcParams['figure.figsize']=(14,6)\n",
        "\n",
        "price=np.array([20,28, 39, 51, 75, 130, 210,400])\n",
        "bedroom=np.array([1,1,2,2,3,4,4,5])\n",
        "size=np.array([100,150,200,250,500, 1000,2500,5000])\n",
        "print(price,bedroom,size)"
      ]
    },
    {
      "cell_type": "markdown",
      "metadata": {
        "id": "TdzFLt4-N1oC"
      },
      "source": [
        "\n",
        "Let us substitute the data  \n",
        "\n",
        "\n",
        "$\\hat{y}^{(1)} = wx^{(1)}+b = w(100)+b $      `First Training Example`   \n",
        "$\\hat{y}^{(2)} = wx^{(2)}+b = w(150)+b $      `Second Training Example`  \n",
        ".   \n",
        ".  \n",
        "$\\hat{y}^{(8)} = wx^{(8)}+b = w(5000)+b $     `Eighth Training Example`\n"
      ]
    },
    {
      "cell_type": "markdown",
      "metadata": {
        "id": "g7HPC3KYN1oC"
      },
      "source": [
        "## Cost Function  \n",
        "$J(w,b)=\\frac{1}{2m}\\sum \\limits _{i=1} ^{m} (\\hat{y}-y)^{2} $  \n",
        "$J(w,b)=\\frac{1}{2m}\\sum \\limits _{i=1} ^{m} ((wx^{(i)}+b)-y)^{2} $  \n",
        "\n",
        "Start with some assumed value of $w$ and $b$ and evaluate $J(w,b)$  \n",
        "\n",
        "$J(w,b)=\\frac{1}{2m}[(100w+b-20)^2+(150w+b-28)^2+....+(5000w+b-40)^2]$  \n",
        "\n",
        "**Our aim is to minimize the cost function,** $J(w,b)$   \n",
        "\n",
        "Let us drop $b$ to simplify our expression to visulize the plot of cost function in 2D i.e. cost as a function of weight only."
      ]
    },
    {
      "cell_type": "code",
      "execution_count": null,
      "metadata": {
        "id": "K8HXS_2cN1oD"
      },
      "outputs": [],
      "source": [
        "def cost(x,y,w,b):\n",
        "  yhat=w*x+b\n",
        "  J=np.dot((yhat-y).T,(yhat-y))\n",
        "  return J/2*x.shape[0] # x.shape[0] is equal to m"
      ]
    },
    {
      "cell_type": "code",
      "execution_count": null,
      "metadata": {
        "id": "U7Ucvh3PN1oD"
      },
      "outputs": [],
      "source": [
        "X=size\n",
        "y=price"
      ]
    },
    {
      "cell_type": "code",
      "execution_count": null,
      "metadata": {
        "id": "tdnIGOu-N1oD",
        "outputId": "fbad1526-76ed-4816-994f-b58c07e92f77"
      },
      "outputs": [
        {
          "data": {
            "text/plain": [
              "[<matplotlib.lines.Line2D at 0x7fe15f969210>]"
            ]
          },
          "execution_count": 20,
          "metadata": {},
          "output_type": "execute_result"
        },
        {
          "data": {
            "image/png": "[encoded data removed]",
            "text/plain": [
              "<Figure size 1008x432 with 1 Axes>"
            ]
          },
          "metadata": {
            "needs_background": "light"
          },
          "output_type": "display_data"
        }
      ],
      "source": [
        "#initialize array to store J for plotting\n",
        "plotJ=np.array([0,0])\n",
        "for i in range(160):\n",
        "  J=cost(X, y, i/1000,0)    # Call cost function to calculate the cost for assumed weight (i/1000)\n",
        "  plotJ=np.vstack((plotJ,[i/1000,J])) # Stack the value of the w and the cost in plotJ array\n",
        "  #print(i/100,y,J)\n",
        "plotJ\n",
        "ax1=plt.subplot(131)\n",
        "plt.plot(plotJ[1:,0], plotJ[1:,1])\n"
      ]
    },
    {
      "cell_type": "code",
      "execution_count": null,
      "metadata": {
        "id": "qO0vxl7zN1oD",
        "outputId": "89eb744b-c530-4c4d-8e66-b280411230ec"
      },
      "outputs": [
        {
          "name": "stdout",
          "output_type": "stream",
          "text": [
            "21432.059999999998 (array([83]),)\n"
          ]
        }
      ],
      "source": [
        "# Minimum Loss and its corresponding weight\n",
        "minLoss=np.min(plotJ[1:,1])\n",
        "print(minLoss, np.where(plotJ[1:,1] == minLoss))"
      ]
    },
    {
      "cell_type": "markdown",
      "metadata": {
        "id": "_uzrecsiN1oE"
      },
      "source": [
        "## Gradient Descent\n",
        "$ \\frac{\\partial J}{\\partial w} = \\frac{1}{m} \\sum \\limits _{i=1} ^m (\\hat {y}^{(i)}-y^{(i)})x$  \n",
        "\n",
        "$ \\frac{\\partial J}{\\partial b} = \\frac{1}{m} \\sum \\limits _{i=1} ^m (\\hat {y}^{(i)}-y^{(i)})$  \n",
        "\n",
        "**Substituting**   \n",
        "\n",
        "$ \\frac{\\partial J}{\\partial w} = \\frac{1}{m}[(100w+b-20) (100) +(150w+b-28) (150) +....+(5000w+b-40) (5000)]$  \n",
        "\n",
        "$ \\frac{\\partial J}{\\partial b} = \\frac{1}{m}[(100w+b-20) +(150w+b-28) +....+(5000w+b-40) ]$  \n",
        "\n",
        "**Updating Parameters**  \n",
        "\n",
        "$ w = w - \\alpha \\frac {\\partial J}{\\partial w}$  \n",
        "\n",
        "$ b = b - \\alpha \\frac {\\partial J}{\\partial b}$  \n",
        "\n",
        "Where,  \n",
        "        $ \\alpha$ : Learning Rate (0.0001, 0.001, 0.01...)"
      ]
    },
    {
      "cell_type": "code",
      "execution_count": null,
      "metadata": {
        "id": "1tmQcE8BN1oE",
        "outputId": "185d1b6d-3f51-42b5-c168-b2f93824ff24"
      },
      "outputs": [
        {
          "data": {
            "text/plain": [
              "8"
            ]
          },
          "execution_count": 22,
          "metadata": {},
          "output_type": "execute_result"
        }
      ],
      "source": [
        "X_norm=X/np.max(X)\n",
        "X_norm.shape[0]"
      ]
    },
    {
      "cell_type": "markdown",
      "metadata": {
        "id": "h-BE3OOfN1oE"
      },
      "source": [
        "## Python implementation\n",
        "\n",
        "1. Arrange the input feature matrix $ \\mathbf{x}.shape = (1 \\times m)$    \n",
        "2. Arrange the output vector $\\mathbf{y}.shape=(1 \\times m)$  \n",
        "3. Assume learning rate and number of iterations\n",
        "4. Initialize the weight vector $\\mathbf{w}.shape=(1 \\times 1)$ We can initialize these with `zeros` for linear regression.\n",
        "5. Initialize the bias as zero (scalar)\n",
        "6. Loop over iteration  \n",
        "(a) Calculate predicted value array for assumed/updated parameters  \n",
        "$ \\mathbf{\\hat{y}}=w\\mathbf{x}+b$  \n",
        "(b) Calculate the partial derivative of Cost Function with respect to weights  \n",
        "$ \\frac{\\partial J}{\\partial w} = \\frac{1}{m} \\mathbf{x}(\\mathbf{\\hat {y}-y})^T$  \n",
        "(c) Calculate the partial derivative of Cost Function with respect to bias. This is evaluated by summing the difference of predicted value and actual value and taking mean.  \n",
        "$ \\frac{\\partial J}{\\partial b} = \\frac{1}{m} Sum(\\mathbf{\\hat {y}-y})^T$  \n",
        "(d) Update the weight and bias  \n",
        "$ w = w - \\alpha \\frac {\\partial J}{\\partial w}$  \n",
        "$ b = b - \\alpha \\frac {\\partial J}{\\partial b}$  \n"
      ]
    },
    {
      "cell_type": "code",
      "execution_count": null,
      "metadata": {
        "id": "t1ptU04dN1oF",
        "outputId": "f2216d2d-84d1-4f20-a8b6-a00d425ec89b"
      },
      "outputs": [
        {
          "name": "stdout",
          "output_type": "stream",
          "text": [
            "[0.02 0.03 0.04 0.05 0.1  0.2  0.5  1.  ]\n",
            "372.0255868645641 28.975827214200216\n"
          ]
        }
      ],
      "source": [
        "learning_rate=0.01\n",
        "max_iteration=5000\n",
        "cost=np.zeros((max_iteration))\n",
        "wPlot=np.zeros((max_iteration))\n",
        "bPlot=np.zeros((max_iteration))\n",
        "print(X_norm)\n",
        "w=0.0\n",
        "b=0.0\n",
        "for i in range(max_iteration):\n",
        "  yhat=w*X_norm+b\n",
        "  cost[i]=np.dot((yhat-y).T,(yhat-y))/2*X_norm.shape[0]\n",
        "  dw=np.dot((yhat-y).T,X_norm)/X_norm.shape[0]\n",
        "  db=np.sum((yhat-y), axis=0)/X_norm.shape[0]\n",
        "  w=w-learning_rate*dw\n",
        "  b=b-learning_rate*db\n",
        "  wPlot[i]=w\n",
        "  bPlot[i]=b\n",
        "print(w, b)"
      ]
    },
    {
      "cell_type": "code",
      "execution_count": null,
      "metadata": {
        "id": "CgJJHYe8N1oF",
        "outputId": "c443c093-4615-4f5c-903d-5f90809e4d23"
      },
      "outputs": [
        {
          "data": {
            "image/png": "[encoded data removed]",
            "text/plain": [
              "<Figure size 1008x432 with 3 Axes>"
            ]
          },
          "metadata": {
            "needs_background": "light"
          },
          "output_type": "display_data"
        }
      ],
      "source": [
        "ax1=plt.subplot(131)\n",
        "plt.scatter(X_norm,y,color=\"red\")\n",
        "ax2=plt.subplot(132)\n",
        "plt.xlabel('w')\n",
        "plt.ylabel('b')\n",
        "ax2.plot(wPlot,bPlot)\n",
        "# Plot learning curve (with costs)\n",
        "ax3=plt.subplot(133)\n",
        "plt.plot(cost)\n",
        "plt.ylabel('cost')\n",
        "plt.xlabel('iterations')\n",
        "plt.title(\"Learning rate\")\n",
        "plt.show()"
      ]
    },
    {
      "cell_type": "markdown",
      "metadata": {
        "id": "w3nK-jlFN1oG"
      },
      "source": [
        "The output weight can be converted using the following analysis.  \n",
        "$$ w'=\\frac {dy}{d\\bar{X}} = \\frac {dy}{\\frac{dX}{X_{max}}} = w'$$\n",
        "$$  w' = \\frac {dy{X_{max}}}{dX} = w X_{max}$$\n",
        "$$  w = \\frac {w'}{X_{max}}$$"
      ]
    },
    {
      "cell_type": "code",
      "execution_count": null,
      "metadata": {
        "id": "6U4ERvNkN1oG",
        "outputId": "ad592ad2-a728-45f1-f7d6-30e81451db8f"
      },
      "outputs": [
        {
          "name": "stdout",
          "output_type": "stream",
          "text": [
            "372.0255868645641 0.07440511737291282\n"
          ]
        }
      ],
      "source": [
        "w_model=w/np.max(X)\n",
        "print(w,w_model)"
      ]
    },
    {
      "cell_type": "code",
      "execution_count": null,
      "metadata": {
        "id": "xilumTUaN1oG"
      },
      "outputs": [],
      "source": [
        "def predict(w,b,x):\n",
        "  return w_model*x+b"
      ]
    },
    {
      "cell_type": "code",
      "execution_count": null,
      "metadata": {
        "id": "1PMbW0iyN1oG",
        "outputId": "5b40ffb1-b03e-45cb-9b0b-2ea6f547ec8c"
      },
      "outputs": [
        {
          "data": {
            "text/plain": [
              "29.035351308098544"
            ]
          },
          "execution_count": 27,
          "metadata": {},
          "output_type": "execute_result"
        }
      ],
      "source": [
        "predict(w_model,b,0.8)"
      ]
    },
    {
      "cell_type": "code",
      "execution_count": null,
      "metadata": {
        "id": "drzo38fKN1oH"
      },
      "outputs": [],
      "source": [
        "# xPoint,yPoint=np.meshgrid(wPlot,bPlot)\n",
        "# zPoint=np.zeros(xPoint.shape[0]*yPoint.shape[0]).reshape(xPoint.shape[0], yPoint.shape[0])\n",
        "# for i in range(xPoint.shape[0]):\n",
        "#   for j in range(yPoint.shape[0]):\n",
        "#     yhat=xPoint[i][j]*X+yPoint[i][j]\n",
        "#     J=np.dot((yhat-y).T,(yhat-y))\n",
        "#     zPoint[i][j]=J/2*X.shape[0] # x.sha\n",
        "# ax2=plt.axes(projection=\"3d\")\n",
        "# ax2.plot_wireframe(xPoint,yPoint,zPoint)\n",
        "# ax2.view_init(45,215)\n",
        "# print(J)\n",
        "# cs1=plt.contour(xPoint,yPoint,zPoint,150)\n",
        "# plt.clabel(cs1)"
      ]
    },
    {
      "cell_type": "markdown",
      "metadata": {
        "id": "iVzDZ383N1oH"
      },
      "source": [
        "## Linear Fit using `MatplotLib`"
      ]
    },
    {
      "cell_type": "code",
      "execution_count": null,
      "metadata": {
        "id": "TK5ru4EKN1oH",
        "outputId": "41282423-bab2-4ead-f5a2-df8b46cd15d1"
      },
      "outputs": [
        {
          "name": "stdout",
          "output_type": "stream",
          "text": [
            " \n",
            "0.07491 x + 28.29\n"
          ]
        },
        {
          "data": {
            "image/png": "[encoded data removed]",
            "text/plain": [
              "<Figure size 1008x432 with 1 Axes>"
            ]
          },
          "metadata": {
            "needs_background": "light"
          },
          "output_type": "display_data"
        }
      ],
      "source": [
        "# Using Matplotlib function for linear fiiting\n",
        "plt.scatter(X,y,color=\"red\")\n",
        "linear_model=np.polyfit(X,y,1)\n",
        "hypothesis =np.poly1d(linear_model)\n",
        "print(hypothesis)\n",
        "plt.plot(X,hypothesis(X))\n",
        "plt.show()"
      ]
    },
    {
      "cell_type": "code",
      "execution_count": null,
      "metadata": {
        "id": "4T6uw10gN1oH"
      },
      "outputs": [],
      "source": [
        "\n",
        "from sklearn import linear_model\n",
        "X=np.array([[100],[150],[200],[250],[500], [1000],[2500],[5000]])\n",
        "# X=np.array([[1],[1],[2],[2],[3], [4],[4],[5]])\n",
        "y=np.array([20,28, 39, 51, 75, 130, 210, 400])\n"
      ]
    },
    {
      "cell_type": "code",
      "execution_count": null,
      "metadata": {
        "id": "6U2-DAf3N1oH",
        "outputId": "a94ef1f3-2d07-4335-b61f-c2e2f195faa7"
      },
      "outputs": [
        {
          "name": "stdout",
          "output_type": "stream",
          "text": [
            "(8, 1) <class 'numpy.ndarray'> (8,) <class 'numpy.ndarray'>\n"
          ]
        }
      ],
      "source": [
        "print(X.shape, type(X), y.shape, type(y))\n",
        "# print(X, y)"
      ]
    },
    {
      "cell_type": "code",
      "execution_count": null,
      "metadata": {
        "id": "Jfd2HKDvN1oI",
        "outputId": "77ad889c-42f9-4e72-e5e5-dc1a0ac71c13"
      },
      "outputs": [
        {
          "name": "stdout",
          "output_type": "stream",
          "text": [
            "[0.07491407]\n",
            "28.291694113419965\n"
          ]
        }
      ],
      "source": [
        "# Create a Logistic Regression Object, perform Logistic Regression\n",
        "lr = linear_model.LinearRegression()\n",
        "lr.fit(X, y)\n",
        "print(lr.coef_)\n",
        "print(lr.intercept_)"
      ]
    }
  ],
  "metadata": {
    "interpreter": {
      "hash": "aee8b7b246df8f9039afb4144a1f6fd8d2ca17a180786b69acc140d282b71a49"
    },
    "kernelspec": {
      "display_name": "Python 3.7.9 64-bit",
      "language": "python",
      "name": "python3"
    },
    "language_info": {
      "codemirror_mode": {
        "name": "ipython",
        "version": 3
      },
      "file_extension": ".py",
      "mimetype": "text/x-python",
      "name": "python",
      "nbconvert_exporter": "python",
      "pygments_lexer": "ipython3",
      "version": "3.7.9"
    },
    "orig_nbformat": 4,
    "colab": {
      "name": "07linearRegression1F.ipynb",
      "provenance": []
    }
  },
  "nbformat": 4,
  "nbformat_minor": 0
}
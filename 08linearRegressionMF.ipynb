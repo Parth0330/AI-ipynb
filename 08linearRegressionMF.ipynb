{
 "cells": [
  {
   "cell_type": "markdown",
   "metadata": {},
   "source": [
    "## Linear Regression (Multi Features and m Training Examples)"
   ]
  },
  {
   "cell_type": "markdown",
   "metadata": {},
   "source": [
    "### Hypothesis\n",
    "We will use $\\mathbf{𝐱_𝐢}$  to denote the feature vector and  $\\mathbf{𝐲_𝐢}$  to denote output variable for $\\mathbf{i^{th}}$ training example.  \n",
    "\n",
    "$h(x)=w_1x^{(i)}_1+w_2x^{(i)}_2+.....+w_{nx}x^{(i)}_{nx}+b$  \n",
    "\n",
    "Where,   \n",
    "\n",
    "$m$ : training examples  \n",
    "$nx$ : Number of features  \n",
    "\n",
    "Let us write $\\hat{y}$ for the prediction from the hypothesis.\n",
    "\n",
    "$\\hat{y}^{(i)} = w_1x^{(i)}_1+w_2x^{(i)}_2+.....+w_{nx}x^{(i)}_{nx}+b $   \n",
    "\n",
    "Feature vector for $i^{th}$ training example:\n",
    "$\\mathbf{x}^{(i)} =\\begin{pmatrix}\n",
    "  {x}_1^{(i)} \\\\ {x}_2^{(i)} \\\\ \\vdots \\\\ {x}_{nx}^{(i)}\n",
    " \\end{pmatrix} $   \n",
    "\n",
    "Feature vector of the problem dataset:   \n",
    "\n",
    "$ \\mathbf{X} = \\begin{pmatrix}\n",
    "\\mathbf{x}^{(1)} & \\mathbf{x}^{(2)} & \\cdots & \\mathbf{x}^{(i)}\n",
    "\\end{pmatrix}$   \n",
    "\n",
    "$ \\mathbf{X} = \\begin{pmatrix}\n",
    "{x}_1^{(1)} & {x}_1^{(2)} & \\cdots & {x}_1^{(m)} \\\\ \n",
    "{x}_2^{(1)} & {x}_2^{(2)} & \\cdots & {x}_2^{(m)} \\\\ \n",
    "\\vdots & \\vdots & \\cdots & \\vdots \\\\ \n",
    "{x}_{nx}^{(1)} & {x}_{nx}^{(1)} & \\cdots & {x}_{nx}^{(m)}\n",
    "\\end{pmatrix}$\n",
    "\n",
    "\n",
    "Parameter vector :\n",
    "$\\mathbf{w} =\\begin{pmatrix}\n",
    "  {w}_1 \\\\ {w}_2 \\\\ \\vdots \\\\ {w}_{nx}\n",
    " \\end{pmatrix}, b $   "
   ]
  },
  {
   "cell_type": "markdown",
   "metadata": {},
   "source": [
    "### Example Data   \n",
    "\n",
    "| Size      | Bedrooms | Price (L) |\n",
    "| :---:     | :----:   |   :---:   |\n",
    "| 100       | 1        | 20        |\n",
    "| 150       | 2        | 28        | \n",
    "| 200       | 3        | 39        | \n",
    "| 250       | 4        | 51        | \n",
    "| 500       | 4        | 80        |  \n",
    "\n",
    "$m=5; nx=2$\n",
    "\n",
    "Features for $3^{rd}$ training example:   \n",
    "$$x^{(3)}_1=200; x^{(3)}_2=3$$  \n",
    "\n",
    "Feature vector for $2^{nd}$ training example:\n",
    "$\\mathbf{x}^{(2)} =\\begin{pmatrix}\n",
    "  150 \\\\ 2\n",
    " \\end{pmatrix} $   \n",
    "\n",
    "Feature vector of the problem dataset:   \n",
    "\n",
    "$ \\mathbf{X} = \\begin{pmatrix}\n",
    "\\mathbf{x}^{(1)} & \\mathbf{x}^{(2)} & \\cdots & \\mathbf{x}^{(5)}\n",
    "\\end{pmatrix}$   \n",
    "\n",
    "$ \\mathbf{X} = \\begin{pmatrix}\n",
    "100 & 150 & 200 & 250 & 500 \\\\ 1 & 2 & 3 & 4 & 4\n",
    "\\end{pmatrix}$\n",
    "\n",
    "Parameter vector :   \n",
    "$ \\mathbf{w} = \\begin{pmatrix}\n",
    "w_{1} \\\\ w_{2}\n",
    "\\end{pmatrix}, b$  \n",
    "\n",
    "Output vector (Given/Labelled) : \n",
    "$\\mathbf {y} = \\begin{pmatrix}\n",
    "y^{(1)} & y^{(2)} & \\cdots & y^{(m)}\n",
    "\\end{pmatrix} = \\begin{pmatrix}\n",
    "20 & 28 & 39 & 53 & 80\n",
    "\\end{pmatrix}$  \n",
    "\n",
    "Output vector (Prediction): \n",
    "$\\mathbf {\\hat{y}} = \\begin{pmatrix}\n",
    "\\hat{y}^{(1)} & \\hat{y}^{(2)} & \\cdots & \\hat{y}^{(m)}\n",
    "\\end{pmatrix} $ "
   ]
  },
  {
   "cell_type": "markdown",
   "metadata": {},
   "source": [
    "**Predicted Values**   \n",
    "\n",
    "$\\hat{y}^{(1)} = w_1x^{(1)}_1+w_2x^{(1)}_2+b = \\mathbf {w}^T \\mathbf {x}^{(1)} + b $  \n",
    "\n",
    "$\\hat{y}^{(2)} = w_1x^{(2)}_1+w_2x^{(2)}_2+b = \\mathbf {w}^T \\mathbf {x}^{(2)} + b $  \n",
    "\n",
    "$\\hat{y}^{(3)} = w_1x^{(3)}_1+w_2x^{(3)}_2+b = \\mathbf {w}^T \\mathbf {x}^{(3)} + b $  \n",
    "\n",
    "$\\hat{y}^{(4)} = w_1x^{(4)}_1+w_2x^{(4)}_2+b = \\mathbf {w}^T \\mathbf {x}^{(4)} + b $  \n",
    "\n",
    "$\\hat{y}^{(5)} = w_1x^{(5)}_1+w_2x^{(5)}_2+b = \\mathbf {w}^T \\mathbf {x}^{(5)} + b $   \n",
    "\n",
    "\n",
    "$\\mathbf{\\hat{y}} = \\mathbf {w}^T \\mathbf {X} + b $  \n"
   ]
  },
  {
   "cell_type": "code",
   "execution_count": 1,
   "metadata": {},
   "outputs": [
    {
     "name": "stdout",
     "output_type": "stream",
     "text": [
      "[[100   1]\n",
      " [150   2]\n",
      " [200   3]\n",
      " [250   4]\n",
      " [500   4]] [20 28 39 51 80]\n"
     ]
    }
   ],
   "source": [
    "import numpy as np\n",
    "X=np.array([[100,1], [150,2], [200,3], [250,4],[500,4]])\n",
    "y=np.array([20,28, 39, 51, 80])\n",
    "print(X, y)"
   ]
  },
  {
   "cell_type": "markdown",
   "metadata": {},
   "source": [
    "### Solving using sklearn library"
   ]
  },
  {
   "cell_type": "code",
   "execution_count": 2,
   "metadata": {},
   "outputs": [
    {
     "name": "stdout",
     "output_type": "stream",
     "text": [
      "(5, 2) <class 'numpy.ndarray'> (5,) <class 'numpy.ndarray'>\n",
      "[0.1196 4.42  ]\n",
      "2.5199999999999747\n"
     ]
    }
   ],
   "source": [
    "from sklearn import linear_model\n",
    "print(X.shape, type(X), y.shape, type(y))\n"
   ]
  },
  {
   "cell_type": "code",
   "execution_count": null,
   "metadata": {},
   "outputs": [],
   "source": [
    "# Create a Logistic Regression Object, perform Logistic Regression\n",
    "lr = linear_model.LinearRegression()\n",
    "lr.fit(X, y)\n"
   ]
  },
  {
   "cell_type": "code",
   "execution_count": null,
   "metadata": {},
   "outputs": [],
   "source": [
    "print(lr.coef_)\n",
    "print(lr.intercept_)"
   ]
  },
  {
   "cell_type": "markdown",
   "metadata": {},
   "source": [
    "\n",
    "**Data substitution**   \n",
    "\n",
    "$\\hat{y}^{(1)} = w_1x^{(1)}_1+w_2x^{(1)}_2+b = w_1(100)+w_2(1) + b $    \n",
    "\n",
    "$\\hat{y}^{(2)} = w_1x^{(2)}_1+w_2x^{(2)}_2+b = w_1(150)+w_2(2) + b $    \n",
    "\n",
    "$\\hat{y}^{(3)} = w_1x^{(3)}_1+w_2x^{(3)}_2+b = w_1(200)+w_2(3) + b $    \n",
    "\n",
    "$\\hat{y}^{(4)} = w_1x^{(4)}_1+w_2x^{(4)}_2+b = w_1(250)+w_2(4) + b $    \n",
    "\n",
    "$\\hat{y}^{(5)} = w_1x^{(5)}_1+w_2x^{(5)}_2+b = w_1(500)+w_2(4) + b $    \n",
    "\n"
   ]
  },
  {
   "cell_type": "markdown",
   "metadata": {},
   "source": [
    "### Cost Function  \n",
    "$J(\\mathbf{w},b)=\\frac{1}{2m}\\sum \\limits _{i=1} ^{m} (\\hat{y}-y)^{2} $  \n",
    "$J(\\mathbf{w},b)=\\frac{1}{2m}\\sum \\limits _{i=1} ^{m} ((\\mathbf{w}^T \\mathbf{x}^{(i)}+b)-y)^{2} $  \n",
    "\n",
    "Start with sum assumed value of $\\mathbf{w}$ and $b$ and evaluate $J(\\mathbf{w},b)$  \n",
    "\n",
    "$J(w_1, w_2,b)=\\frac{1}{2m}[(100w_1+w_2+b-20)^2+(150w_1+2w_2+b-28)^2+(200w_1+3w_2+b-39)^2+(250w_1+4w_2+b-51)^2+(500w_1+4w_2+b-80)^2]$  \n",
    "\n",
    "**Our aim is to minimize the cost function,** $J(\\mathbf{w},b)$   "
   ]
  },
  {
   "cell_type": "markdown",
   "metadata": {},
   "source": [
    "### Gradient Descent\n",
    "$ \\frac{\\partial J}{\\partial w_j} = \\frac{1}{m} \\sum \\limits _{i=1} ^m (\\hat {y}^{(i)}-y^{(i)}){x}^{(i)}_j$  \n",
    "\n",
    "$ \\frac{\\partial J}{\\partial b} = \\frac{1}{m} \\sum \\limits _{i=1} ^m (\\hat {y}^{(i)}-y^{(i)})$  \n",
    "\n",
    "**Substituting**   \n",
    "\n",
    "$ \\frac{\\partial J}{\\partial w_1} = \\frac{1}{m} [(\\hat {y}^{(1)}-y^{(1)}){x}^{(1)}_1 + (\\hat {y}^{(2)}-y^{(2)}){x}^{(2)}_1 + (\\hat {y}^{(3)}-y^{(3)}){x}^{(3)}_1+(\\hat {y}^{(4)}-y^{(4)}){x}^{(4)}_1 + (\\hat {y}^{(5)}-y^{(5)}){x}^{(5)}_1]$  \n",
    "\n",
    "$ \\frac{\\partial J}{\\partial w_2} = \\frac{1}{m} [(\\hat {y}^{(1)}-y^{(1)}){x}^{(1)}_2 + (\\hat {y}^{(2)}-y^{(2)}){x}^{(2)}_2 + (\\hat {y}^{(3)}-y^{(3)}){x}^{(3)}_2+(\\hat {y}^{(4)}-y^{(4)}){x}^{(4)}_2 + (\\hat {y}^{(5)}-y^{(5)}){x}^{(5)}_2]$   \n",
    "\n",
    "\n",
    "$ \\frac{\\partial J}{\\partial w_1} = \\frac{1}{m} \\begin{pmatrix}\n",
    "{x}^{(1)}_1 & {x}^{(2)}_1 & {x}^{(3)}_1 & {x}^{(4)}_1 & {x}^{(5)}_1 \n",
    "\\end{pmatrix}\\begin{pmatrix}\n",
    "\\hat {y}^{(1)}-y^{(1)}\\\\\n",
    "\\hat {y}^{(2)}-y^{(2)}\\\\\n",
    "\\hat {y}^{(3)}-y^{(3)}\\\\\n",
    "\\hat {y}^{(4)}-y^{(4)}\\\\\n",
    "\\hat {y}^{(5)}-y^{(5)}\n",
    "\\end{pmatrix}$   \n",
    "\n",
    "$$ \\frac{\\partial J}{\\partial w_1} = \\frac{1}{m} \\mathbf{x}_{(1)}(\\mathbf{\\hat {y}-y})$$  \n",
    "\n",
    "$ \\frac{\\partial J}{\\partial w_2} = \\frac{1}{m} \\begin{pmatrix} \n",
    "{x}^{(1)}_2 & {x}^{(2)}_2 & {x}^{(3)}_2 & {x}^{(4)}_2 & {x}^{(5)}_2\n",
    "\\end{pmatrix}\\begin{pmatrix}\n",
    "\\hat {y}^{(1)}-y^{(1)}\\\\\n",
    "\\hat {y}^{(2)}-y^{(2)}\\\\\n",
    "\\hat {y}^{(3)}-y^{(3)}\\\\\n",
    "\\hat {y}^{(4)}-y^{(4)}\\\\\n",
    "\\hat {y}^{(5)}-y^{(5)}\n",
    "\\end{pmatrix}$\n",
    "\n",
    "$$ \\frac{\\partial J}{\\partial w_2} = \\frac{1}{m} \\mathbf{x}_{(2)}(\\mathbf{\\hat {y}-y})$$  \n",
    "\n",
    "$ \\frac {\\partial J}{\\partial \\mathbf{w}} = \\begin{pmatrix}\n",
    "\\frac{\\partial J}{\\partial w_1} \\\\ \n",
    "\\frac{\\partial J}{\\partial w_2}\n",
    "\\end{pmatrix}$ \n",
    "\n",
    "$ \\frac {\\partial J}{\\partial \\mathbf{w}} = \\frac{1}{m}\\begin{pmatrix}\n",
    "{x}^{(1)}_1 & {x}^{(2)}_1 & {x}^{(3)}_1 & {x}^{(4)}_1 & {x}^{(5)}_1 \\\\ \n",
    "{x}^{(1)}_2 & {x}^{(2)}_2 & {x}^{(3)}_2 & {x}^{(4)}_2 & {x}^{(5)}_2\n",
    "\\end{pmatrix}\\begin{pmatrix}\n",
    "\\hat {y}^{(1)}-y^{(1)}\\\\\n",
    "\\hat {y}^{(2)}-y^{(2)}\\\\\n",
    "\\hat {y}^{(3)}-y^{(3)}\\\\\n",
    "\\hat {y}^{(4)}-y^{(4)}\\\\\n",
    "\\hat {y}^{(5)}-y^{(5)}\n",
    "\\end{pmatrix}$ \n",
    "\n",
    "$$ \\frac {\\partial J}{\\partial \\mathbf{w}} =\\frac{1}{m} \\mathbf {X} (\\mathbf{\\hat {y}-y})^{T} $$   \n",
    "\n",
    "**Updating Parameters**  \n",
    "\n",
    "$ \\mathbf{w} = \\mathbf{w} - \\alpha \\frac {\\partial J}{\\partial \\mathbf{w}}$  \n",
    "\n",
    "$ b = b - \\alpha \\frac {\\partial J}{\\partial b}$  \n",
    "\n",
    "Where,  \n",
    "        $ \\alpha$ : Learning Rate (0.0001, 0.001, 0.01...)"
   ]
  }
 ],
 "metadata": {
  "interpreter": {
   "hash": "aee8b7b246df8f9039afb4144a1f6fd8d2ca17a180786b69acc140d282b71a49"
  },
  "kernelspec": {
   "display_name": "Python 3.7.9 64-bit",
   "language": "python",
   "name": "python3"
  },
  "language_info": {
   "codemirror_mode": {
    "name": "ipython",
    "version": 3
   },
   "file_extension": ".py",
   "mimetype": "text/x-python",
   "name": "python",
   "nbconvert_exporter": "python",
   "pygments_lexer": "ipython3",
   "version": "3.7.9"
  },
  "orig_nbformat": 4
 },
 "nbformat": 4,
 "nbformat_minor": 2
}

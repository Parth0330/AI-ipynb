{
  "cells": [
    {
      "cell_type": "markdown",
      "metadata": {
        "id": "view-in-github",
        "colab_type": "text"
      },
      "source": [
        "<a href=\"https://colab.research.google.com/github/vkjadon/AI-ipynb/blob/master/09linearRegressionSKL.ipynb\" target=\"_parent\"><img src=\"https://colab.research.google.com/assets/colab-badge.svg\" alt=\"Open In Colab\"/></a>"
      ]
    },
    {
      "cell_type": "markdown",
      "source": [
        "### Case Study - 1 (Marks-10)  \n",
        "\n",
        "**Implement the Linear Regression on the Diabetes Dataset of the SciKit-Learn. The parameters obtained must be as close as the parameters obtained using Linear Rgression Method of Linear Model available in SciKit Library. Calculate the accuracy of your model with respect to SciKit model**  "
      ],
      "metadata": {
        "id": "k6iBpZZSBHpd"
      }
    },
    {
      "cell_type": "code",
      "source": [
        "from google.colab import drive\n",
        "drive.mount('/content/drive')"
      ],
      "metadata": {
        "id": "pvNhODWGblNr",
        "outputId": "183c3064-ed2c-4b62-83bd-0af2e6edf806",
        "colab": {
          "base_uri": "https://localhost:8080/"
        }
      },
      "execution_count": null,
      "outputs": [
        {
          "output_type": "stream",
          "name": "stdout",
          "text": [
            "Drive already mounted at /content/drive; to attempt to forcibly remount, call drive.mount(\"/content/drive\", force_remount=True).\n"
          ]
        }
      ]
    },
    {
      "cell_type": "code",
      "source": [
        "# Comment it if you are running all the cells again in the same Colab Session else uncomment\n",
        "#%cd drive/MyDrive/Colab Notebooks/AI-ipynb"
      ],
      "metadata": {
        "id": "LWiK2U9SbuA8"
      },
      "execution_count": null,
      "outputs": []
    },
    {
      "cell_type": "markdown",
      "source": [
        "## Importing Dataset\n",
        "\n",
        "[Toy SciKit-Learn Dataset](https://scikit-learn.org/stable/datasets/toy_dataset.html)\n",
        "\n"
      ],
      "metadata": {
        "id": "iJSLO2UzE_6p"
      }
    },
    {
      "cell_type": "code",
      "execution_count": null,
      "metadata": {
        "id": "nUS5ld3CEQ0A"
      },
      "outputs": [],
      "source": [
        "import matplotlib.pyplot as plt\n",
        "from sklearn import datasets, linear_model\n",
        "import numpy as np"
      ]
    },
    {
      "cell_type": "code",
      "execution_count": null,
      "metadata": {
        "id": "weqvonLuEQ0D"
      },
      "outputs": [],
      "source": [
        "\n",
        "# Load the diabetes dataset\n",
        "diabetes_X, y = datasets.load_diabetes(return_X_y=True)"
      ]
    },
    {
      "cell_type": "code",
      "execution_count": null,
      "metadata": {
        "id": "R4KtowTuEQ0E",
        "colab": {
          "base_uri": "https://localhost:8080/"
        },
        "outputId": "272110f2-f7a8-4bc6-ed6e-43176e19fc1f"
      },
      "outputs": [
        {
          "output_type": "stream",
          "name": "stdout",
          "text": [
            "(442, 10)\n",
            "<class 'numpy.ndarray'>\n",
            "(442,)\n"
          ]
        }
      ],
      "source": [
        "print(diabetes_X.shape)\n",
        "print(type(diabetes_X))\n",
        "print(y.shape)"
      ]
    },
    {
      "cell_type": "code",
      "execution_count": null,
      "metadata": {
        "id": "HExxKoU0EQ0F",
        "colab": {
          "base_uri": "https://localhost:8080/"
        },
        "outputId": "6450a884-78f8-4810-a5ad-f8efbbb75671"
      },
      "outputs": [
        {
          "output_type": "stream",
          "name": "stdout",
          "text": [
            "(442, 4)\n"
          ]
        }
      ],
      "source": [
        "\n",
        "# Using the jth feature\n",
        "j=[1,2,3,4]\n",
        "X = diabetes_X[:, j] # All Rows of jth column\n",
        "X=X.reshape(diabetes_X.shape[0],len(j)) # To restrict to only desired columns list `j`\n",
        "print(X.shape)\n",
        "# print(type(X))\n",
        "#print(X)\n",
        "\n"
      ]
    },
    {
      "cell_type": "code",
      "source": [
        "# Using all the features\n",
        "X = diabetes_X\n",
        "print(X.shape)\n",
        "#print(type(X))\n",
        "#print(X)"
      ],
      "metadata": {
        "id": "3fnu1GtwD-UU",
        "colab": {
          "base_uri": "https://localhost:8080/"
        },
        "outputId": "77fa5c32-b05d-48c2-a02d-da1ea6dbe44a"
      },
      "execution_count": null,
      "outputs": [
        {
          "output_type": "stream",
          "name": "stdout",
          "text": [
            "(442, 10)\n"
          ]
        }
      ]
    },
    {
      "cell_type": "code",
      "execution_count": null,
      "metadata": {
        "id": "uQ6BdYTQEQ0G",
        "colab": {
          "base_uri": "https://localhost:8080/"
        },
        "outputId": "dc251b3a-42bc-48b5-b494-c96f7bbc50e3"
      },
      "outputs": [
        {
          "output_type": "stream",
          "name": "stdout",
          "text": [
            "Coefficients: \n",
            " [[ -10.01219782]\n",
            " [-239.81908937]\n",
            " [ 519.83978679]\n",
            " [ 324.39042769]\n",
            " [-792.18416163]\n",
            " [ 476.74583782]\n",
            " [ 101.04457032]\n",
            " [ 177.06417623]\n",
            " [ 751.27932109]\n",
            " [  67.62538639]]\n",
            "Intercept: \n",
            " 152.1334841628965\n"
          ]
        }
      ],
      "source": [
        "\n",
        "# Create linear regression object\n",
        "lr = linear_model.LinearRegression()\n",
        "\n",
        "# Train the model using the training sets\n",
        "lr.fit(X, y)\n",
        "\n",
        "# The coefficients\n",
        "w_skl=lr.coef_.reshape(X.shape[1],1)\n",
        "b_skl=lr.intercept_\n",
        "print(\"Coefficients: \\n\", w_skl)\n",
        "print(\"Intercept: \\n\", b_skl)"
      ]
    },
    {
      "cell_type": "code",
      "source": [
        "X_mf=X.T\n",
        "nx,m=X_mf.shape\n",
        "print(\"nx, m\", nx,m)\n",
        "print(\"y \", y.shape)\n",
        "y=y.reshape(1,X_mf.shape[1])\n",
        "print(\"y after reshape \", y.shape)\n",
        "learning_rate=0.001\n",
        "max_iteration=20000\n",
        "# print(X_mf,y)\n",
        "w=np.zeros(nx).reshape(nx,1)\n",
        "J=np.zeros(max_iteration)\n",
        "b=0.0\n",
        "#print(X_mf.shape, y.shape, w.shape,w)\n",
        "for i in range(max_iteration):\n",
        "  yhat=np.dot(w.T,X_mf)+b\n",
        "  # print(\"yhat \", yhat)\n",
        "  J[i]=np.dot((yhat-y),(yhat-y).T)*(0.5*m)\n",
        "  # print(\"yhat \", yhat)\n",
        "  dw=(1/m)*np.dot(X_mf,(yhat-y).T)\n",
        "  db=(1/m)*np.sum((yhat-y), axis=1) # axis=1 : Output rowwise sum \n",
        "  w=w-learning_rate*dw\n",
        "  b=b-learning_rate*db\n",
        "w_model,b_model=w,b\n",
        "print(\"w_skl and w_model \\n\", w_skl.T, \"\\n\",w_model.T)\n",
        "# print(\"w_model and b_model \", w_model, b_model)\n",
        "print(\"w_diff\", 100*(w_model-w_skl)/w_skl)"
      ],
      "metadata": {
        "colab": {
          "base_uri": "https://localhost:8080/"
        },
        "id": "nv214HNlnnAY",
        "outputId": "ad9fa3ad-1ec6-4240-a3ff-29898fbf9429"
      },
      "execution_count": null,
      "outputs": [
        {
          "output_type": "stream",
          "name": "stdout",
          "text": [
            "nx, m 10 442\n",
            "y  (1, 442)\n",
            "y after reshape  (1, 442)\n",
            "w_skl and w_model \n",
            " [[ -10.01219782 -239.81908937  519.83978679  324.39042769 -792.18416163\n",
            "   476.74583782  101.04457032  177.06417623  751.27932109   67.62538639]] \n",
            " [[ 12.31317479   2.03555064  40.41043803  30.16989587  13.51478134\n",
            "   10.73956664 -26.74239306  28.61741478  38.59705997  25.64406086]]\n",
            "w_diff [[-222.98173698]\n",
            " [-100.84878591]\n",
            " [ -92.22636684]\n",
            " [ -90.69951105]\n",
            " [-101.70601509]\n",
            " [ -97.74731822]\n",
            " [-126.46593773]\n",
            " [ -83.83782909]\n",
            " [ -94.86248871]\n",
            " [ -62.07923942]]\n"
          ]
        }
      ]
    },
    {
      "cell_type": "code",
      "source": [
        "xPlot=np.linspace(1,max_iteration, num=max_iteration)\n",
        "print(xPlot.shape, J.shape)\n",
        "plt.plot(xPlot,J)"
      ],
      "metadata": {
        "colab": {
          "base_uri": "https://localhost:8080/",
          "height": 311
        },
        "id": "3hUIsBIloTZD",
        "outputId": "1c83ef24-49fa-44f0-8179-c56feb8eca85"
      },
      "execution_count": null,
      "outputs": [
        {
          "output_type": "stream",
          "name": "stdout",
          "text": [
            "(20000,) (20000,)\n"
          ]
        },
        {
          "output_type": "execute_result",
          "data": {
            "text/plain": [
              "[<matplotlib.lines.Line2D at 0x7fc90bc16dd0>]"
            ]
          },
          "metadata": {},
          "execution_count": 31
        },
        {
          "output_type": "display_data",
          "data": {
            "image/png": "[encoded data removed]",
            "text/plain": [
              "<Figure size 432x288 with 1 Axes>"
            ]
          },
          "metadata": {
            "needs_background": "light"
          }
        }
      ]
    },
    {
      "cell_type": "markdown",
      "source": [
        "There is a lot of difference in the w_skl and w_model. This could be due to the inefficient hyper-parameters or due to the feature scaling."
      ],
      "metadata": {
        "id": "uEhZ3rx9cMF8"
      }
    }
  ],
  "metadata": {
    "interpreter": {
      "hash": "aee8b7b246df8f9039afb4144a1f6fd8d2ca17a180786b69acc140d282b71a49"
    },
    "kernelspec": {
      "display_name": "Python 3.7.9 64-bit",
      "language": "python",
      "name": "python3"
    },
    "language_info": {
      "codemirror_mode": {
        "name": "ipython",
        "version": 3
      },
      "file_extension": ".py",
      "mimetype": "text/x-python",
      "name": "python",
      "nbconvert_exporter": "python",
      "pygments_lexer": "ipython3",
      "version": "3.7.9"
    },
    "orig_nbformat": 4,
    "colab": {
      "name": "09linearRegressionSKL.ipynb",
      "provenance": [],
      "include_colab_link": true
    }
  },
  "nbformat": 4,
  "nbformat_minor": 0
}
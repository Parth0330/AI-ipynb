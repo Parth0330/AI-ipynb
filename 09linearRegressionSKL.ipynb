{
  "cells": [
    {
      "cell_type": "markdown",
      "metadata": {
        "id": "view-in-github",
        "colab_type": "text"
      },
      "source": [
        "<a href=\"https://colab.research.google.com/github/vkjadon/AI-ipynb/blob/master/09linearRegressionSKL.ipynb\" target=\"_parent\"><img src=\"https://colab.research.google.com/assets/colab-badge.svg\" alt=\"Open In Colab\"/></a>"
      ]
    },
    {
      "cell_type": "markdown",
      "source": [
        "### Case Study - 1 (Marks-10)  \n",
        "\n",
        "**Implement the Linear Regression on the Diabetes Dataset of the SciKit-Learn. The parameters obtained must be as close as the parameters obtained using Linear Rgression Method of Linear Model available in SciKit Library. Calculate the accuracy of your model with respect to SciKit model**  "
      ],
      "metadata": {
        "id": "k6iBpZZSBHpd"
      }
    },
    {
      "cell_type": "code",
      "source": [
        "from google.colab import drive\n",
        "drive.mount('/content/drive')"
      ],
      "metadata": {
        "id": "pvNhODWGblNr",
        "outputId": "d00fdecc-06f5-4224-a664-4059c1045300",
        "colab": {
          "base_uri": "https://localhost:8080/"
        }
      },
      "execution_count": 2,
      "outputs": [
        {
          "output_type": "stream",
          "name": "stdout",
          "text": [
            "Mounted at /content/drive\n"
          ]
        }
      ]
    },
    {
      "cell_type": "code",
      "source": [
        "# Comment it if you are running all the cells again in the same Colab Session else uncomment\n",
        "#%cd drive/MyDrive/Colab Notebooks/AI-ipynb"
      ],
      "metadata": {
        "id": "LWiK2U9SbuA8"
      },
      "execution_count": 3,
      "outputs": []
    },
    {
      "cell_type": "markdown",
      "source": [
        "## Importing Dataset\n",
        "\n",
        "[Toy SciKit-Learn Dataset](https://scikit-learn.org/stable/datasets/toy_dataset.html)\n",
        "\n"
      ],
      "metadata": {
        "id": "iJSLO2UzE_6p"
      }
    },
    {
      "cell_type": "code",
      "execution_count": 4,
      "metadata": {
        "id": "nUS5ld3CEQ0A"
      },
      "outputs": [],
      "source": [
        "import matplotlib.pyplot as plt\n",
        "from sklearn import datasets, linear_model\n",
        "import numpy as np"
      ]
    },
    {
      "cell_type": "code",
      "execution_count": 5,
      "metadata": {
        "id": "weqvonLuEQ0D"
      },
      "outputs": [],
      "source": [
        "\n",
        "# Load the diabetes dataset\n",
        "diabetes_X, y = datasets.load_diabetes(return_X_y=True)"
      ]
    },
    {
      "cell_type": "code",
      "execution_count": 6,
      "metadata": {
        "id": "R4KtowTuEQ0E",
        "colab": {
          "base_uri": "https://localhost:8080/"
        },
        "outputId": "8e0a6d1f-516c-4918-8d7d-79e8390d7e13"
      },
      "outputs": [
        {
          "output_type": "stream",
          "name": "stdout",
          "text": [
            "(442, 10)\n",
            "<class 'numpy.ndarray'>\n",
            "(442,)\n"
          ]
        }
      ],
      "source": [
        "print(diabetes_X.shape)\n",
        "print(type(diabetes_X))\n",
        "print(y.shape)"
      ]
    },
    {
      "cell_type": "code",
      "execution_count": 7,
      "metadata": {
        "id": "HExxKoU0EQ0F",
        "colab": {
          "base_uri": "https://localhost:8080/"
        },
        "outputId": "0162113d-5a98-478c-931a-b44b208da361"
      },
      "outputs": [
        {
          "output_type": "stream",
          "name": "stdout",
          "text": [
            "(442, 4)\n"
          ]
        }
      ],
      "source": [
        "\n",
        "# Using the jth feature\n",
        "j=[1,2,3,4]\n",
        "X = diabetes_X[:, j] # All Rows of jth column\n",
        "X=X.reshape(diabetes_X.shape[0],len(j)) # To restrict to only desired columns list `j`\n",
        "print(X.shape)\n",
        "# print(type(X))\n",
        "#print(X)\n",
        "\n"
      ]
    },
    {
      "cell_type": "code",
      "source": [
        "# Using all the features\n",
        "X = diabetes_X\n",
        "print(X.shape)\n",
        "#print(type(X))\n",
        "#print(X)"
      ],
      "metadata": {
        "id": "3fnu1GtwD-UU",
        "colab": {
          "base_uri": "https://localhost:8080/"
        },
        "outputId": "b2b3ed23-1d29-4717-a745-5fba9f85b344"
      },
      "execution_count": 8,
      "outputs": [
        {
          "output_type": "stream",
          "name": "stdout",
          "text": [
            "(442, 10)\n"
          ]
        }
      ]
    },
    {
      "cell_type": "code",
      "execution_count": 9,
      "metadata": {
        "id": "uQ6BdYTQEQ0G",
        "colab": {
          "base_uri": "https://localhost:8080/"
        },
        "outputId": "952ff87d-afe7-484b-e7b0-40278670503a"
      },
      "outputs": [
        {
          "output_type": "stream",
          "name": "stdout",
          "text": [
            "Coefficients: \n",
            " [[ -10.01219782]\n",
            " [-239.81908937]\n",
            " [ 519.83978679]\n",
            " [ 324.39042769]\n",
            " [-792.18416163]\n",
            " [ 476.74583782]\n",
            " [ 101.04457032]\n",
            " [ 177.06417623]\n",
            " [ 751.27932109]\n",
            " [  67.62538639]]\n",
            "Intercept: \n",
            " 152.1334841628965\n"
          ]
        }
      ],
      "source": [
        "\n",
        "# Create linear regression object\n",
        "lr = linear_model.LinearRegression()\n",
        "\n",
        "# Train the model using the training sets\n",
        "lr.fit(X, y)\n",
        "\n",
        "# The coefficients\n",
        "w_skl=lr.coef_.reshape(X.shape[1],1)\n",
        "b_skl=lr.intercept_\n",
        "print(\"Coefficients: \\n\", w_skl)\n",
        "print(\"Intercept: \\n\", b_skl)"
      ]
    },
    {
      "cell_type": "code",
      "source": [
        "X_mf=X.T\n",
        "nx,m=X_mf.shape\n",
        "print(\"nx, m\", nx,m)\n",
        "print(\"y \", y.shape)\n",
        "y=y.reshape(1,X_mf.shape[1])\n",
        "print(\"y after reshape \", y.shape)\n",
        "learning_rate=0.001\n",
        "max_iteration=20000\n",
        "# print(X_mf,y)\n",
        "w=np.zeros(nx).reshape(nx,1)\n",
        "J=np.zeros(max_iteration)\n",
        "b=0.0\n",
        "#print(X_mf.shape, y.shape, w.shape,w)\n",
        "for i in range(max_iteration):\n",
        "  yhat=np.dot(w.T,X_mf)+b\n",
        "  # print(\"yhat \", yhat)\n",
        "  J[i]=np.dot((yhat-y),(yhat-y).T)*(0.5*m)\n",
        "  # print(\"yhat \", yhat)\n",
        "  dw=(1/m)*np.dot(X_mf,(yhat-y).T)\n",
        "  db=(1/m)*np.sum((yhat-y), axis=1) # axis=1 : Output rowwise sum \n",
        "  w=w-learning_rate*dw\n",
        "  b=b-learning_rate*db\n",
        "w_model,b_model=w,b\n",
        "print(\"w_skl and w_model \\n\", w_skl.T, \"\\n\",w_model.T)\n",
        "# print(\"w_model and b_model \", w_model, b_model)\n",
        "print(\"w_diff\", 100*(w_model-w_skl)/w_skl)"
      ],
      "metadata": {
        "colab": {
          "base_uri": "https://localhost:8080/"
        },
        "id": "nv214HNlnnAY",
        "outputId": "f9519910-6446-4ba5-9a12-5a874ed8bef1"
      },
      "execution_count": 10,
      "outputs": [
        {
          "output_type": "stream",
          "name": "stdout",
          "text": [
            "nx, m 10 442\n",
            "y  (442,)\n",
            "y after reshape  (1, 442)\n",
            "w_skl and w_model \n",
            " [[ -10.01219782 -239.81908937  519.83978679  324.39042769 -792.18416163\n",
            "   476.74583782  101.04457032  177.06417623  751.27932109   67.62538639]] \n",
            " [[ 12.31317479   2.03555064  40.41043803  30.16989587  13.51478134\n",
            "   10.73956664 -26.74239306  28.61741478  38.59705997  25.64406086]]\n",
            "w_diff [[-222.98173698]\n",
            " [-100.84878591]\n",
            " [ -92.22636684]\n",
            " [ -90.69951105]\n",
            " [-101.70601509]\n",
            " [ -97.74731822]\n",
            " [-126.46593773]\n",
            " [ -83.83782909]\n",
            " [ -94.86248871]\n",
            " [ -62.07923942]]\n"
          ]
        }
      ]
    },
    {
      "cell_type": "code",
      "source": [
        "xPlot=np.linspace(1,max_iteration, num=max_iteration)\n",
        "print(xPlot.shape, J.shape)\n",
        "plt.plot(xPlot,J)"
      ],
      "metadata": {
        "colab": {
          "base_uri": "https://localhost:8080/",
          "height": 311
        },
        "id": "3hUIsBIloTZD",
        "outputId": "1afb5d8e-0af0-447a-b365-8acb968a3ebf"
      },
      "execution_count": 11,
      "outputs": [
        {
          "output_type": "stream",
          "name": "stdout",
          "text": [
            "(20000,) (20000,)\n"
          ]
        },
        {
          "output_type": "execute_result",
          "data": {
            "text/plain": [
              "[<matplotlib.lines.Line2D at 0x7f46c645f4d0>]"
            ]
          },
          "metadata": {},
          "execution_count": 11
        },
        {
          "output_type": "display_data",
          "data": {
            "image/png": "[encoded data removed]",
            "text/plain": [
              "<Figure size 432x288 with 1 Axes>"
            ]
          },
          "metadata": {
            "needs_background": "light"
          }
        }
      ]
    },
    {
      "cell_type": "markdown",
      "source": [
        "There is a lot of difference in the w_skl and w_model. This could be due to the inefficient hyper-parameters or due to the feature scaling."
      ],
      "metadata": {
        "id": "uEhZ3rx9cMF8"
      }
    },
    {
      "cell_type": "code",
      "source": [
        "import pandas as pd\n",
        "df = pd.DataFrame(X)\n",
        "print(df)\n",
        "print(type(df))"
      ],
      "metadata": {
        "id": "ZfAx9cFlqvbB"
      },
      "execution_count": null,
      "outputs": []
    },
    {
      "cell_type": "code",
      "source": [
        "df.describe()"
      ],
      "metadata": {
        "colab": {
          "base_uri": "https://localhost:8080/",
          "height": 300
        },
        "id": "q5DN2TyGrAVI",
        "outputId": "d693b804-40e7-479d-ec75-5e9e2f76e604"
      },
      "execution_count": 13,
      "outputs": [
        {
          "output_type": "execute_result",
          "data": {
            "text/html": [
              "\n",
              "  <div id=\"df-5cb7fbe6-f2e8-43a4-a4f2-6266a218455f\">\n",
              "    <div class=\"colab-df-container\">\n",
              "      <div>\n",
              "<style scoped>\n",
              "    .dataframe tbody tr th:only-of-type {\n",
              "        vertical-align: middle;\n",
              "    }\n",
              "\n",
              "    .dataframe tbody tr th {\n",
              "        vertical-align: top;\n",
              "    }\n",
              "\n",
              "    .dataframe thead th {\n",
              "        text-align: right;\n",
              "    }\n",
              "</style>\n",
              "<table border=\"1\" class=\"dataframe\">\n",
              "  <thead>\n",
              "    <tr style=\"text-align: right;\">\n",
              "      <th></th>\n",
              "      <th>0</th>\n",
              "      <th>1</th>\n",
              "      <th>2</th>\n",
              "      <th>3</th>\n",
              "      <th>4</th>\n",
              "      <th>5</th>\n",
              "      <th>6</th>\n",
              "      <th>7</th>\n",
              "      <th>8</th>\n",
              "      <th>9</th>\n",
              "    </tr>\n",
              "  </thead>\n",
              "  <tbody>\n",
              "    <tr>\n",
              "      <th>count</th>\n",
              "      <td>4.420000e+02</td>\n",
              "      <td>4.420000e+02</td>\n",
              "      <td>4.420000e+02</td>\n",
              "      <td>4.420000e+02</td>\n",
              "      <td>4.420000e+02</td>\n",
              "      <td>4.420000e+02</td>\n",
              "      <td>4.420000e+02</td>\n",
              "      <td>4.420000e+02</td>\n",
              "      <td>4.420000e+02</td>\n",
              "      <td>4.420000e+02</td>\n",
              "    </tr>\n",
              "    <tr>\n",
              "      <th>mean</th>\n",
              "      <td>-3.634285e-16</td>\n",
              "      <td>1.308343e-16</td>\n",
              "      <td>-8.045349e-16</td>\n",
              "      <td>1.281655e-16</td>\n",
              "      <td>-8.835316e-17</td>\n",
              "      <td>1.327024e-16</td>\n",
              "      <td>-4.574646e-16</td>\n",
              "      <td>3.777301e-16</td>\n",
              "      <td>-3.830854e-16</td>\n",
              "      <td>-3.412882e-16</td>\n",
              "    </tr>\n",
              "    <tr>\n",
              "      <th>std</th>\n",
              "      <td>4.761905e-02</td>\n",
              "      <td>4.761905e-02</td>\n",
              "      <td>4.761905e-02</td>\n",
              "      <td>4.761905e-02</td>\n",
              "      <td>4.761905e-02</td>\n",
              "      <td>4.761905e-02</td>\n",
              "      <td>4.761905e-02</td>\n",
              "      <td>4.761905e-02</td>\n",
              "      <td>4.761905e-02</td>\n",
              "      <td>4.761905e-02</td>\n",
              "    </tr>\n",
              "    <tr>\n",
              "      <th>min</th>\n",
              "      <td>-1.072256e-01</td>\n",
              "      <td>-4.464164e-02</td>\n",
              "      <td>-9.027530e-02</td>\n",
              "      <td>-1.123996e-01</td>\n",
              "      <td>-1.267807e-01</td>\n",
              "      <td>-1.156131e-01</td>\n",
              "      <td>-1.023071e-01</td>\n",
              "      <td>-7.639450e-02</td>\n",
              "      <td>-1.260974e-01</td>\n",
              "      <td>-1.377672e-01</td>\n",
              "    </tr>\n",
              "    <tr>\n",
              "      <th>25%</th>\n",
              "      <td>-3.729927e-02</td>\n",
              "      <td>-4.464164e-02</td>\n",
              "      <td>-3.422907e-02</td>\n",
              "      <td>-3.665645e-02</td>\n",
              "      <td>-3.424784e-02</td>\n",
              "      <td>-3.035840e-02</td>\n",
              "      <td>-3.511716e-02</td>\n",
              "      <td>-3.949338e-02</td>\n",
              "      <td>-3.324879e-02</td>\n",
              "      <td>-3.317903e-02</td>\n",
              "    </tr>\n",
              "    <tr>\n",
              "      <th>50%</th>\n",
              "      <td>5.383060e-03</td>\n",
              "      <td>-4.464164e-02</td>\n",
              "      <td>-7.283766e-03</td>\n",
              "      <td>-5.670611e-03</td>\n",
              "      <td>-4.320866e-03</td>\n",
              "      <td>-3.819065e-03</td>\n",
              "      <td>-6.584468e-03</td>\n",
              "      <td>-2.592262e-03</td>\n",
              "      <td>-1.947634e-03</td>\n",
              "      <td>-1.077698e-03</td>\n",
              "    </tr>\n",
              "    <tr>\n",
              "      <th>75%</th>\n",
              "      <td>3.807591e-02</td>\n",
              "      <td>5.068012e-02</td>\n",
              "      <td>3.124802e-02</td>\n",
              "      <td>3.564384e-02</td>\n",
              "      <td>2.835801e-02</td>\n",
              "      <td>2.984439e-02</td>\n",
              "      <td>2.931150e-02</td>\n",
              "      <td>3.430886e-02</td>\n",
              "      <td>3.243323e-02</td>\n",
              "      <td>2.791705e-02</td>\n",
              "    </tr>\n",
              "    <tr>\n",
              "      <th>max</th>\n",
              "      <td>1.107267e-01</td>\n",
              "      <td>5.068012e-02</td>\n",
              "      <td>1.705552e-01</td>\n",
              "      <td>1.320442e-01</td>\n",
              "      <td>1.539137e-01</td>\n",
              "      <td>1.987880e-01</td>\n",
              "      <td>1.811791e-01</td>\n",
              "      <td>1.852344e-01</td>\n",
              "      <td>1.335990e-01</td>\n",
              "      <td>1.356118e-01</td>\n",
              "    </tr>\n",
              "  </tbody>\n",
              "</table>\n",
              "</div>\n",
              "      <button class=\"colab-df-convert\" onclick=\"convertToInteractive('df-5cb7fbe6-f2e8-43a4-a4f2-6266a218455f')\"\n",
              "              title=\"Convert this dataframe to an interactive table.\"\n",
              "              style=\"display:none;\">\n",
              "        \n",
              "  <svg xmlns=\"http://www.w3.org/2000/svg\" height=\"24px\"viewBox=\"0 0 24 24\"\n",
              "       width=\"24px\">\n",
              "    <path d=\"M0 0h24v24H0V0z\" fill=\"none\"/>\n",
              "    <path d=\"M18.56 5.44l.94 2.06.94-2.06 2.06-.94-2.06-.94-.94-2.06-.94 2.06-2.06.94zm-11 1L8.5 8.5l.94-2.06 2.06-.94-2.06-.94L8.5 2.5l-.94 2.06-2.06.94zm10 10l.94 2.06.94-2.06 2.06-.94-2.06-.94-.94-2.06-.94 2.06-2.06.94z\"/><path d=\"M17.41 7.96l-1.37-1.37c-.4-.4-.92-.59-1.43-.59-.52 0-1.04.2-1.43.59L10.3 9.45l-7.72 7.72c-.78.78-.78 2.05 0 2.83L4 21.41c.39.39.9.59 1.41.59.51 0 1.02-.2 1.41-.59l7.78-7.78 2.81-2.81c.8-.78.8-2.07 0-2.86zM5.41 20L4 18.59l7.72-7.72 1.47 1.35L5.41 20z\"/>\n",
              "  </svg>\n",
              "      </button>\n",
              "      \n",
              "  <style>\n",
              "    .colab-df-container {\n",
              "      display:flex;\n",
              "      flex-wrap:wrap;\n",
              "      gap: 12px;\n",
              "    }\n",
              "\n",
              "    .colab-df-convert {\n",
              "      background-color: #E8F0FE;\n",
              "      border: none;\n",
              "      border-radius: 50%;\n",
              "      cursor: pointer;\n",
              "      display: none;\n",
              "      fill: #1967D2;\n",
              "      height: 32px;\n",
              "      padding: 0 0 0 0;\n",
              "      width: 32px;\n",
              "    }\n",
              "\n",
              "    .colab-df-convert:hover {\n",
              "      background-color: #E2EBFA;\n",
              "      box-shadow: 0px 1px 2px rgba(60, 64, 67, 0.3), 0px 1px 3px 1px rgba(60, 64, 67, 0.15);\n",
              "      fill: #174EA6;\n",
              "    }\n",
              "\n",
              "    [theme=dark] .colab-df-convert {\n",
              "      background-color: #3B4455;\n",
              "      fill: #D2E3FC;\n",
              "    }\n",
              "\n",
              "    [theme=dark] .colab-df-convert:hover {\n",
              "      background-color: #434B5C;\n",
              "      box-shadow: 0px 1px 3px 1px rgba(0, 0, 0, 0.15);\n",
              "      filter: drop-shadow(0px 1px 2px rgba(0, 0, 0, 0.3));\n",
              "      fill: #FFFFFF;\n",
              "    }\n",
              "  </style>\n",
              "\n",
              "      <script>\n",
              "        const buttonEl =\n",
              "          document.querySelector('#df-5cb7fbe6-f2e8-43a4-a4f2-6266a218455f button.colab-df-convert');\n",
              "        buttonEl.style.display =\n",
              "          google.colab.kernel.accessAllowed ? 'block' : 'none';\n",
              "\n",
              "        async function convertToInteractive(key) {\n",
              "          const element = document.querySelector('#df-5cb7fbe6-f2e8-43a4-a4f2-6266a218455f');\n",
              "          const dataTable =\n",
              "            await google.colab.kernel.invokeFunction('convertToInteractive',\n",
              "                                                     [key], {});\n",
              "          if (!dataTable) return;\n",
              "\n",
              "          const docLinkHtml = 'Like what you see? Visit the ' +\n",
              "            '<a target=\"_blank\" href=https://colab.research.google.com/notebooks/data_table.ipynb>data table notebook</a>'\n",
              "            + ' to learn more about interactive tables.';\n",
              "          element.innerHTML = '';\n",
              "          dataTable['output_type'] = 'display_data';\n",
              "          await google.colab.output.renderOutput(dataTable, element);\n",
              "          const docLink = document.createElement('div');\n",
              "          docLink.innerHTML = docLinkHtml;\n",
              "          element.appendChild(docLink);\n",
              "        }\n",
              "      </script>\n",
              "    </div>\n",
              "  </div>\n",
              "  "
            ],
            "text/plain": [
              "                  0             1  ...             8             9\n",
              "count  4.420000e+02  4.420000e+02  ...  4.420000e+02  4.420000e+02\n",
              "mean  -3.634285e-16  1.308343e-16  ... -3.830854e-16 -3.412882e-16\n",
              "std    4.761905e-02  4.761905e-02  ...  4.761905e-02  4.761905e-02\n",
              "min   -1.072256e-01 -4.464164e-02  ... -1.260974e-01 -1.377672e-01\n",
              "25%   -3.729927e-02 -4.464164e-02  ... -3.324879e-02 -3.317903e-02\n",
              "50%    5.383060e-03 -4.464164e-02  ... -1.947634e-03 -1.077698e-03\n",
              "75%    3.807591e-02  5.068012e-02  ...  3.243323e-02  2.791705e-02\n",
              "max    1.107267e-01  5.068012e-02  ...  1.335990e-01  1.356118e-01\n",
              "\n",
              "[8 rows x 10 columns]"
            ]
          },
          "metadata": {},
          "execution_count": 13
        }
      ]
    },
    {
      "cell_type": "markdown",
      "source": [
        "The mean of the data is almost `zero` but standard deviation is not approximately `1`. So, we must normalize the data."
      ],
      "metadata": {
        "id": "1GhBprsArPmJ"
      }
    },
    {
      "cell_type": "code",
      "source": [
        "df.info()"
      ],
      "metadata": {
        "colab": {
          "base_uri": "https://localhost:8080/"
        },
        "id": "uVz0Km4brC6w",
        "outputId": "7e7537c6-5964-4ca6-dc83-a074cfc08858"
      },
      "execution_count": 14,
      "outputs": [
        {
          "output_type": "stream",
          "name": "stdout",
          "text": [
            "<class 'pandas.core.frame.DataFrame'>\n",
            "RangeIndex: 442 entries, 0 to 441\n",
            "Data columns (total 10 columns):\n",
            " #   Column  Non-Null Count  Dtype  \n",
            "---  ------  --------------  -----  \n",
            " 0   0       442 non-null    float64\n",
            " 1   1       442 non-null    float64\n",
            " 2   2       442 non-null    float64\n",
            " 3   3       442 non-null    float64\n",
            " 4   4       442 non-null    float64\n",
            " 5   5       442 non-null    float64\n",
            " 6   6       442 non-null    float64\n",
            " 7   7       442 non-null    float64\n",
            " 8   8       442 non-null    float64\n",
            " 9   9       442 non-null    float64\n",
            "dtypes: float64(10)\n",
            "memory usage: 34.7 KB\n"
          ]
        }
      ]
    },
    {
      "cell_type": "markdown",
      "source": [
        "There is no data with null value."
      ],
      "metadata": {
        "id": "1A_9PjEStURC"
      }
    },
    {
      "cell_type": "code",
      "source": [
        ""
      ],
      "metadata": {
        "id": "hFlZhyjjtKpf"
      },
      "execution_count": null,
      "outputs": []
    }
  ],
  "metadata": {
    "interpreter": {
      "hash": "aee8b7b246df8f9039afb4144a1f6fd8d2ca17a180786b69acc140d282b71a49"
    },
    "kernelspec": {
      "display_name": "Python 3.7.9 64-bit",
      "language": "python",
      "name": "python3"
    },
    "language_info": {
      "codemirror_mode": {
        "name": "ipython",
        "version": 3
      },
      "file_extension": ".py",
      "mimetype": "text/x-python",
      "name": "python",
      "nbconvert_exporter": "python",
      "pygments_lexer": "ipython3",
      "version": "3.7.9"
    },
    "orig_nbformat": 4,
    "colab": {
      "name": "09linearRegressionSKL.ipynb",
      "provenance": [],
      "collapsed_sections": [],
      "include_colab_link": true
    }
  },
  "nbformat": 4,
  "nbformat_minor": 0
}
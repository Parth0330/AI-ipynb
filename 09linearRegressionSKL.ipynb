{
  "cells": [
    {
      "cell_type": "markdown",
      "metadata": {
        "id": "view-in-github",
        "colab_type": "text"
      },
      "source": [
        "<a href=\"https://colab.research.google.com/github/vkjadon/AI-ipynb/blob/master/09linearRegressionSKL.ipynb\" target=\"_parent\"><img src=\"https://colab.research.google.com/assets/colab-badge.svg\" alt=\"Open In Colab\"/></a>"
      ]
    },
    {
      "cell_type": "markdown",
      "source": [
        "### Case Study - 1 (Marks-10)  \n",
        "\n",
        "**Implement the Linear Regression on the Diabetes Dataset of the SciKit-Learn. The parameters obtained must be as close as the parameters obtained using Linear Rgression Method of Linear Model available in SciKit Library. Calculate the accuracy of your model with respect to SciKit model**  "
      ],
      "metadata": {
        "id": "k6iBpZZSBHpd"
      }
    },
    {
      "cell_type": "markdown",
      "source": [
        "## Importing Dataset\n",
        "\n",
        "[Toy SciKit-Learn Dataset](https://scikit-learn.org/stable/datasets/toy_dataset.html)\n",
        "\n"
      ],
      "metadata": {
        "id": "iJSLO2UzE_6p"
      }
    },
    {
      "cell_type": "code",
      "execution_count": 12,
      "metadata": {
        "id": "nUS5ld3CEQ0A"
      },
      "outputs": [],
      "source": [
        "import matplotlib.pyplot as plt\n",
        "from sklearn import datasets, linear_model\n",
        "import numpy as np"
      ]
    },
    {
      "cell_type": "code",
      "execution_count": 2,
      "metadata": {
        "id": "weqvonLuEQ0D"
      },
      "outputs": [],
      "source": [
        "\n",
        "# Load the diabetes dataset\n",
        "diabetes_X, y = datasets.load_diabetes(return_X_y=True)"
      ]
    },
    {
      "cell_type": "code",
      "execution_count": 3,
      "metadata": {
        "id": "R4KtowTuEQ0E",
        "colab": {
          "base_uri": "https://localhost:8080/"
        },
        "outputId": "e637ac6e-84cf-492a-cf73-8e50deb50ba0"
      },
      "outputs": [
        {
          "output_type": "stream",
          "name": "stdout",
          "text": [
            "(442, 10)\n",
            "<class 'numpy.ndarray'>\n",
            "(442,)\n"
          ]
        }
      ],
      "source": [
        "print(diabetes_X.shape)\n",
        "print(type(diabetes_X))\n",
        "print(y.shape)"
      ]
    },
    {
      "cell_type": "code",
      "execution_count": 4,
      "metadata": {
        "id": "HExxKoU0EQ0F",
        "colab": {
          "base_uri": "https://localhost:8080/"
        },
        "outputId": "c919e23a-4f85-4433-a5a5-9d4783acdadb"
      },
      "outputs": [
        {
          "output_type": "stream",
          "name": "stdout",
          "text": [
            "(442, 4)\n"
          ]
        }
      ],
      "source": [
        "\n",
        "# Using the jth feature\n",
        "j=[1,2,3,4]\n",
        "X = diabetes_X[:, j] # All Rows of jth column\n",
        "X=X.reshape(diabetes_X.shape[0],len(j)) # To restrict to only desired columns list `j`\n",
        "print(X.shape)\n",
        "# print(type(X))\n",
        "#print(X)\n",
        "\n"
      ]
    },
    {
      "cell_type": "code",
      "source": [
        "# Using all the features\n",
        "X = diabetes_X\n",
        "print(X.shape)\n",
        "#print(type(X))\n",
        "#print(X)"
      ],
      "metadata": {
        "id": "3fnu1GtwD-UU",
        "colab": {
          "base_uri": "https://localhost:8080/"
        },
        "outputId": "3b63e4dd-9b31-45dc-abaa-8233ff3da553"
      },
      "execution_count": 9,
      "outputs": [
        {
          "output_type": "stream",
          "name": "stdout",
          "text": [
            "(442, 10)\n"
          ]
        }
      ]
    },
    {
      "cell_type": "code",
      "execution_count": 10,
      "metadata": {
        "id": "uQ6BdYTQEQ0G",
        "colab": {
          "base_uri": "https://localhost:8080/"
        },
        "outputId": "20c81b30-276e-4dfe-9aa4-2a663d1d030d"
      },
      "outputs": [
        {
          "output_type": "stream",
          "name": "stdout",
          "text": [
            "Coefficients: \n",
            " [ -10.01219782 -239.81908937  519.83978679  324.39042769 -792.18416163\n",
            "  476.74583782  101.04457032  177.06417623  751.27932109   67.62538639]\n",
            "Intercept: \n",
            " 152.1334841628965\n"
          ]
        }
      ],
      "source": [
        "\n",
        "# Create linear regression object\n",
        "lr = linear_model.LinearRegression()\n",
        "\n",
        "# Train the model using the training sets\n",
        "lr.fit(X, y)\n",
        "\n",
        "# The coefficients\n",
        "w_skl=lr.coef_\n",
        "b_skl=lr.intercept_\n",
        "print(\"Coefficients: \\n\", w_skl)\n",
        "print(\"Intercept: \\n\", b_skl)"
      ]
    },
    {
      "cell_type": "code",
      "source": [
        "X_mf=X.T\n",
        "nx,m=X_mf.shape\n",
        "print(\"nx, m\", nx,m)\n",
        "print(\"y \", y.shape)\n",
        "y=y.reshape(1,X_mf.shape[1])\n",
        "print(\"y after reshape \", y.shape)\n",
        "learning_rate=0.001\n",
        "max_iteration=20000\n",
        "# print(X_mf,y)\n",
        "w=np.zeros(nx).reshape(nx,1)\n",
        "J=np.zeros(max_iteration)\n",
        "b=0.0\n",
        "#print(X_mf.shape, y.shape, w.shape,w)\n",
        "for i in range(max_iteration):\n",
        "  yhat=np.dot(w.T,X_mf)+b\n",
        "  # print(\"yhat \", yhat)\n",
        "  J[i]=np.dot((yhat-y),(yhat-y).T)*(0.5*m)\n",
        "  # print(\"yhat \", yhat)\n",
        "  dw=(1/m)*np.dot(X_mf,(yhat-y).T)\n",
        "  db=(1/m)*np.sum((yhat-y), axis=1) # axis=1 : Output rowwise sum \n",
        "  w=w-learning_rate*dw\n",
        "  b=b-learning_rate*db\n",
        "w_model,b_model=w,b\n",
        "print(\"w_model and b_model \", w_model, b_model)"
      ],
      "metadata": {
        "colab": {
          "base_uri": "https://localhost:8080/"
        },
        "id": "nv214HNlnnAY",
        "outputId": "2757e210-d360-42b9-b62e-2f9c360d1b87"
      },
      "execution_count": 32,
      "outputs": [
        {
          "output_type": "stream",
          "name": "stdout",
          "text": [
            "nx, m 10 442\n",
            "y  (1, 442)\n",
            "y after reshape  (1, 442)\n",
            "w_model and b_model  [[ 12.31317479]\n",
            " [  2.03555064]\n",
            " [ 40.41043803]\n",
            " [ 30.16989587]\n",
            " [ 13.51478134]\n",
            " [ 10.73956664]\n",
            " [-26.74239306]\n",
            " [ 28.61741478]\n",
            " [ 38.59705997]\n",
            " [ 25.64406086]] [152.13348385]\n"
          ]
        }
      ]
    },
    {
      "cell_type": "code",
      "source": [
        "xPlot=np.linspace(1,max_iteration, num=max_iteration)\n",
        "print(xPlot.shape, J.shape)\n",
        "plt.plot(xPlot,J)"
      ],
      "metadata": {
        "colab": {
          "base_uri": "https://localhost:8080/",
          "height": 311
        },
        "id": "3hUIsBIloTZD",
        "outputId": "4b77fa2f-0935-48e3-f677-9bd42008f555"
      },
      "execution_count": 33,
      "outputs": [
        {
          "output_type": "stream",
          "name": "stdout",
          "text": [
            "(20000,) (20000,)\n"
          ]
        },
        {
          "output_type": "execute_result",
          "data": {
            "text/plain": [
              "[<matplotlib.lines.Line2D at 0x7fb8879b8a50>]"
            ]
          },
          "metadata": {},
          "execution_count": 33
        },
        {
          "output_type": "display_data",
          "data": {
            "image/png": "[encoded data removed]",
            "text/plain": [
              "<Figure size 432x288 with 1 Axes>"
            ]
          },
          "metadata": {
            "needs_background": "light"
          }
        }
      ]
    }
  ],
  "metadata": {
    "interpreter": {
      "hash": "aee8b7b246df8f9039afb4144a1f6fd8d2ca17a180786b69acc140d282b71a49"
    },
    "kernelspec": {
      "display_name": "Python 3.7.9 64-bit",
      "language": "python",
      "name": "python3"
    },
    "language_info": {
      "codemirror_mode": {
        "name": "ipython",
        "version": 3
      },
      "file_extension": ".py",
      "mimetype": "text/x-python",
      "name": "python",
      "nbconvert_exporter": "python",
      "pygments_lexer": "ipython3",
      "version": "3.7.9"
    },
    "orig_nbformat": 4,
    "colab": {
      "name": "09linearRegressionSKL.ipynb",
      "provenance": [],
      "include_colab_link": true
    }
  },
  "nbformat": 4,
  "nbformat_minor": 0
}
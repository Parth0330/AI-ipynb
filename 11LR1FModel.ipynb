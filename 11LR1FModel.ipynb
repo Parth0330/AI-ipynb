{
 "cells": [
  {
   "cell_type": "markdown",
   "metadata": {},
   "source": [
    "## Logistic Regression based on Fundamental Approach\n",
    "- Will use `kaggle` dataset of cat.\n",
    "- This is based on the assignment of **Week-2** of **Deep Learning** Course by `Andrew Ng`\n",
    "\n",
    "<img src=\"images/model_lr.png\" style=\"width:600px;text-align:center\">\n"
   ]
  },
  {
   "cell_type": "code",
   "execution_count": 131,
   "metadata": {},
   "outputs": [],
   "source": [
    "import numpy as np\n",
    "import matplotlib.pyplot as plt\n",
    "from sklearn.datasets import make_classification\n",
    "from sklearn.model_selection import train_test_split\n",
    "from sklearn.metrics import confusion_matrix"
   ]
  },
  {
   "cell_type": "code",
   "execution_count": 132,
   "metadata": {},
   "outputs": [],
   "source": [
    "# Generate dataset for Logistic Regression\n",
    "data_set_x_orig, data_set_y_orig = make_classification(n_samples=10000,n_features=1, n_informative=1, n_redundant=0,n_classes=2,\n",
    "    n_clusters_per_class=1,)\n",
    "#print(data_set_x_orig.shape)\n",
    "#print(data_set_x_orig[:,0])"
   ]
  },
  {
   "cell_type": "code",
   "execution_count": 133,
   "metadata": {},
   "outputs": [
    {
     "data": {
      "image/png": "[encoded data removed]",
      "text/plain": [
       "<Figure size 432x288 with 1 Axes>"
      ]
     },
     "metadata": {
      "needs_background": "light"
     },
     "output_type": "display_data"
    }
   ],
   "source": [
    "plt.scatter(data_set_x_orig[:,0], data_set_y_orig, c=data_set_y_orig, cmap='rainbow')\n",
    "plt.title('Scatter Plot of Logistic Regression Data')\n",
    "plt.show()"
   ]
  },
  {
   "cell_type": "code",
   "execution_count": 134,
   "metadata": {},
   "outputs": [],
   "source": [
    "# Split the dataset into training and test dataset\n",
    "x_train, x_test, y_train, y_test = train_test_split(data_set_x_orig, data_set_y_orig, train_size=0.8, test_size=0.2, random_state=1)"
   ]
  },
  {
   "cell_type": "code",
   "execution_count": 135,
   "metadata": {},
   "outputs": [
    {
     "name": "stdout",
     "output_type": "stream",
     "text": [
      "(1, 8000)\n"
     ]
    }
   ],
   "source": [
    "m_train=x_train.shape[0]\n",
    "x_train=x_train.T\n",
    "y_train=y_train.reshape(y_train.shape[0],1).T\n",
    "print(y_train.shape)\n",
    "m_test=x_test.shape[0]\n",
    "x_test=x_test.T\n",
    "y_test=y_test.reshape(y_test.shape[0],1).T\n"
   ]
  },
  {
   "cell_type": "code",
   "execution_count": 136,
   "metadata": {},
   "outputs": [
    {
     "name": "stdout",
     "output_type": "stream",
     "text": [
      "[[ 1.56101142 -0.80840319  0.94656286 ...  1.04077115 -1.22183786\n",
      "  -1.27686428]] (1, 8000)\n",
      "[[1 0 1 ... 1 0 0]] (1, 8000)\n"
     ]
    }
   ],
   "source": [
    "print(x_train, x_train.shape)\n",
    "print(y_train, y_train.shape)"
   ]
  },
  {
   "cell_type": "code",
   "execution_count": 137,
   "metadata": {},
   "outputs": [
    {
     "name": "stdout",
     "output_type": "stream",
     "text": [
      "[[5.0810629]] 3.6751524761699037\n"
     ]
    }
   ],
   "source": [
    "learning_rate=0.05\n",
    "max_iteration=4000\n",
    "\n",
    "w=np.zeros(x_train.shape[0]).reshape(x_train.shape[0],1)\n",
    "cost=np.zeros((max_iteration))\n",
    "b=0.0\n",
    "for i in range(max_iteration):\n",
    "  z=np.dot(w.T, x_train)\n",
    "  A=1/(1+np.exp(-z))\n",
    "  #print(A, A.shape)\n",
    "  cost[i]=-np.sum((y_train*np.log(A)+(1-y_train)*np.log(1-A)),axis=1)/m_train\n",
    "  #print(\" Cost\", cost)\n",
    "  dw=np.dot(x_train,(A-y_train).T)/m_train\n",
    "  db=(np.sum((A-y_train), dtype=np.float64))/m_train\n",
    "  #print(\"Gradients dw, b\", dw,db)\n",
    "  w=w-learning_rate*dw\n",
    "  b=b-learning_rate*db\n",
    "print(w, b)"
   ]
  },
  {
   "cell_type": "code",
   "execution_count": 138,
   "metadata": {},
   "outputs": [
    {
     "name": "stdout",
     "output_type": "stream",
     "text": [
      "Training accuracy: 98.5125 %\n",
      "Testing accuracy: 98.45 %\n"
     ]
    }
   ],
   "source": [
    "#Prediction\n",
    "A=1/(1+np.exp(-np.dot(w.T, x_train)))\n",
    "Y_prediction_train=np.zeros((1,x_train.shape[1]))\n",
    "for i in range(A.shape[1]):\n",
    "  if A[0,i] > 0.5:\n",
    "    Y_prediction_train[0,i]=1\n",
    "  else:\n",
    "    Y_prediction_train[0,i]=0\n",
    "print(\"Training accuracy: {} %\".format(100-np.mean(np.abs(Y_prediction_train-y_train))*100))\n",
    "A=1/(1+np.exp(-np.dot(w.T, x_test)))\n",
    "Y_prediction_test=np.zeros((1,x_test.shape[1]))\n",
    "for i in range(A.shape[1]):\n",
    "  if A[0,i] > 0.5:\n",
    "    Y_prediction_test[0,i]=1\n",
    "  else:\n",
    "    Y_prediction_test[0,i]=0\n",
    "print(\"Testing accuracy: {} %\".format(100-np.mean(np.abs(Y_prediction_test-y_test))*100))\n",
    "# print(y_train)\n"
   ]
  },
  {
   "cell_type": "code",
   "execution_count": 139,
   "metadata": {},
   "outputs": [
    {
     "data": {
      "image/png": "[encoded data removed]",
      "text/plain": [
       "<Figure size 432x288 with 1 Axes>"
      ]
     },
     "metadata": {
      "needs_background": "light"
     },
     "output_type": "display_data"
    }
   ],
   "source": [
    "# Plot learning curve (with costs)\n",
    "plt.plot(cost)\n",
    "plt.ylabel('cost')\n",
    "plt.xlabel('iterations')\n",
    "plt.title(\"Learning rate\")\n",
    "plt.show()"
   ]
  },
  {
   "cell_type": "code",
   "execution_count": 140,
   "metadata": {},
   "outputs": [
    {
     "data": {
      "text/plain": [
       "array([[991,   6],\n",
       "       [ 25, 978]])"
      ]
     },
     "execution_count": 140,
     "metadata": {},
     "output_type": "execute_result"
    }
   ],
   "source": [
    "# Show the Confusion Matrix\n",
    "#print(y_test, Y_prediction_test)\n",
    "confusion_matrix(y_test.T, Y_prediction_test.T)"
   ]
  },
  {
   "cell_type": "code",
   "execution_count": null,
   "metadata": {},
   "outputs": [],
   "source": []
  }
 ],
 "metadata": {
  "interpreter": {
   "hash": "aee8b7b246df8f9039afb4144a1f6fd8d2ca17a180786b69acc140d282b71a49"
  },
  "kernelspec": {
   "display_name": "Python 3.7.9 64-bit",
   "language": "python",
   "name": "python3"
  },
  "language_info": {
   "codemirror_mode": {
    "name": "ipython",
    "version": 3
   },
   "file_extension": ".py",
   "mimetype": "text/x-python",
   "name": "python",
   "nbconvert_exporter": "python",
   "pygments_lexer": "ipython3",
   "version": "3.7.9"
  },
  "orig_nbformat": 4
 },
 "nbformat": 4,
 "nbformat_minor": 2
}

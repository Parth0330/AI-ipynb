{
  "cells": [
    {
      "cell_type": "markdown",
      "metadata": {
        "id": "view-in-github",
        "colab_type": "text"
      },
      "source": [
        "<a href=\"https://colab.research.google.com/github/vkjadon/AI-ipynb/blob/master/11LR1FModel.ipynb\" target=\"_parent\"><img src=\"https://colab.research.google.com/assets/colab-badge.svg\" alt=\"Open In Colab\"/></a>"
      ]
    },
    {
      "cell_type": "markdown",
      "metadata": {
        "id": "5n8U0Pzew2ft"
      },
      "source": [
        "## Logistic Regression based on Fundamental Approach\n",
        "- Will use `sklearn` classification dataset. It will generate random data.\n",
        "- The classification is based on the concept of **Week-2** of **Deep Learning** Course by `Andrew Ng`\n",
        "\n",
        "<img src=\"images/model_lr.png\" style=\"width:600px;text-align:center\">\n"
      ]
    },
    {
      "cell_type": "code",
      "execution_count": 16,
      "metadata": {
        "id": "U-6yqqtrw2fv"
      },
      "outputs": [],
      "source": [
        "import numpy as np\n",
        "import matplotlib.pyplot as plt\n",
        "from sklearn.datasets import make_classification\n",
        "from sklearn.model_selection import train_test_split\n",
        "from sklearn.metrics import confusion_matrix"
      ]
    },
    {
      "cell_type": "code",
      "execution_count": 17,
      "metadata": {
        "id": "Mel0-teUw2fw"
      },
      "outputs": [],
      "source": [
        "# Generate dataset for Logistic Regression\n",
        "data_set_x_orig, data_set_y_orig = make_classification(n_samples=10000,n_features=1, n_informative=1, n_redundant=0,n_classes=2,\n",
        "    n_clusters_per_class=1,)\n",
        "#print(data_set_x_orig.shape)\n",
        "#print(data_set_x_orig[:,0])"
      ]
    },
    {
      "cell_type": "code",
      "execution_count": 18,
      "metadata": {
        "colab": {
          "base_uri": "https://localhost:8080/",
          "height": 281
        },
        "id": "WjrFB1Q8w2fw",
        "outputId": "edaa3c54-b983-479e-fb1b-29b740287a43"
      },
      "outputs": [
        {
          "output_type": "display_data",
          "data": {
            "image/png": "[encoded data removed]",
            "text/plain": [
              "<Figure size 432x288 with 1 Axes>"
            ]
          },
          "metadata": {
            "needs_background": "light"
          }
        }
      ],
      "source": [
        "plt.scatter(data_set_x_orig[:,0], data_set_y_orig, c=data_set_y_orig, cmap='rainbow')\n",
        "plt.title('Scatter Plot of Logistic Regression Data')\n",
        "plt.show()"
      ]
    },
    {
      "cell_type": "code",
      "execution_count": 19,
      "metadata": {
        "id": "s35i45QPw2fy"
      },
      "outputs": [],
      "source": [
        "# Split the dataset into training and test dataset\n",
        "x_train, x_test, y_train, y_test = train_test_split(data_set_x_orig, data_set_y_orig, train_size=0.8, test_size=0.2, random_state=1)"
      ]
    },
    {
      "cell_type": "code",
      "execution_count": 20,
      "metadata": {
        "colab": {
          "base_uri": "https://localhost:8080/"
        },
        "id": "5cHun8Nhw2fy",
        "outputId": "aee67621-8bc9-47ae-b706-fb5effee183e"
      },
      "outputs": [
        {
          "output_type": "stream",
          "name": "stdout",
          "text": [
            "(1, 8000)\n"
          ]
        }
      ],
      "source": [
        "m_train=x_train.shape[0]\n",
        "x_train=x_train.T\n",
        "y_train=y_train.reshape(y_train.shape[0],1).T\n",
        "print(y_train.shape)\n",
        "m_test=x_test.shape[0]\n",
        "x_test=x_test.T\n",
        "y_test=y_test.reshape(y_test.shape[0],1).T\n"
      ]
    },
    {
      "cell_type": "code",
      "execution_count": 21,
      "metadata": {
        "colab": {
          "base_uri": "https://localhost:8080/"
        },
        "id": "fYCGJuZEw2fz",
        "outputId": "f05400fa-de7f-402c-a126-48b2b685ea0a"
      },
      "outputs": [
        {
          "output_type": "stream",
          "name": "stdout",
          "text": [
            "[[-0.81887405 -1.69076738  0.98503102 ... -1.08836659  0.20883473\n",
            "   1.13295299]] (1, 8000)\n",
            "[[0 0 1 ... 0 0 1]] (1, 8000)\n"
          ]
        }
      ],
      "source": [
        "print(x_train, x_train.shape)\n",
        "print(y_train, y_train.shape)"
      ]
    },
    {
      "cell_type": "code",
      "execution_count": 22,
      "metadata": {
        "colab": {
          "base_uri": "https://localhost:8080/"
        },
        "id": "_davZZEEw2f0",
        "outputId": "c02b5529-d8af-49f3-b64a-aa67fc8206e6"
      },
      "outputs": [
        {
          "output_type": "stream",
          "name": "stdout",
          "text": [
            "[[4.88604745]] -5.766857466406752\n"
          ]
        }
      ],
      "source": [
        "learning_rate=0.005\n",
        "max_iteration=40000\n",
        "\n",
        "w=np.zeros(x_train.shape[0]).reshape(x_train.shape[0],1)\n",
        "cost=np.zeros((max_iteration))\n",
        "b=0.0\n",
        "for i in range(max_iteration):\n",
        "  z=np.dot(w.T, x_train)\n",
        "  A=1/(1+np.exp(-z))\n",
        "  #print(A, A.shape)\n",
        "  cost[i]=-np.sum((y_train*np.log(A)+(1-y_train)*np.log(1-A)),axis=1)/m_train\n",
        "  #print(\" Cost\", cost)\n",
        "  dw=np.dot(x_train,(A-y_train).T)/m_train\n",
        "  db=(np.sum((A-y_train), dtype=np.float64))/m_train\n",
        "  #print(\"Gradients dw, b\", dw,db)\n",
        "  w=w-learning_rate*dw\n",
        "  b=b-learning_rate*db\n",
        "print(w, b)"
      ]
    },
    {
      "cell_type": "code",
      "execution_count": 23,
      "metadata": {
        "colab": {
          "base_uri": "https://localhost:8080/"
        },
        "id": "2jbG1tn-w2f1",
        "outputId": "74c8e191-b2ff-41cf-f391-a4fb3323377f"
      },
      "outputs": [
        {
          "output_type": "stream",
          "name": "stdout",
          "text": [
            "Training accuracy: 97.6125 %\n",
            "Testing accuracy: 97.75 %\n"
          ]
        }
      ],
      "source": [
        "#Prediction\n",
        "A=1/(1+np.exp(-np.dot(w.T, x_train)))\n",
        "Y_prediction_train=np.zeros((1,x_train.shape[1]))\n",
        "for i in range(A.shape[1]):\n",
        "  if A[0,i] > 0.5:\n",
        "    Y_prediction_train[0,i]=1\n",
        "  else:\n",
        "    Y_prediction_train[0,i]=0\n",
        "print(\"Training accuracy: {} %\".format(100-np.mean(np.abs(Y_prediction_train-y_train))*100))\n",
        "A=1/(1+np.exp(-np.dot(w.T, x_test)))\n",
        "Y_prediction_test=np.zeros((1,x_test.shape[1]))\n",
        "for i in range(A.shape[1]):\n",
        "  if A[0,i] > 0.5:\n",
        "    Y_prediction_test[0,i]=1\n",
        "  else:\n",
        "    Y_prediction_test[0,i]=0\n",
        "print(\"Testing accuracy: {} %\".format(100-np.mean(np.abs(Y_prediction_test-y_test))*100))\n",
        "# print(y_train)\n"
      ]
    },
    {
      "cell_type": "code",
      "execution_count": 24,
      "metadata": {
        "colab": {
          "base_uri": "https://localhost:8080/",
          "height": 295
        },
        "id": "PEo4L2wyw2f1",
        "outputId": "567d0468-cf74-49a4-933e-f4b80d083df3"
      },
      "outputs": [
        {
          "output_type": "display_data",
          "data": {
            "image/png": "[encoded data removed]",
            "text/plain": [
              "<Figure size 432x288 with 1 Axes>"
            ]
          },
          "metadata": {
            "needs_background": "light"
          }
        }
      ],
      "source": [
        "# Plot learning curve (with costs)\n",
        "plt.plot(cost)\n",
        "plt.ylabel('cost')\n",
        "plt.xlabel('iterations')\n",
        "plt.title(\"Learning rate\")\n",
        "plt.show()"
      ]
    },
    {
      "cell_type": "code",
      "execution_count": 25,
      "metadata": {
        "colab": {
          "base_uri": "https://localhost:8080/"
        },
        "id": "QH-5aMerw2f2",
        "outputId": "39c86c78-5794-4c37-c551-d5754d11b32b"
      },
      "outputs": [
        {
          "output_type": "execute_result",
          "data": {
            "text/plain": [
              "array([[ 942,   41],\n",
              "       [   4, 1013]])"
            ]
          },
          "metadata": {},
          "execution_count": 25
        }
      ],
      "source": [
        "# Show the Confusion Matrix\n",
        "#print(y_test, Y_prediction_test)\n",
        "confusion_matrix(y_test.T, Y_prediction_test.T)"
      ]
    }
  ],
  "metadata": {
    "interpreter": {
      "hash": "aee8b7b246df8f9039afb4144a1f6fd8d2ca17a180786b69acc140d282b71a49"
    },
    "kernelspec": {
      "display_name": "Python 3.7.9 64-bit",
      "language": "python",
      "name": "python3"
    },
    "language_info": {
      "codemirror_mode": {
        "name": "ipython",
        "version": 3
      },
      "file_extension": ".py",
      "mimetype": "text/x-python",
      "name": "python",
      "nbconvert_exporter": "python",
      "pygments_lexer": "ipython3",
      "version": "3.7.9"
    },
    "orig_nbformat": 4,
    "colab": {
      "name": "11LR1FModel.ipynb",
      "provenance": [],
      "collapsed_sections": [],
      "include_colab_link": true
    }
  },
  "nbformat": 4,
  "nbformat_minor": 0
}
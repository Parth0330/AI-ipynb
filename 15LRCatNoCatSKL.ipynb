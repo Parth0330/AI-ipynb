{
  "cells": [
    {
      "cell_type": "markdown",
      "metadata": {
        "id": "view-in-github",
        "colab_type": "text"
      },
      "source": [
        "<a href=\"https://colab.research.google.com/github/vkjadon/AI-ipynb/blob/master/15LRCatNoCatSKL.ipynb\" target=\"_parent\"><img src=\"https://colab.research.google.com/assets/colab-badge.svg\" alt=\"Open In Colab\"/></a>"
      ]
    },
    {
      "cell_type": "markdown",
      "metadata": {
        "id": "ZN1AxlLcYzpr"
      },
      "source": [
        "## Image Classification: SKLearn Logistic Regression Model\n",
        "- Will use `kaggle` dataset of cat."
      ]
    },
    {
      "cell_type": "code",
      "execution_count": null,
      "metadata": {
        "id": "wVRCOL1zYzpz"
      },
      "outputs": [],
      "source": [
        "%matplotlib inline\n",
        "import numpy as np\n",
        "import h5py\n",
        "import matplotlib.pyplot as plt\n",
        "from sklearn.linear_model import LogisticRegression\n",
        "from sklearn.metrics import confusion_matrix"
      ]
    },
    {
      "cell_type": "markdown",
      "metadata": {
        "id": "xeMlf8vVYzp0"
      },
      "source": [
        "### Fetch Dataset from Kaggle\n",
        "- Import data from Kaggle\n",
        "- Use <a href=\"https://www.kaggle.com/muhammeddalkran/catvnoncat\" target=\"_blank\"> this Link </a>  \n",
        "\n",
        "To represent color images, the red, green and blue channels (RGB) must be specified for each pixel, and so the pixel value is actually a vector of three numbers ranging from 0 to 255."
      ]
    },
    {
      "cell_type": "code",
      "source": [
        "!ls"
      ],
      "metadata": {
        "colab": {
          "base_uri": "https://localhost:8080/"
        },
        "id": "-a1r15D2bExS",
        "outputId": "efee92ea-437f-484b-818a-4354c95ef850"
      },
      "execution_count": null,
      "outputs": [
        {
          "output_type": "stream",
          "name": "stdout",
          "text": [
            "sample_data\n"
          ]
        }
      ]
    },
    {
      "cell_type": "code",
      "source": [
        "!pwd"
      ],
      "metadata": {
        "colab": {
          "base_uri": "https://localhost:8080/"
        },
        "id": "IWQAgoF0azq5",
        "outputId": "2929051e-0e63-4725-c915-c70f3d9c53ec"
      },
      "execution_count": null,
      "outputs": [
        {
          "output_type": "stream",
          "name": "stdout",
          "text": [
            "/content\n"
          ]
        }
      ]
    },
    {
      "cell_type": "code",
      "source": [
        "% cd drive/MyDrive/Colab Notebooks/AI-ipynb"
      ],
      "metadata": {
        "colab": {
          "base_uri": "https://localhost:8080/"
        },
        "id": "FQ-Sv8GObRSQ",
        "outputId": "48d85fee-594c-41a4-f45a-ee9e7382f0be"
      },
      "execution_count": null,
      "outputs": [
        {
          "output_type": "stream",
          "name": "stdout",
          "text": [
            "[Errno 2] No such file or directory: 'drive/MyDrive/Colab Notebooks/AI-ipynb'\n",
            "/content\n"
          ]
        }
      ]
    },
    {
      "cell_type": "markdown",
      "source": [
        "It throw error because the drive is not accessible to the colab. For this we have to mount the drive using the `Mount Drive` icon. It will ask for the permission which we have to allow so that Colab can access the Drive."
      ],
      "metadata": {
        "id": "Z_3fC425CoJh"
      }
    },
    {
      "cell_type": "code",
      "source": [
        "from google.colab import drive\n",
        "drive.mount('/content/drive')"
      ],
      "metadata": {
        "colab": {
          "base_uri": "https://localhost:8080/"
        },
        "id": "5jiR3yjlC9pQ",
        "outputId": "3d14fcb2-5cf1-4fb3-ec4e-fe373508f30d"
      },
      "execution_count": null,
      "outputs": [
        {
          "output_type": "stream",
          "name": "stdout",
          "text": [
            "Mounted at /content/drive\n"
          ]
        }
      ]
    },
    {
      "cell_type": "code",
      "source": [
        "% cd drive/MyDrive/Colab Notebooks/AI-ipynb"
      ],
      "metadata": {
        "colab": {
          "base_uri": "https://localhost:8080/"
        },
        "id": "YcAELBsVDedB",
        "outputId": "205a80f7-3261-4499-a2ab-f4cc4c7502e7"
      },
      "execution_count": null,
      "outputs": [
        {
          "output_type": "stream",
          "name": "stdout",
          "text": [
            "/content/drive/MyDrive/Colab Notebooks/AI-ipynb\n"
          ]
        }
      ]
    },
    {
      "cell_type": "code",
      "execution_count": null,
      "metadata": {
        "id": "CX4rHs7XYzp1"
      },
      "outputs": [],
      "source": [
        "# Loading the data (cat/non-cat) from the File downloaded from the Kaggle\n",
        "train_dataset = h5py.File('datasets/train_catvnoncat.h5', \"r\")\n",
        "test_dataset = h5py.File('datasets/test_catvnoncat.h5', \"r\")"
      ]
    },
    {
      "cell_type": "code",
      "source": [
        "for key in train_dataset.keys():\n",
        "    print(key) #Names of the groups in HDF5 file."
      ],
      "metadata": {
        "colab": {
          "base_uri": "https://localhost:8080/"
        },
        "id": "OSx1p-AQHfh-",
        "outputId": "3197bc8a-7015-4cf4-c901-9844dd52ec15"
      },
      "execution_count": null,
      "outputs": [
        {
          "output_type": "stream",
          "name": "stdout",
          "text": [
            "list_classes\n",
            "train_set_x\n",
            "train_set_y\n"
          ]
        }
      ]
    },
    {
      "cell_type": "code",
      "execution_count": null,
      "metadata": {
        "id": "rG9-lrWiYzp4"
      },
      "outputs": [],
      "source": [
        "train_set_x_orig = np.array(train_dataset[\"train_set_x\"][:]) # your train set features\n",
        "train_set_y = np.array(train_dataset[\"train_set_y\"][:]) # your train set labels"
      ]
    },
    {
      "cell_type": "code",
      "source": [
        "print(train_set_x_orig.shape)\n",
        "print(train_set_y.shape)"
      ],
      "metadata": {
        "colab": {
          "base_uri": "https://localhost:8080/"
        },
        "id": "UymNw8NiEClg",
        "outputId": "d194b517-8b4f-4562-db52-8d6624d4d3c4"
      },
      "execution_count": null,
      "outputs": [
        {
          "output_type": "stream",
          "name": "stdout",
          "text": [
            "(209, 64, 64, 3)\n",
            "(209,)\n"
          ]
        }
      ]
    },
    {
      "cell_type": "code",
      "execution_count": null,
      "metadata": {
        "id": "xwM1Ls4cYzp5"
      },
      "outputs": [],
      "source": [
        "test_set_x_orig = np.array(test_dataset[\"test_set_x\"][:]) # your test set features\n",
        "test_set_y = np.array(test_dataset[\"test_set_y\"][:]) # your test set labels"
      ]
    },
    {
      "cell_type": "code",
      "execution_count": null,
      "metadata": {
        "id": "JnJeOzIbYzp5",
        "colab": {
          "base_uri": "https://localhost:8080/",
          "height": 285
        },
        "outputId": "aa139301-3c4e-4374-e075-9fbc3975e631"
      },
      "outputs": [
        {
          "output_type": "execute_result",
          "data": {
            "text/plain": [
              "<matplotlib.image.AxesImage at 0x7f1e467c6ad0>"
            ]
          },
          "metadata": {},
          "execution_count": 40
        },
        {
          "output_type": "display_data",
          "data": {
            "image/png": "[encoded data removed]",
            "text/plain": [
              "<Figure size 432x288 with 1 Axes>"
            ]
          },
          "metadata": {
            "needs_background": "light"
          }
        }
      ],
      "source": [
        "index = 1\n",
        "plt.imshow(test_set_x_orig[index])"
      ]
    },
    {
      "cell_type": "markdown",
      "metadata": {
        "id": "78dSBEbpYzp9"
      },
      "source": [
        "The shape of **`X`** matrix is $\\mathcal {(nx, m)}$ where each columns represents the features of each training set; \n",
        "\n",
        "Where,   \n",
        "\n",
        "$\\mathcal {nx=px * py * 3}$ for the images as input and $m$ is the training examples.\n",
        "\n",
        "\n",
        "\n",
        "So, we have to reshape to `train_set_x_orig` to `(nx,m_train)`. This will be achieved in two steps:   \n",
        "\n",
        "***Step-1*** : Respahe `train_set_x_orig` to `(train_set_x_orig.shape[0],-1)`. -1 is used for unknown number of columns (known presently as `nx`)   \n",
        "***Step-2*** : Transpose the matrix to get the desired dimension `(nx, m)`."
      ]
    },
    {
      "cell_type": "code",
      "execution_count": null,
      "metadata": {
        "id": "Eip4rstaYzqA"
      },
      "outputs": [],
      "source": [
        "train_set_x_flatten=train_set_x_orig.reshape(train_set_x_orig.shape[0],-1)\n",
        "test_set_x_flatten=test_set_x_orig.reshape (test_set_x_orig.shape[0],-1)"
      ]
    },
    {
      "cell_type": "code",
      "execution_count": null,
      "metadata": {
        "id": "Ft1tMpilYzqB",
        "colab": {
          "base_uri": "https://localhost:8080/"
        },
        "outputId": "4d4da1be-456f-4846-da68-b487681a58ca"
      },
      "outputs": [
        {
          "output_type": "execute_result",
          "data": {
            "text/plain": [
              "(209, 12288)"
            ]
          },
          "metadata": {},
          "execution_count": 57
        }
      ],
      "source": [
        "train_set_x_flatten.shape"
      ]
    },
    {
      "cell_type": "markdown",
      "metadata": {
        "id": "mnZCf5pqYzqB"
      },
      "source": [
        "Optimizing the parameters is best suited on the data of the same range. Let's normalize our dataset with the maximum possible pixel value i.e. 255."
      ]
    },
    {
      "cell_type": "code",
      "source": [
        "X_train=train_set_x_flatten/255\n",
        "y_train=train_set_y"
      ],
      "metadata": {
        "id": "eFrMeDeDa7Q3"
      },
      "execution_count": null,
      "outputs": []
    },
    {
      "cell_type": "code",
      "source": [
        "lr = LogisticRegression(max_iter=1000)\n",
        "lr.fit(train_set_x_flatten, train_set_y)"
      ],
      "metadata": {
        "colab": {
          "base_uri": "https://localhost:8080/"
        },
        "id": "MUCWa4Y8YpIo",
        "outputId": "b3d440b8-f07b-460f-d6ff-ff1621839210"
      },
      "execution_count": null,
      "outputs": [
        {
          "output_type": "execute_result",
          "data": {
            "text/plain": [
              "LogisticRegression(max_iter=1000)"
            ]
          },
          "metadata": {},
          "execution_count": 62
        }
      ]
    },
    {
      "cell_type": "code",
      "source": [
        "# Show to Coeficient and Intercept\n",
        "print(lr.coef_)\n",
        "print(lr.intercept_)"
      ],
      "metadata": {
        "colab": {
          "base_uri": "https://localhost:8080/"
        },
        "id": "p6pXXfg_b3CP",
        "outputId": "a88da90f-d908-497d-d980-0e833f621355"
      },
      "execution_count": null,
      "outputs": [
        {
          "output_type": "stream",
          "name": "stdout",
          "text": [
            "[[ 0.00028927 -0.00063329 -0.00023835 ... -0.00038367 -0.00060272\n",
            "   0.00086182]]\n",
            "[-1.91293815e-06]\n"
          ]
        }
      ]
    },
    {
      "cell_type": "code",
      "source": [
        "X_test=test_set_x_flatten/255\n",
        "y_test=test_set_y"
      ],
      "metadata": {
        "id": "Yb9LnuBOcIy4"
      },
      "execution_count": null,
      "outputs": []
    },
    {
      "cell_type": "code",
      "source": [
        "y_pred = lr.predict(X_test)\n",
        "print(y_pred)"
      ],
      "metadata": {
        "colab": {
          "base_uri": "https://localhost:8080/"
        },
        "id": "rsuENZc2cBan",
        "outputId": "e13bd204-530d-4361-b638-eeef57ad2248"
      },
      "execution_count": null,
      "outputs": [
        {
          "output_type": "stream",
          "name": "stdout",
          "text": [
            "[1 1 1 1 1 0 0 1 1 1 0 0 1 1 0 1 0 1 0 0 1 0 0 1 0 1 1 0 0 1 0 1 1 1 0 0 0\n",
            " 1 0 0 1 0 1 0 1 1 0 1 1 0]\n"
          ]
        }
      ]
    },
    {
      "cell_type": "code",
      "source": [
        "# Show the Confusion Matrix\n",
        "confusion_matrix(y_test, y_pred)"
      ],
      "metadata": {
        "colab": {
          "base_uri": "https://localhost:8080/"
        },
        "id": "ajUxw2cncYmF",
        "outputId": "ebc6d003-5365-447e-e989-d54d3dd9e033"
      },
      "execution_count": null,
      "outputs": [
        {
          "output_type": "execute_result",
          "data": {
            "text/plain": [
              "array([[13,  4],\n",
              "       [10, 23]])"
            ]
          },
          "metadata": {},
          "execution_count": 69
        }
      ]
    },
    {
      "cell_type": "markdown",
      "source": [
        "SKLearn Confusion matrix represnts the count on the basis of the element indices (00, 01, 10, 11). In general it can be $i,j$ where $i$ is the actual label (True/Flase) and $j$ is the predicted state (Positive/Negative)    \n",
        "- 00 represnts the True Negative\n",
        "- 01 represnts the Flase Positive\n",
        "- 10 represnts the False Negative\n",
        "- 11 represents the True Positive\n"
      ],
      "metadata": {
        "id": "5YFmweFpeO9C"
      }
    },
    {
      "cell_type": "markdown",
      "source": [
        "So, TN=13; FP=4; FN=10; TP=11.  \n",
        "\n",
        "Total Positive Predictions = 27;   \n",
        "Total Negative Predictions = 23;  \n",
        "\n",
        "We can count the output of the prediction array to verify the same."
      ],
      "metadata": {
        "id": "5wFlxxnlfTa-"
      }
    }
  ],
  "metadata": {
    "interpreter": {
      "hash": "aee8b7b246df8f9039afb4144a1f6fd8d2ca17a180786b69acc140d282b71a49"
    },
    "kernelspec": {
      "display_name": "Python 3.7.9 64-bit",
      "language": "python",
      "name": "python3"
    },
    "language_info": {
      "codemirror_mode": {
        "name": "ipython",
        "version": 3
      },
      "file_extension": ".py",
      "mimetype": "text/x-python",
      "name": "python",
      "nbconvert_exporter": "python",
      "pygments_lexer": "ipython3",
      "version": "3.7.9"
    },
    "orig_nbformat": 4,
    "colab": {
      "name": "15LRCatNoCatSKL.ipynb",
      "provenance": [],
      "collapsed_sections": [],
      "include_colab_link": true
    }
  },
  "nbformat": 4,
  "nbformat_minor": 0
}
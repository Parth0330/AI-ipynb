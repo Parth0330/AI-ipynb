{
 "cells": [
  {
   "cell_type": "markdown",
   "metadata": {},
   "source": [
    "## 2 Layer Neural Network"
   ]
  },
  {
   "cell_type": "markdown",
   "metadata": {},
   "source": [
    "<img src=\"images/nn2l.png\" style=\"width:400px;text-align:center\">"
   ]
  },
  {
   "cell_type": "markdown",
   "metadata": {},
   "source": [
    "Input Feature vector for $i^{th}$ training example:\n",
    "$\\mathbf{x}^{(i)} = \\mathbf{a}^{[0](i)} = \\begin{pmatrix}\n",
    "  {x}_1^{(i)} \\\\ {x}_2^{(i)} \\\\ \\vdots \\\\ {x}_{nx}^{(i)}\n",
    " \\end{pmatrix}=\\begin{pmatrix}\n",
    "  {a}_1^{[0](i)} \\\\ {a}_2^{[0](i)} \\\\ \\vdots \\\\ {a}_{nx}^{[0](i)}\n",
    " \\end{pmatrix} $   \n",
    "\n",
    "Input Feature vector of the problem dataset:   \n",
    "\n",
    "$ \\mathbf{X} = \\mathbf{A}^{[0]}= \\begin{pmatrix}\n",
    "\\mathbf{x}^{(1)} & \\mathbf{x}^{(2)} & \\cdots & \\mathbf{x}^{(i)}\n",
    "\\end{pmatrix}$   \n",
    "\n",
    "$ \\mathbf{X} = \\mathbf{A}^{[0]} = \\begin{pmatrix}\n",
    "{x}_1^{(1)} & {x}_1^{(2)} & \\cdots & {x}_1^{(m)} \\\\ \n",
    "{x}_2^{(1)} & {x}_2^{(2)} & \\cdots & {x}_2^{(m)} \\\\ \n",
    "\\vdots & \\vdots & \\cdots & \\vdots \\\\ \n",
    "{x}_{nx}^{(1)} & {x}_{nx}^{(1)} & \\cdots & {x}_{nx}^{(m)}\n",
    "\\end{pmatrix}, \\mathbf{X} \\in \\Reals ^{nx \\times m}$  \n",
    "\n",
    "**Let the input features be 3.**\n"
   ]
  },
  {
   "cell_type": "markdown",
   "metadata": {},
   "source": [
    "\n",
    "Hidden Layer-1 Parameters :  \n",
    "\n",
    "$ z^{[1](i)}_1 = w_{11}^{[1]}x^{(i)}_1+w_{12}^{[1]}x^{(i)}_2+w_{13}^{[1]}x^{(i)}_3 + b^{[1]}_1; a_1^{[1](i)}=\\sigma z^{[1](i)}_1 $  \n",
    "\n",
    "$ z^{[1](i)}_2 = w_{21}^{[1]}x^{(i)}_1+w_{22}^{[1]}x^{(i)}_2+w_{23}^{[1]}x^{(i)}_3 + b^{[1]}_2; a_2^{[1](i)}=\\sigma z^{[1](i)}_2 $  \n",
    "\n",
    "$ z^{[1](i)}_3 = w_{31}^{[1]}x^{(i)}_1+w_{32}^{[1]}x^{(i)}_2+w_{33}^{[1]}x^{(i)}_3 + b^{[1]}_3; a_3^{[1](i)}=\\sigma z^{[1](i)}_3 $  \n",
    "\n",
    "$ z^{[1](i)}_4 = w_{41}^{[1]}x^{(i)}_1+w_{42}^{[1]}x^{(i)}_2+w_{43}^{[1]}x^{(i)}_3 + b^{[1]}_4; a_4^{[1](i)}=\\sigma z^{[1](i)}_4 $  \n"
   ]
  },
  {
   "cell_type": "markdown",
   "metadata": {},
   "source": [
    "$ z^{[1](i)}_1 = \\mathbf{w}_1^{[1]T}\\mathbf{x}^{(i)} + b^{[1]}_1 $  \n",
    "\n",
    "$ z^{[1](i)}_2 = \\mathbf{w}_2^{[1]T}\\mathbf{x}^{(i)} + b^{[1]}_2 $  \n",
    "\n",
    "$ z^{[1](i)}_3 = \\mathbf{w}_3^{[1]T}\\mathbf{x}^{(i)} + b^{[1]}_3 $  \n",
    "\n",
    "$ z^{[1](i)}_4 = \\mathbf{w}_4^{[1]T}\\mathbf{x}^{(i)} + b^{[1]}_4 $  \n"
   ]
  },
  {
   "cell_type": "markdown",
   "metadata": {},
   "source": [
    "$\\mathbf{z}^{[1](i)} = \\begin{pmatrix}\n",
    "  {z}_1^{[1](i)} \\\\ {z}_2^{[1](i)} \\\\ z_3^{[1](i)} \\\\ {z}_{4}^{[1](i)}\n",
    " \\end{pmatrix}; \\mathbf{W}^{[1]} = \\begin{pmatrix}\n",
    "  \\mathbf{w}_1^{[1]T} \\\\ \\mathbf{w}_2^{[1]T} \\\\ \\mathbf{w}_3^{[1]T} \\\\ \\mathbf{w}_{4}^{[1]T}\n",
    " \\end{pmatrix}= \\begin{pmatrix}\n",
    "  w_{11}^{[1]} & w_{12}^{[1]} & w_{13}^{[1]} \\\\ \n",
    "  w_{21}^{[1]} & w_{22}^{[1]} & w_{23}^{[1]} \\\\\n",
    "  w_{31}^{[1]} & w_{32}^{[1]} & w_{33}^{[1]} \\\\\n",
    "  w_{41}^{[1]} & w_{42}^{[1]} & w_{43}^{[1]} \n",
    "  \\end{pmatrix};\n",
    "  \\mathbf{b}^{[1]} = \\begin{pmatrix}\n",
    "  {b}_1^{[1]} \\\\ {b}_2^{[1]} \\\\ b_3^{[1]} \\\\ {b}_{4}^{[1]}\n",
    " \\end{pmatrix}$ "
   ]
  },
  {
   "cell_type": "markdown",
   "metadata": {},
   "source": [
    "$$\\mathbf{z}^{[1](i)} = \\mathbf{w}^{[1]} \\mathbf{x}^{(i)} + \\mathbf{b}^{[1]}$$"
   ]
  },
  {
   "cell_type": "markdown",
   "metadata": {},
   "source": [
    "**From m training examples**  \n",
    "\n",
    "$ \\mathbf{Z}^{[1]} = \\begin{pmatrix}\n",
    "z^{[1](1)}_1 & z^{[1](2)}_1 & \\cdots & z^{[1](m)}_1\\\\\n",
    "z^{[1](1)}_2 & z^{[1](2)}_2 & \\cdots & z^{[1](m)}_2\\\\\n",
    "z^{[1](1)}_3 & z^{[1](2)}_3 & \\cdots & z^{[1](m)}_3\\\\\n",
    "z^{[1](1)}_4 & z^{[1](2)}_4 & \\cdots & z^{[1](m)}_4\n",
    "\\end{pmatrix}$"
   ]
  },
  {
   "cell_type": "markdown",
   "metadata": {},
   "source": [
    "$ \\mathbf{Z}^{[1]} = \\begin{pmatrix}\n",
    "\\mathbf{z}^{[1](1)} & \\mathbf{z}^{[1](2)} & \\cdots & \\mathbf{z}^{[1](m)}\n",
    "\\end{pmatrix}$  \n",
    "\n",
    "$ \\mathbf{Z}^{[1]} = \\begin{pmatrix}\n",
    "\\mathbf{W}^{[1]} \\mathbf{x}^{(1)} + \\mathbf{b}^{[1]} & \\mathbf{W}^{[1]} \\mathbf{x}^{(2)} + \\mathbf{b}^{[1]} & \\cdots & \\mathbf{W}^{[1]} \\mathbf{x}^{(m)} + \\mathbf{b}^{[1]}\n",
    "\\end{pmatrix}$ \n"
   ]
  },
  {
   "cell_type": "markdown",
   "metadata": {},
   "source": [
    "First Layer  \n",
    "\n",
    "$ \\mathbf{Z}^{[1]} = \\mathbf{W}^{[1]} \\mathbf{X} + \\mathbf{b}^{[1]}$ \n",
    "\n",
    "$ \\mathbf{A}^{[1]}=\\sigma (\\mathbf{Z}^{[1]}) $  \n",
    "\n",
    "Second Layer  \n",
    "\n",
    "$ \\mathbf{Z}^{[2]} = \\mathbf{W}^{[2]} \\mathbf{A}^{[1]} + \\mathbf{b}^{[2]}$ \n",
    "\n",
    "$ \\mathbf{A}^{[2]}=\\sigma (\\mathbf{Z}^{[2]}) $  "
   ]
  },
  {
   "cell_type": "markdown",
   "metadata": {},
   "source": [
    "\n",
    "Considering input features as activation of zeroth layer.\n"
   ]
  },
  {
   "cell_type": "markdown",
   "metadata": {},
   "source": []
  }
 ],
 "metadata": {
  "language_info": {
   "name": "python"
  },
  "orig_nbformat": 4
 },
 "nbformat": 4,
 "nbformat_minor": 2
}

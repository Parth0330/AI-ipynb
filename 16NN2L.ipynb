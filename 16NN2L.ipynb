{
  "cells": [
    {
      "cell_type": "markdown",
      "metadata": {
        "id": "view-in-github",
        "colab_type": "text"
      },
      "source": [
        "<a href=\"https://colab.research.google.com/github/vkjadon/AI-ipynb/blob/master/16NN2L.ipynb\" target=\"_parent\"><img src=\"https://colab.research.google.com/assets/colab-badge.svg\" alt=\"Open In Colab\"/></a>"
      ]
    },
    {
      "cell_type": "markdown",
      "metadata": {
        "id": "wbCs-NMNliBk"
      },
      "source": [
        "## 2 Layered Neural Network Representation"
      ]
    },
    {
      "cell_type": "markdown",
      "metadata": {
        "id": "tOu1j-zeliBo"
      },
      "source": [
        "<table><tr>\n",
        "<td><img src=\"https://vijayonline.in/images/nn2L.png\"></td>\n",
        "<td><img src=\"https://vijayonline.in/images/model_lr.png\"></td>\n",
        "</tr></table>\n"
      ]
    },
    {
      "cell_type": "markdown",
      "metadata": {
        "id": "RBv6ga6kliBp"
      },
      "source": [
        "Input Feature vector for $i^{th}$ training example:\n",
        "$\\mathbf{x}^{(i)} = \\mathbf{a}^{[0](i)} = \\begin{pmatrix}\n",
        "  {x}_1^{(i)} \\\\ {x}_2^{(i)} \\\\ \\vdots \\\\ {x}_{nx}^{(i)}\n",
        " \\end{pmatrix}=\\begin{pmatrix}\n",
        "  {a}_1^{[0](i)} \\\\ {a}_2^{[0](i)} \\\\ \\vdots \\\\ {a}_{nx}^{[0](i)}\n",
        " \\end{pmatrix} $   \n",
        "\n",
        "Input Feature vector of the problem dataset:   \n",
        "\n",
        "$ \\mathbf{X} = \\mathbf{A}^{[0]}= \\begin{pmatrix}\n",
        "\\mathbf{x}^{(1)} & \\mathbf{x}^{(2)} & \\cdots & \\mathbf{x}^{(i)}\n",
        "\\end{pmatrix}$   \n",
        "\n",
        "$ \\mathbf{X} = \\mathbf{A}^{[0]} = \\begin{pmatrix}\n",
        "{x}_1^{(1)} & {x}_1^{(2)} & \\cdots & {x}_1^{(m)} \\\\ \n",
        "{x}_2^{(1)} & {x}_2^{(2)} & \\cdots & {x}_2^{(m)} \\\\ \n",
        "\\vdots & \\vdots & \\cdots & \\vdots \\\\ \n",
        "{x}_{nx}^{(1)} & {x}_{nx}^{(1)} & \\cdots & {x}_{nx}^{(m)}\n",
        "\\end{pmatrix}, \\mathbf{X} \\in \\mathbf R ^{nx \\times m}$  \n",
        "\n",
        "**Let the input features be 3 to develop the intuition about the forward and backward propogation.**\n"
      ]
    },
    {
      "cell_type": "markdown",
      "metadata": {
        "id": "S_afENyeliBq"
      },
      "source": [
        "\n",
        "## Hidden Layer-1 Parameters :  "
      ]
    },
    {
      "cell_type": "markdown",
      "metadata": {
        "id": "9xYS_bAtliBu"
      },
      "source": [
        "\n",
        "Considering input features as activation of zeroth layer.\n"
      ]
    },
    {
      "cell_type": "markdown",
      "source": [
        "### Layer-1  Node-1 \n",
        "<table><tr>\n",
        "\n",
        "<td width=\"30%\"><img src=\"https://vijayonline.in/images/shallowNN-L1N1.png\"></td>\n",
        "<td>\n",
        "$ z^{[1](i)}_1 = w_{11}^{[1]}x^{(i)}_1+w_{12}^{[1]}x^{(i)}_2+w_{13}^{[1]}x^{(i)}_3 + b^{[1]}_1 $   \n",
        "\n",
        "$ \\mathbf z^{[1](i)}_1 = \\mathbf{w}_1^{[1]T}\\mathbf{x}^{(i)} + b^{[1]}_1 $  \n",
        "\n",
        "$ \\mathbf z^{[1](i)}_1 = \\mathbf{w}_1^{[1]T}\\mathbf{a}^{[0](i)} + b^{[1]}_1 $  \n",
        "\n",
        "$\\mathbf a_1^{[1](i)}=g \\mathbf z^{[1](i)}_1 $\n",
        "</td>\n",
        "</tr></table>\n"
      ],
      "metadata": {
        "id": "gaje5iX5V5oi"
      }
    },
    {
      "cell_type": "markdown",
      "source": [
        "### Layer-1  Node-2 \n",
        "<table><tr>\n",
        "\n",
        "<td width=\"30%\"><img src=\"https://vijayonline.in/images/shallowNN-L1N2.png\"></td>\n",
        "<td>\n",
        "$ z^{[1](i)}_2 = w_{21}^{[1]}x^{(i)}_1+w_{22}^{[1]}x^{(i)}_2+w_{23}^{[1]}x^{(i)}_3 + b^{[1]}_2 $   \n",
        "\n",
        "$ z^{[1](i)}_2 = \\mathbf{w}_2^{[1]T}\\mathbf{x}^{(i)} + b^{[1]}_2 $   \n",
        "\n",
        "$ z^{[1](i)}_2 = \\mathbf{w}_2^{[1]T}\\mathbf{a}^{[0](i)} + b^{[1]}_2 $   \n",
        "\n",
        "$a_2^{[1](i)}=\\sigma z^{[1](i)}_2 $\n",
        "</td>\n",
        "</tr></table>\n"
      ],
      "metadata": {
        "id": "_1ZC26EkQ_xh"
      }
    },
    {
      "cell_type": "markdown",
      "source": [
        "### Layer-1  Node-3 \n",
        "<table><tr>\n",
        "\n",
        "<td width=\"30%\"><img src=\"https://vijayonline.in/images/shallowNN-L1N3.png\"></td>\n",
        "<td>\n",
        "$ z^{[1](i)}_3 = w_{31}^{[1]}x^{(i)}_1+w_{32}^{[1]}x^{(i)}_2+w_{33}^{[1]}x^{(i)}_3 + b^{[1]}_3 $   \n",
        "\n",
        "$ z^{[1](i)}_3 = \\mathbf{w}_3^{[1]T}\\mathbf{x}^{(i)} + b^{[1]}_3 $  \n",
        "\n",
        "$ z^{[1](i)}_3 = \\mathbf{w}_3^{[1]T}\\mathbf{a}^{[0](i)} + b^{[1]}_3 $  \n",
        "\n",
        "$a_3^{[1](i)}=\\sigma z^{[1](i)}_3 $\n",
        "</td>\n",
        "</tr></table>\n"
      ],
      "metadata": {
        "id": "81aKKmKLRDx7"
      }
    },
    {
      "cell_type": "markdown",
      "source": [
        "### Layer-1  Node-4 \n",
        "<table><tr>\n",
        "\n",
        "<td width=\"30%\"><img src=\"https://vijayonline.in/images/shallowNN-L1N4.png\"></td>\n",
        "<td>\n",
        "$ z^{[1](i)}_4 = w_{41}^{[1]}x^{(i)}_1+w_{42}^{[1]}x^{(i)}_2+w_{43}^{[1]}x^{(i)}_3 + b^{[1]}_4 $   \n",
        "\n",
        "$ z^{[1](i)}_4 = \\mathbf{w}_4^{[1]T}\\mathbf{x}^{(i)} + b^{[1]}_4 $  \n",
        "\n",
        "$ z^{[1](i)}_4 = \\mathbf{w}_4^{[1]T}\\mathbf{a}^{[0](i)} + b^{[1]}_4 $  \n",
        "\n",
        "$a_4^{[1](i)}=\\sigma z^{[1](i)}_4 $\n",
        "</td>\n",
        "</tr></table>\n"
      ],
      "metadata": {
        "id": "kd5-qKYkRG_s"
      }
    },
    {
      "cell_type": "markdown",
      "source": [
        "$ z^{[1](i)}_1 = w_{11}^{[1]}x^{(i)}_1+w_{12}^{[1]}x^{(i)}_2+w_{13}^{[1]}x^{(i)}_3 + b^{[1]}_1 $   \n",
        "$ z^{[1](i)}_2 = w_{21}^{[1]}x^{(i)}_1+w_{22}^{[1]}x^{(i)}_2+w_{23}^{[1]}x^{(i)}_3 + b^{[1]}_2 $   \n",
        "$ z^{[1](i)}_3 = w_{31}^{[1]}x^{(i)}_1+w_{32}^{[1]}x^{(i)}_2+w_{33}^{[1]}x^{(i)}_3 + b^{[1]}_3 $   \n",
        "$ z^{[1](i)}_4 = w_{41}^{[1]}x^{(i)}_1+w_{42}^{[1]}x^{(i)}_2+w_{43}^{[1]}x^{(i)}_3 + b^{[1]}_4 $   \n"
      ],
      "metadata": {
        "id": "SMm0IUQlaTwo"
      }
    },
    {
      "cell_type": "markdown",
      "metadata": {
        "id": "u7va57lXliBr"
      },
      "source": [
        "$\\mathbf{z}^{[1](i)} = \\begin{pmatrix}\n",
        "  {z}_1^{[1](i)} \\\\ {z}_2^{[1](i)} \\\\ z_3^{[1](i)} \\\\ {z}_{4}^{[1](i)}\n",
        " \\end{pmatrix}; \\mathbf{W}^{[1]} = \\begin{pmatrix}\n",
        "  w_{11}^{[1]} & w_{12}^{[1]} & w_{13}^{[1]} \\\\ \n",
        "  w_{21}^{[1]} & w_{22}^{[1]} & w_{23}^{[1]} \\\\\n",
        "  w_{31}^{[1]} & w_{32}^{[1]} & w_{33}^{[1]} \\\\\n",
        "  w_{41}^{[1]} & w_{42}^{[1]} & w_{43}^{[1]} \n",
        "  \\end{pmatrix}; \\mathbf{x}^{(i)} = \\begin{pmatrix}\n",
        "  {x}_1^{(i)} \\\\ {x}_2^{(i)} \\\\ \\vdots \\\\ {x}_{nx}^{(i)}\n",
        " \\end{pmatrix}; \\mathbf{b}^{[1]} = \\begin{pmatrix}\n",
        "  {b}_1^{[1]} \\\\ {b}_2^{[1]} \\\\ b_3^{[1]} \\\\ {b}_{4}^{[1]}\n",
        " \\end{pmatrix}$ "
      ]
    },
    {
      "cell_type": "markdown",
      "source": [
        "$\\mathbf{W}^{[1]} = \\begin{pmatrix}\n",
        "  \\mathbf{w}_1^{[1]T} \\\\ \\mathbf{w}_2^{[1]T} \\\\ \\mathbf{w}_3^{[1]T} \\\\ \\mathbf{w}_{4}^{[1]T}\n",
        " \\end{pmatrix};\n",
        " \\mathbf W^{[1]}.\\text shape()=(n_h, n_h-1) $"
      ],
      "metadata": {
        "id": "lmiC9eq5bDib"
      }
    },
    {
      "cell_type": "markdown",
      "metadata": {
        "id": "R3DqL8Q9liBr"
      },
      "source": [
        "$$\\mathbf{z}^{[1](i)} = \\mathbf{W}^{[1]} \\mathbf{x}^{(i)} + \\mathbf{b}^{[1]}$$"
      ]
    },
    {
      "cell_type": "markdown",
      "metadata": {
        "id": "rBEGyO8gliBs"
      },
      "source": [
        "**From m training examples**  \n",
        "\n",
        "$ \\mathbf{Z}^{[1]} = \\begin{pmatrix}\n",
        "z^{[1](1)}_1 & z^{[1](2)}_1 & \\cdots & z^{[1](m)}_1\\\\\n",
        "z^{[1](1)}_2 & z^{[1](2)}_2 & \\cdots & z^{[1](m)}_2\\\\\n",
        "z^{[1](1)}_3 & z^{[1](2)}_3 & \\cdots & z^{[1](m)}_3\\\\\n",
        "z^{[1](1)}_4 & z^{[1](2)}_4 & \\cdots & z^{[1](m)}_4\n",
        "\\end{pmatrix}$"
      ]
    },
    {
      "cell_type": "markdown",
      "metadata": {
        "id": "lV-gHfgWliBt"
      },
      "source": [
        "$ \\mathbf{Z}^{[1]} = \\begin{pmatrix}\n",
        "\\mathbf{z}^{[1](1)} & \\mathbf{z}^{[1](2)} & \\cdots & \\mathbf{z}^{[1](m)}\n",
        "\\end{pmatrix}$  \n",
        "\n",
        "$ \\mathbf{Z}^{[1]} = \\begin{pmatrix}\n",
        "\\mathbf{W}^{[1]} \\mathbf{x}^{(1)} + \\mathbf{b}^{[1]} & \\mathbf{W}^{[1]} \\mathbf{x}^{(2)} + \\mathbf{b}^{[1]} & \\cdots & \\mathbf{W}^{[1]} \\mathbf{x}^{(m)} + \\mathbf{b}^{[1]}\n",
        "\\end{pmatrix}$ \n"
      ]
    },
    {
      "cell_type": "markdown",
      "metadata": {
        "id": "ZdWWoG9SliBt"
      },
      "source": [
        "### Vectorized Linear Part\n",
        "$ \\mathbf{Z}^{[1]} = \\mathbf{W}^{[1]} \\mathbf{X} + \\mathbf{b}^{[1]}$ \n",
        "\n",
        "### Vectorized Activation Part\n",
        "$ \\mathbf{A}^{[1]}=\\sigma (\\mathbf{Z}^{[1]}) $    "
      ]
    },
    {
      "cell_type": "markdown",
      "source": [
        "## Second Layer: Output Layer"
      ],
      "metadata": {
        "id": "EPpcSb-EVisk"
      }
    },
    {
      "cell_type": "markdown",
      "source": [
        "### Layer-2  Node-1 \n",
        "<table><tr>\n",
        "\n",
        "<td width=\"30%\"><img src=\"https://vijayonline.in/images/shallowNN-L2N1.png\"></td>\n",
        "<td>\n",
        "$ z^{[2](i)}_1 = w_{11}^{[2]}a^{[1](i)}_1+w_{12}^{[2]}a^{[1](i)}_2+w_{13}^{[2]}a^{[1](i)}_3 + w_{14}^{[2]}a^{[1](i)}_4 + b^{[2]}_1 $   \n",
        "\n",
        "$ z^{[1](i)}_4 = \\mathbf{w}_4^{[1]T}\\mathbf{x}^{(i)} + b^{[1]}_4 $  \n",
        "\n",
        "$ z^{[1](i)}_4 = \\mathbf{w}_4^{[1]T}\\mathbf{a}^{[0](i)} + b^{[1]}_4 $  \n",
        "\n",
        "$a_4^{[1](i)}=\\sigma z^{[1](i)}_4 $\n",
        "</td>\n",
        "</tr></table>\n"
      ],
      "metadata": {
        "id": "nE7-NZNbjbUu"
      }
    },
    {
      "cell_type": "markdown",
      "source": [
        "### Linear Part\n",
        "\n",
        "$ \\mathbf{Z}^{[2]} = \\mathbf{W}^{[2]} \\mathbf{A}^{[1]} + \\mathbf{b}^{[2]}$ \n",
        "\n",
        "### Activation Part\n",
        "\n",
        "$ \\mathbf{A}^{[2]}=\\sigma (\\mathbf{Z}^{[2]}) $"
      ],
      "metadata": {
        "id": "qFzcL17OhAmI"
      }
    }
  ],
  "metadata": {
    "language_info": {
      "name": "python"
    },
    "orig_nbformat": 4,
    "colab": {
      "name": "16NN2L.ipynb",
      "provenance": [],
      "collapsed_sections": [
        "wbCs-NMNliBk"
      ],
      "toc_visible": true,
      "include_colab_link": true
    },
    "kernelspec": {
      "name": "python3",
      "display_name": "Python 3"
    }
  },
  "nbformat": 4,
  "nbformat_minor": 0
}
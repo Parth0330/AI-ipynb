{
  "nbformat": 4,
  "nbformat_minor": 0,
  "metadata": {
    "colab": {
      "name": "25DNNCatNoCat.ipynb",
      "provenance": [],
      "collapsed_sections": [],
      "mount_file_id": "1x_xQz-komXFyG7Hq7zanW7dlG__GhwdU",
      "authorship_tag": "ABX9TyPRu7qEzaKKNej5Llc1XaoG",
      "include_colab_link": true
    },
    "kernelspec": {
      "name": "python3",
      "display_name": "Python 3"
    },
    "language_info": {
      "name": "python"
    }
  },
  "cells": [
    {
      "cell_type": "markdown",
      "metadata": {
        "id": "view-in-github",
        "colab_type": "text"
      },
      "source": [
        "<a href=\"https://colab.research.google.com/github/vkjadon/AI-ipynb/blob/master/25DNNCatNoCat.ipynb\" target=\"_parent\"><img src=\"https://colab.research.google.com/assets/colab-badge.svg\" alt=\"Open In Colab\"/></a>"
      ]
    },
    {
      "cell_type": "code",
      "execution_count": 5,
      "metadata": {
        "id": "RHAWZonkPIwA"
      },
      "outputs": [],
      "source": [
        "import numpy as np\n",
        "import h5py\n",
        "import matplotlib.pyplot as plt"
      ]
    },
    {
      "cell_type": "code",
      "source": [
        "%matplotlib inline\n",
        "plt.rcParams['figure.figsize'] = (5.0, 4.0) # set default size of plots\n",
        "plt.rcParams['image.interpolation'] = 'nearest'\n",
        "plt.rcParams['image.cmap'] = 'gray'\n",
        "\n",
        "%load_ext autoreload\n",
        "%autoreload 2"
      ],
      "metadata": {
        "id": "1TlXEa8LPlxK"
      },
      "execution_count": 6,
      "outputs": []
    },
    {
      "cell_type": "code",
      "source": [
        "% cd drive/MyDrive/Colab Notebooks/AI-ipynb"
      ],
      "metadata": {
        "colab": {
          "base_uri": "https://localhost:8080/"
        },
        "id": "UpMAUoDRQMAr",
        "outputId": "8013d7cc-b4ef-4bf0-b7fe-bd1efdb52697"
      },
      "execution_count": 3,
      "outputs": [
        {
          "output_type": "stream",
          "name": "stdout",
          "text": [
            "/content/drive/MyDrive/Colab Notebooks/AI-ipynb\n"
          ]
        }
      ]
    },
    {
      "cell_type": "code",
      "source": [
        "# Loading the data (cat/non-cat) from the File downloaded from the Kaggle\n",
        "train_dataset = h5py.File('datasets/train_catvnoncat.h5', \"r\")\n",
        "test_dataset = h5py.File('datasets/test_catvnoncat.h5', \"r\")"
      ],
      "metadata": {
        "id": "U37He0EfPs2j"
      },
      "execution_count": 7,
      "outputs": []
    },
    {
      "cell_type": "code",
      "source": [
        "for key in train_dataset.keys():\n",
        "    print(key) #Names of the groups in HDF5 file."
      ],
      "metadata": {
        "colab": {
          "base_uri": "https://localhost:8080/"
        },
        "id": "x_kFTBlWQKB3",
        "outputId": "e6ffc704-a3c5-4092-acfe-facb9588069a"
      },
      "execution_count": 8,
      "outputs": [
        {
          "output_type": "stream",
          "name": "stdout",
          "text": [
            "list_classes\n",
            "train_set_x\n",
            "train_set_y\n"
          ]
        }
      ]
    },
    {
      "cell_type": "code",
      "source": [
        "train_set_x_orig = np.array(train_dataset[\"train_set_x\"][:]) # your train set features\n",
        "train_set_y = np.array(train_dataset[\"train_set_y\"][:]) # your train set labels"
      ],
      "metadata": {
        "id": "anc_H0DVRIL6"
      },
      "execution_count": 9,
      "outputs": []
    },
    {
      "cell_type": "code",
      "source": [
        "print(train_set_x_orig.shape)\n",
        "print(train_set_y.shape)"
      ],
      "metadata": {
        "colab": {
          "base_uri": "https://localhost:8080/"
        },
        "id": "fLJIi8FVRMJd",
        "outputId": "de0e372e-f8bf-42c4-ef6b-ce888f16eeb6"
      },
      "execution_count": 10,
      "outputs": [
        {
          "output_type": "stream",
          "name": "stdout",
          "text": [
            "(209, 64, 64, 3)\n",
            "(209,)\n"
          ]
        }
      ]
    },
    {
      "cell_type": "code",
      "source": [
        "test_set_x_orig = np.array(test_dataset[\"test_set_x\"][:]) # your test set features\n",
        "test_set_y = np.array(test_dataset[\"test_set_y\"][:]) # your test set labels"
      ],
      "metadata": {
        "id": "tbFbx4R0RPbJ"
      },
      "execution_count": 11,
      "outputs": []
    },
    {
      "cell_type": "code",
      "source": [
        "index = 10\n",
        "plt.imshow(test_set_x_orig[index])"
      ],
      "metadata": {
        "colab": {
          "base_uri": "https://localhost:8080/",
          "height": 286
        },
        "id": "iK4PBwsIRTAW",
        "outputId": "a109dea4-592a-47bc-f573-7c0c6554fcca"
      },
      "execution_count": 12,
      "outputs": [
        {
          "output_type": "execute_result",
          "data": {
            "text/plain": [
              "<matplotlib.image.AxesImage at 0x7f48db68d750>"
            ]
          },
          "metadata": {},
          "execution_count": 12
        },
        {
          "output_type": "display_data",
          "data": {
            "image/png": "[encoded data removed]",
            "text/plain": [
              "<Figure size 360x288 with 1 Axes>"
            ]
          },
          "metadata": {
            "needs_background": "light"
          }
        }
      ]
    },
    {
      "cell_type": "code",
      "source": [
        "for key in test_dataset.keys():\n",
        "    print(key) #Names of the groups in HDF5 file."
      ],
      "metadata": {
        "colab": {
          "base_uri": "https://localhost:8080/"
        },
        "id": "HCz60hIYSlZJ",
        "outputId": "ad13606f-4715-45c1-921d-a11c35b660eb"
      },
      "execution_count": 13,
      "outputs": [
        {
          "output_type": "stream",
          "name": "stdout",
          "text": [
            "list_classes\n",
            "test_set_x\n",
            "test_set_y\n"
          ]
        }
      ]
    },
    {
      "cell_type": "code",
      "source": [
        "test_dataset[\"list_classes\"]"
      ],
      "metadata": {
        "colab": {
          "base_uri": "https://localhost:8080/"
        },
        "id": "S1oyEG-nSvV4",
        "outputId": "9098a4c0-0465-445b-8c5f-2f338750f4df"
      },
      "execution_count": 14,
      "outputs": [
        {
          "output_type": "execute_result",
          "data": {
            "text/plain": [
              "<HDF5 dataset \"list_classes\": shape (2,), type \"|S7\">"
            ]
          },
          "metadata": {},
          "execution_count": 14
        }
      ]
    },
    {
      "cell_type": "code",
      "source": [
        "classes = np.array(test_dataset[\"list_classes\"][:]) # the list of classes"
      ],
      "metadata": {
        "id": "Nn963AyWScBN"
      },
      "execution_count": 15,
      "outputs": []
    },
    {
      "cell_type": "code",
      "source": [
        "print(classes)"
      ],
      "metadata": {
        "colab": {
          "base_uri": "https://localhost:8080/"
        },
        "id": "WHT5pl9kS0-v",
        "outputId": "5a55f41e-5f22-4a7a-84d8-6bd3ee42a36d"
      },
      "execution_count": 16,
      "outputs": [
        {
          "output_type": "stream",
          "name": "stdout",
          "text": [
            "[b'non-cat' b'cat']\n"
          ]
        }
      ]
    },
    {
      "cell_type": "code",
      "source": [
        "# Explore your dataset \n",
        "m_train = train_set_x_orig.shape[0]\n",
        "num_px = train_set_x_orig.shape[1]\n",
        "m_test = test_set_x_orig.shape[0]\n",
        "\n",
        "print (\"Number of training examples: \" + str(m_train))\n",
        "print (\"Number of testing examples: \" + str(m_test))\n",
        "print (\"Each image is of size: (\" + str(num_px) + \", \" + str(num_px) + \", 3)\")\n",
        "print (\"train_x_orig shape: \" + str(train_set_x_orig.shape))\n",
        "print (\"train_y shape: \" + str(train_set_y.shape))\n",
        "print (\"test_x_orig shape: \" + str(test_set_x_orig.shape))\n",
        "print (\"test_y shape: \" + str(test_set_y.shape))"
      ],
      "metadata": {
        "colab": {
          "base_uri": "https://localhost:8080/"
        },
        "id": "HxBzx1YTS3HK",
        "outputId": "b93002f1-29e0-4e87-c62f-08c5c9e3d855"
      },
      "execution_count": 17,
      "outputs": [
        {
          "output_type": "stream",
          "name": "stdout",
          "text": [
            "Number of training examples: 209\n",
            "Number of testing examples: 50\n",
            "Each image is of size: (64, 64, 3)\n",
            "train_x_orig shape: (209, 64, 64, 3)\n",
            "train_y shape: (209,)\n",
            "test_x_orig shape: (50, 64, 64, 3)\n",
            "test_y shape: (50,)\n"
          ]
        }
      ]
    },
    {
      "cell_type": "code",
      "source": [
        "# Reshape the training and test examples \n",
        "train_set_x_flatten=train_set_x_orig.reshape(train_set_x_orig.shape[0],-1)\n",
        "test_set_x_flatten=test_set_x_orig.reshape (test_set_x_orig.shape[0],-1)"
      ],
      "metadata": {
        "id": "6uK1TFXpT3gb"
      },
      "execution_count": 18,
      "outputs": []
    },
    {
      "cell_type": "code",
      "source": [
        "# Standardize data to have feature values between 0 and 1.\n",
        "train_x = train_set_x_flatten/255.\n",
        "test_x = test_set_x_flatten/255.\n",
        "print (\"train_x's shape: \" + str(train_x.shape))\n",
        "print (\"test_x's shape: \" + str(test_x.shape))"
      ],
      "metadata": {
        "colab": {
          "base_uri": "https://localhost:8080/"
        },
        "id": "OFxtue1nUOz9",
        "outputId": "5de0ac16-c208-400e-f228-d5807b404f6b"
      },
      "execution_count": 19,
      "outputs": [
        {
          "output_type": "stream",
          "name": "stdout",
          "text": [
            "train_x's shape: (209, 12288)\n",
            "test_x's shape: (50, 12288)\n"
          ]
        }
      ]
    },
    {
      "cell_type": "code",
      "source": [
        "X=train_x.T\n",
        "Y=train_set_y.reshape(1,m_train)"
      ],
      "metadata": {
        "id": "NAdAS284Y9t6"
      },
      "execution_count": 20,
      "outputs": []
    },
    {
      "cell_type": "markdown",
      "source": [
        "- Use random initialization for the weight matrices. Use `np.random.randn(shape) * 0.01`.\n",
        "- Use zeros initialization for the biases. Use `np.zeros(shape)`.\n"
      ],
      "metadata": {
        "id": "-yFYRtaJQOht"
      }
    },
    {
      "cell_type": "code",
      "source": [
        "def initialize_parameters(n):\n",
        "    np.random.seed(1)\n",
        "    parameters = {}\n",
        "    L = len(n) # number of layers in the network\n",
        "\n",
        "    for l in range(1, L):\n",
        "        parameters['W' + str(l)] = np.random.randn(n[l], n[l-1]) / np.sqrt(n[l-1]) #*0.01\n",
        "        parameters[\"b\" + str(l)] = np.zeros((n[l], 1))        \n",
        "        print(l,L)\n",
        "        assert(parameters['W' + str(l)].shape == (n[l], n[l - 1]))\n",
        "        assert(parameters['b' + str(l)].shape == (n[l], 1))\n",
        "\n",
        "    return parameters"
      ],
      "metadata": {
        "id": "G3m4x-g_X05_"
      },
      "execution_count": 21,
      "outputs": []
    },
    {
      "cell_type": "code",
      "source": [
        "# layers_dims = [12288, 20, 7, 5, 1] #  4-layer model\n",
        "n=np.array([X.shape[0], 20, 7, 5, Y.shape[0]])\n",
        "print(n)\n",
        "parameters=initialize_parameters(n)\n",
        "# print(parameters)\n",
        "print(parameters[\"W1\"].shape, parameters[\"W2\"].shape, parameters[\"W3\"].shape, parameters[\"W4\"].shape) "
      ],
      "metadata": {
        "colab": {
          "base_uri": "https://localhost:8080/"
        },
        "id": "2GvSNFLfWIeh",
        "outputId": "4ef87eb1-6a86-4bd1-afed-2d815f9ea206"
      },
      "execution_count": 23,
      "outputs": [
        {
          "output_type": "stream",
          "name": "stdout",
          "text": [
            "[12288    20     7     5     1]\n",
            "1 5\n",
            "2 5\n",
            "3 5\n",
            "4 5\n",
            "(20, 12288) (7, 20) (5, 7) (1, 5)\n"
          ]
        }
      ]
    },
    {
      "cell_type": "markdown",
      "source": [
        "## Forward Propagation\n",
        "\n",
        "Layer $l$ takes $a[l-1]$ as input and give $a[l]$ as output. To compute this, we need to compute $z[l]$. The computation $z[l]$ requires $W[l]$ and $b[l]$.   \n",
        "The vectorized python implementation can be done using:    \n",
        "\n",
        "$Z[l]=np.dot(W[l],A[l-1])+b[l]$.  \n",
        "\n",
        "This is also called hidden unit linear output. This is further passed through activation function $g(Z[l])$ to give activation output $A[l]$.    \n",
        "\n",
        "$A[l]=g(Z[l])$.  \n",
        "\n",
        "In this example, we will be using RELU as activation function all the layer except the last layer. The sigmoid activation function is the correct choice for logistic regression for the last layer, i.e. $l=L$.  \n",
        "\n"
      ],
      "metadata": {
        "id": "GX4wtoH-RvjB"
      }
    },
    {
      "cell_type": "code",
      "source": [
        "def forward_propagation(X, parameters):\n",
        "    A = X\n",
        "    L = len(parameters)//2 # Double slash operator returns floor of the float output as integer    \n",
        "    for l in range(1, L):\n",
        "      A_prev = A\n",
        "      W=parameters['W' + str(l)]\n",
        "      b=parameters['b' + str(l)]\n",
        "      Z=np.dot(W,A_prev)+b\n",
        "      A= np.maximum(0,Z)\n",
        "      # print(l,L, A)    \n",
        "    W=parameters['W' + str(L)]\n",
        "    b=parameters['b' + str(L)]\n",
        "    Z=np.dot(W,A)+b\n",
        "    AL=1/(1+np.exp(-Z))\n",
        "    return AL,A"
      ],
      "metadata": {
        "id": "p1ihsNYPaCmN"
      },
      "execution_count": 24,
      "outputs": []
    },
    {
      "cell_type": "code",
      "source": [
        "AL,A1=forward_propagation(X, parameters)\n",
        "print(AL.shape)"
      ],
      "metadata": {
        "colab": {
          "base_uri": "https://localhost:8080/"
        },
        "id": "IcwmiBgcx-_9",
        "outputId": "285ddcf9-bee6-4ff2-8659-07a38aca2953"
      },
      "execution_count": 25,
      "outputs": [
        {
          "output_type": "stream",
          "name": "stdout",
          "text": [
            "(1, 209)\n"
          ]
        }
      ]
    },
    {
      "cell_type": "code",
      "source": [
        "def compute_cost(AL, Y):\n",
        "    m = Y.shape[1]\n",
        "    cost = (-1 / m) * np.sum(np.dot(Y, np.log(AL).T) + np.dot(1 - Y, np.log(1 - AL).T))\n",
        "    cost = np.squeeze(cost)\n",
        "    return cost"
      ],
      "metadata": {
        "id": "MD6JqbBD_AmL"
      },
      "execution_count": 26,
      "outputs": []
    },
    {
      "cell_type": "code",
      "source": [
        "cost = compute_cost(AL, Y)\n",
        "\n",
        "print(\"Cost: \" + str(cost))\n"
      ],
      "metadata": {
        "colab": {
          "base_uri": "https://localhost:8080/"
        },
        "id": "DjTLK-1z_TUO",
        "outputId": "445ff5d2-67a2-4c47-f16b-31867ad28f49"
      },
      "execution_count": 27,
      "outputs": [
        {
          "output_type": "stream",
          "name": "stdout",
          "text": [
            "Cost: 0.7717493284237686\n"
          ]
        }
      ]
    },
    {
      "cell_type": "code",
      "source": [
        "A = np.array([[1, 2], [3, 4]])\n",
        "print('axis=1 and keepdims=True')\n",
        "print(np.sum(A, axis=1, keepdims=True))\n",
        "print('axis=1 and keepdims=False')\n",
        "print(np.sum(A, axis=1, keepdims=False))\n",
        "print('axis=0 and keepdims=True')\n",
        "print(np.sum(A, axis=0, keepdims=True))\n",
        "print('axis=0 and keepdims=False')\n",
        "print(np.sum(A, axis=0, keepdims=False))"
      ],
      "metadata": {
        "id": "MyI1975ILGGh",
        "colab": {
          "base_uri": "https://localhost:8080/"
        },
        "outputId": "9fc0d1a4-6227-490b-e59c-e26f767cc8ab"
      },
      "execution_count": 28,
      "outputs": [
        {
          "output_type": "stream",
          "name": "stdout",
          "text": [
            "axis=1 and keepdims=True\n",
            "[[3]\n",
            " [7]]\n",
            "axis=1 and keepdims=False\n",
            "[3 7]\n",
            "axis=0 and keepdims=True\n",
            "[[4 6]]\n",
            "axis=0 and keepdims=False\n",
            "[4 6]\n"
          ]
        }
      ]
    },
    {
      "cell_type": "markdown",
      "source": [
        "## Backward Propagation"
      ],
      "metadata": {
        "id": "tjWcL-AvUtk1"
      }
    }
  ]
}